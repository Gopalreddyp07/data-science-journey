{
 "cells": [
  {
   "cell_type": "markdown",
   "id": "4220e993-f044-43b1-a294-89422d2a197d",
   "metadata": {},
   "source": [
    "In pandas, index is a way to label rows and columns of a dataframe.\n",
    "\n",
    "The index can be thought of as an address that identifies a specific row or column in a dataframe. \n",
    "\n",
    "By default, pandas assigns a numeric index to a dataframe, starting from 0. \n",
    "\n",
    "        However, we can also assign custom labels as an index, such as dates, names or any other relevant information."
   ]
  },
  {
   "cell_type": "code",
   "execution_count": 4,
   "id": "b239cc62-44dc-4cb6-ab01-4d159b17e853",
   "metadata": {},
   "outputs": [
    {
     "name": "stdout",
     "output_type": "stream",
     "text": [
      "      name  age  salary\n",
      "0    Alice   25   50000\n",
      "1      Bob   30   60000\n",
      "2  Charlie   35   70000\n",
      "3    David   40   80000\n"
     ]
    }
   ],
   "source": [
    "import pandas as pd\n",
    "\n",
    "data = {'name': ['Alice', 'Bob', 'Charlie', 'David'],\n",
    "        'age': [25, 30, 35, 40],\n",
    "        'salary': [50000, 60000, 70000, 80000]}\n",
    "\n",
    "df = pd.DataFrame(data)\n",
    "print(df)"
   ]
  },
  {
   "cell_type": "markdown",
   "id": "2c227001-572f-48b0-91d2-03174eec3769",
   "metadata": {},
   "source": [
    "There are a few reasons why we might want to reset the index of a pandas dataframe:\n",
    "\n",
    "Missing or duplicate index values: Sometimes, the index values might be missing or duplicated. \n",
    "            In such cases, resetting the index can help to reassign new index values to the dataframe.\n",
    "\n",
    "Change the order of rows: By default, the rows in a dataframe are ordered by their index values. \n",
    "          If we want to change the order of rows based on some other criteria, resetting the index can help to sort the rows based on a different column.\n",
    "\n",
    "Merge or join dataframes: When we merge or join two or more dataframes, we might end up with duplicate index values. \n",
    "          Resetting the index can help to avoid such conflicts."
   ]
  },
  {
   "cell_type": "code",
   "execution_count": 5,
   "id": "111959d5-a36d-4931-a580-9c139c557c1e",
   "metadata": {},
   "outputs": [
    {
     "name": "stdout",
     "output_type": "stream",
     "text": [
      "   index     name  age  salary\n",
      "0      0    Alice   25   50000\n",
      "1      1      Bob   30   60000\n",
      "2      2  Charlie   35   70000\n",
      "3      3    David   40   80000\n"
     ]
    }
   ],
   "source": [
    "df_reset = df.reset_index()\n",
    "print(df_reset)"
   ]
  },
  {
   "cell_type": "code",
   "execution_count": 6,
   "id": "e634308a-7d39-4ff7-8052-5a186b7afc6b",
   "metadata": {},
   "outputs": [
    {
     "name": "stdout",
     "output_type": "stream",
     "text": [
      "      name  age  salary\n",
      "0    Alice   25   50000\n",
      "1      Bob   30   60000\n",
      "2  Charlie   35   70000\n",
      "3    David   40   80000\n"
     ]
    }
   ],
   "source": [
    "df_reset = df.reset_index(drop=True)\n",
    "print(df_reset)"
   ]
  },
  {
   "cell_type": "markdown",
   "id": "ce54dd3e-bffc-4ca7-86a0-d5737052895f",
   "metadata": {},
   "source": [
    "Resetting on Specific columns"
   ]
  },
  {
   "cell_type": "code",
   "execution_count": null,
   "id": "7444d049-7844-4a8e-98f4-fc057b1fddb1",
   "metadata": {},
   "outputs": [
    {
     "name": "stdout",
     "output_type": "stream",
     "text": [
      "   salary     name  age\n",
      "0   50000    Alice   25\n",
      "1   60000      Bob   30\n",
      "2   70000  Charlie   35\n",
      "3   80000    David   40\n"
     ]
    }
   ],
   "source": [
    "df_reset = df.set_index('salary').reset_index()\n",
    "print(df_reset)"
   ]
  },
  {
   "cell_type": "code",
   "execution_count": null,
   "id": "09690680-d937-4d10-a285-0676ba81f364",
   "metadata": {},
   "outputs": [],
   "source": []
  }
 ],
 "metadata": {
  "kernelspec": {
   "display_name": "Python 3 (ipykernel)",
   "language": "python",
   "name": "python3"
  },
  "language_info": {
   "codemirror_mode": {
    "name": "ipython",
    "version": 3
   },
   "file_extension": ".py",
   "mimetype": "text/x-python",
   "name": "python",
   "nbconvert_exporter": "python",
   "pygments_lexer": "ipython3",
   "version": "3.12.4"
  }
 },
 "nbformat": 4,
 "nbformat_minor": 5
}
