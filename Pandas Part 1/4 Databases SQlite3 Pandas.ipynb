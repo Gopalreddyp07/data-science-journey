{
 "cells": [
  {
   "cell_type": "code",
   "execution_count": 1,
   "metadata": {},
   "outputs": [
    {
     "name": "stdout",
     "output_type": "stream",
     "text": [
      "Opened database successfully\n"
     ]
    }
   ],
   "source": [
    "import sqlite3\n",
    "\n",
    "db = \"emp.db\"\n",
    "\n",
    "conn = sqlite3.connect(db)\n",
    "\n",
    "print (\"Opened database successfully\")"
   ]
  },
  {
   "cell_type": "code",
   "execution_count": 2,
   "metadata": {},
   "outputs": [
    {
     "name": "stdout",
     "output_type": "stream",
     "text": [
      "Opened database successfully\n",
      "Table created successfully\n"
     ]
    }
   ],
   "source": [
    "import sqlite3\n",
    "\n",
    "conn = sqlite3.connect(db)\n",
    "print (\"Opened database successfully\")\n",
    "\n",
    "conn.execute('''CREATE TABLE COMPANY\n",
    "         (ID INT PRIMARY KEY     NOT NULL,\n",
    "         NAME           TEXT    NOT NULL,\n",
    "         AGE            INT     NOT NULL,\n",
    "         ADDRESS        CHAR(50),\n",
    "         SALARY         REAL);''')\n",
    "print (\"Table created successfully\")\n",
    "\n",
    "conn.close()"
   ]
  },
  {
   "cell_type": "code",
   "execution_count": 3,
   "metadata": {},
   "outputs": [
    {
     "name": "stdout",
     "output_type": "stream",
     "text": [
      "Opened database successfully\n",
      "Records created successfully\n"
     ]
    }
   ],
   "source": [
    "import sqlite3\n",
    "\n",
    "conn = sqlite3.connect(db)\n",
    "print (\"Opened database successfully\")\n",
    "\n",
    "conn.execute(\"INSERT INTO COMPANY VALUES (1, 'Paul', 32, 'California', 20000.00 )\");\n",
    "\n",
    "conn.execute(\"INSERT INTO COMPANY VALUES (2, 'Allen', 25, 'Texas', 15000.00 )\");\n",
    "\n",
    "conn.execute(\"INSERT INTO COMPANY VALUES (3, 'Teddy', 23, 'Norway', 20000.00 )\");\n",
    "\n",
    "conn.execute(\"INSERT INTO COMPANY VALUES (4, 'Mark', 25, 'Rich-Mond ', 65000.00 )\");\n",
    "\n",
    "conn.execute(\"INSERT INTO COMPANY VALUES (5, 'David', 27, 'Texas ', 85000.0 )\");\n",
    "\n",
    "conn.execute(\"INSERT INTO COMPANY VALUES (6, 'Kim', 22, 'South-Hall ', 45000.0 )\");\n",
    "\n",
    "conn.execute(\"INSERT INTO COMPANY VALUES (7, 'James', 24, 'Houston ', 10000.0)\");\n",
    "\n",
    "conn.commit()\n",
    "print (\"Records created successfully\")\n",
    "conn.close()"
   ]
  },
  {
   "cell_type": "code",
   "execution_count": 4,
   "metadata": {},
   "outputs": [
    {
     "name": "stdout",
     "output_type": "stream",
     "text": [
      "(1, 'Paul', 32, 'California', 20000.0)\n",
      "(2, 'Allen', 25, 'Texas', 15000.0)\n",
      "(3, 'Teddy', 23, 'Norway', 20000.0)\n",
      "(4, 'Mark', 25, 'Rich-Mond ', 65000.0)\n",
      "(5, 'David', 27, 'Texas ', 85000.0)\n",
      "(6, 'Kim', 22, 'South-Hall ', 45000.0)\n",
      "(7, 'James', 24, 'Houston ', 10000.0)\n"
     ]
    }
   ],
   "source": [
    "import sqlite3 as lite\n",
    "\n",
    "con = lite.connect(db)\n",
    "\n",
    "with con:\n",
    "\n",
    "    cur = con.cursor()\n",
    "    cur.execute(\"SELECT * FROM COMPANY\")\n",
    "\n",
    "    rows = cur.fetchall()\n",
    "\n",
    "    for row in rows:\n",
    "        print (row)"
   ]
  },
  {
   "cell_type": "code",
   "execution_count": 5,
   "metadata": {},
   "outputs": [
    {
     "data": {
      "text/html": [
       "<div>\n",
       "<style scoped>\n",
       "    .dataframe tbody tr th:only-of-type {\n",
       "        vertical-align: middle;\n",
       "    }\n",
       "\n",
       "    .dataframe tbody tr th {\n",
       "        vertical-align: top;\n",
       "    }\n",
       "\n",
       "    .dataframe thead th {\n",
       "        text-align: right;\n",
       "    }\n",
       "</style>\n",
       "<table border=\"1\" class=\"dataframe\">\n",
       "  <thead>\n",
       "    <tr style=\"text-align: right;\">\n",
       "      <th></th>\n",
       "      <th>ID</th>\n",
       "      <th>NAME</th>\n",
       "      <th>AGE</th>\n",
       "      <th>ADDRESS</th>\n",
       "      <th>SALARY</th>\n",
       "    </tr>\n",
       "  </thead>\n",
       "  <tbody>\n",
       "    <tr>\n",
       "      <th>0</th>\n",
       "      <td>1</td>\n",
       "      <td>Paul</td>\n",
       "      <td>32</td>\n",
       "      <td>California</td>\n",
       "      <td>20000.0</td>\n",
       "    </tr>\n",
       "    <tr>\n",
       "      <th>1</th>\n",
       "      <td>2</td>\n",
       "      <td>Allen</td>\n",
       "      <td>25</td>\n",
       "      <td>Texas</td>\n",
       "      <td>15000.0</td>\n",
       "    </tr>\n",
       "    <tr>\n",
       "      <th>2</th>\n",
       "      <td>3</td>\n",
       "      <td>Teddy</td>\n",
       "      <td>23</td>\n",
       "      <td>Norway</td>\n",
       "      <td>20000.0</td>\n",
       "    </tr>\n",
       "    <tr>\n",
       "      <th>3</th>\n",
       "      <td>4</td>\n",
       "      <td>Mark</td>\n",
       "      <td>25</td>\n",
       "      <td>Rich-Mond</td>\n",
       "      <td>65000.0</td>\n",
       "    </tr>\n",
       "    <tr>\n",
       "      <th>4</th>\n",
       "      <td>5</td>\n",
       "      <td>David</td>\n",
       "      <td>27</td>\n",
       "      <td>Texas</td>\n",
       "      <td>85000.0</td>\n",
       "    </tr>\n",
       "    <tr>\n",
       "      <th>5</th>\n",
       "      <td>6</td>\n",
       "      <td>Kim</td>\n",
       "      <td>22</td>\n",
       "      <td>South-Hall</td>\n",
       "      <td>45000.0</td>\n",
       "    </tr>\n",
       "    <tr>\n",
       "      <th>6</th>\n",
       "      <td>7</td>\n",
       "      <td>James</td>\n",
       "      <td>24</td>\n",
       "      <td>Houston</td>\n",
       "      <td>10000.0</td>\n",
       "    </tr>\n",
       "  </tbody>\n",
       "</table>\n",
       "</div>"
      ],
      "text/plain": [
       "   ID   NAME  AGE      ADDRESS   SALARY\n",
       "0   1   Paul   32   California  20000.0\n",
       "1   2  Allen   25        Texas  15000.0\n",
       "2   3  Teddy   23       Norway  20000.0\n",
       "3   4   Mark   25   Rich-Mond   65000.0\n",
       "4   5  David   27       Texas   85000.0\n",
       "5   6    Kim   22  South-Hall   45000.0\n",
       "6   7  James   24     Houston   10000.0"
      ]
     },
     "execution_count": 5,
     "metadata": {},
     "output_type": "execute_result"
    }
   ],
   "source": [
    "import pandas as pd\n",
    "\n",
    "con = sqlite3.connect(db)\n",
    "\n",
    "df_employees = pd.read_sql_query('SELECT * FROM COMPANY', con)\n",
    "\n",
    "df_employees"
   ]
  },
  {
   "cell_type": "code",
   "execution_count": 6,
   "metadata": {},
   "outputs": [
    {
     "data": {
      "text/plain": [
       "5"
      ]
     },
     "execution_count": 6,
     "metadata": {},
     "output_type": "execute_result"
    }
   ],
   "source": [
    "\n",
    "df_employees_5 = df_employees[:5]\n",
    "\n",
    "df_employees_5.to_sql(\"surveys_5\", con, if_exists=\"replace\")\n"
   ]
  },
  {
   "cell_type": "code",
   "execution_count": 7,
   "metadata": {},
   "outputs": [
    {
     "name": "stdout",
     "output_type": "stream",
     "text": [
      "(0, 1, 'Paul', 32, 'California', 20000.0)\n",
      "(1, 2, 'Allen', 25, 'Texas', 15000.0)\n",
      "(2, 3, 'Teddy', 23, 'Norway', 20000.0)\n",
      "(3, 4, 'Mark', 25, 'Rich-Mond ', 65000.0)\n",
      "(4, 5, 'David', 27, 'Texas ', 85000.0)\n"
     ]
    }
   ],
   "source": [
    "import sqlite3 as lite\n",
    "\n",
    "con = lite.connect(db)\n",
    "\n",
    "with con:\n",
    "\n",
    "    cur = con.cursor()\n",
    "    cur.execute(\"SELECT * FROM surveys_5\")\n",
    "\n",
    "    rows = cur.fetchall()\n",
    "\n",
    "    for row in rows:\n",
    "        print (row)"
   ]
  },
  {
   "cell_type": "code",
   "execution_count": null,
   "metadata": {},
   "outputs": [],
   "source": []
  }
 ],
 "metadata": {
  "kernelspec": {
   "display_name": "Python 3 (ipykernel)",
   "language": "python",
   "name": "python3"
  },
  "language_info": {
   "codemirror_mode": {
    "name": "ipython",
    "version": 3
   },
   "file_extension": ".py",
   "mimetype": "text/x-python",
   "name": "python",
   "nbconvert_exporter": "python",
   "pygments_lexer": "ipython3",
   "version": "3.12.4"
  }
 },
 "nbformat": 4,
 "nbformat_minor": 4
}
