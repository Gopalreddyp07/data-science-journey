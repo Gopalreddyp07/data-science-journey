{
 "cells": [
  {
   "cell_type": "markdown",
   "id": "35fc39fd-b857-414d-91f5-05f8c294c2c1",
   "metadata": {},
   "source": [
    "### Grouping Data: \n",
    "\n",
    "It organizes data into separate groups based on the values in specified columns."
   ]
  },
  {
   "cell_type": "markdown",
   "id": "9704fe5d-05db-4e0f-8dbd-e9abe0dbf921",
   "metadata": {},
   "source": [
    "grouped = df.groupby('column_name')"
   ]
  },
  {
   "cell_type": "markdown",
   "id": "2ea10b28-748b-4ad1-b416-b92ae0df7528",
   "metadata": {},
   "source": [
    "#### Aggregation Functions:\n",
    "\n",
    "After grouping, you can apply aggregation functions such as sum(), mean(), count(), etc. "
   ]
  },
  {
   "cell_type": "markdown",
   "id": "0a642a0e-fea6-4634-81c1-e4b0fa7a8604",
   "metadata": {},
   "source": [
    "For instance:\n",
    "result = df.groupby('city')['pop'].sum()"
   ]
  },
  {
   "cell_type": "markdown",
   "id": "94d94f6b-9703-4f20-a7ac-bce3e044549f",
   "metadata": {},
   "source": [
    "#### Multiple Columns:\n",
    "\n",
    "You can group by multiple columns by passing a list to groupby(). "
   ]
  },
  {
   "cell_type": "markdown",
   "id": "728bac8b-8580-4799-b1d2-76af0309ae5c",
   "metadata": {},
   "source": [
    "For example:\n",
    "\n",
    "df.groupby(['city', 'state'])[['pop']].sum()"
   ]
  },
  {
   "cell_type": "code",
   "execution_count": 1,
   "id": "a397da7a-0e64-4b2c-8b6d-e933ae62ff51",
   "metadata": {},
   "outputs": [
    {
     "data": {
      "text/html": [
       "<div>\n",
       "<style scoped>\n",
       "    .dataframe tbody tr th:only-of-type {\n",
       "        vertical-align: middle;\n",
       "    }\n",
       "\n",
       "    .dataframe tbody tr th {\n",
       "        vertical-align: top;\n",
       "    }\n",
       "\n",
       "    .dataframe thead th {\n",
       "        text-align: right;\n",
       "    }\n",
       "</style>\n",
       "<table border=\"1\" class=\"dataframe\">\n",
       "  <thead>\n",
       "    <tr style=\"text-align: right;\">\n",
       "      <th></th>\n",
       "      <th>city</th>\n",
       "      <th>state</th>\n",
       "      <th>pop</th>\n",
       "    </tr>\n",
       "  </thead>\n",
       "  <tbody>\n",
       "    <tr>\n",
       "      <th>0</th>\n",
       "      <td>New York</td>\n",
       "      <td>NY</td>\n",
       "      <td>8000000</td>\n",
       "    </tr>\n",
       "    <tr>\n",
       "      <th>1</th>\n",
       "      <td>Los Angeles</td>\n",
       "      <td>CA</td>\n",
       "      <td>4000000</td>\n",
       "    </tr>\n",
       "    <tr>\n",
       "      <th>2</th>\n",
       "      <td>New York</td>\n",
       "      <td>NY</td>\n",
       "      <td>8500000</td>\n",
       "    </tr>\n",
       "    <tr>\n",
       "      <th>3</th>\n",
       "      <td>Chicago</td>\n",
       "      <td>IL</td>\n",
       "      <td>2700000</td>\n",
       "    </tr>\n",
       "  </tbody>\n",
       "</table>\n",
       "</div>"
      ],
      "text/plain": [
       "          city state      pop\n",
       "0     New York    NY  8000000\n",
       "1  Los Angeles    CA  4000000\n",
       "2     New York    NY  8500000\n",
       "3      Chicago    IL  2700000"
      ]
     },
     "execution_count": 1,
     "metadata": {},
     "output_type": "execute_result"
    }
   ],
   "source": [
    "import pandas as pd\n",
    "\n",
    "# Sample DataFrame\n",
    "data = {'city': ['New York', 'Los Angeles', 'New York', 'Chicago'],\n",
    "        'state': ['NY', 'CA', 'NY', 'IL'],\n",
    "        'pop': [8000000, 4000000, 8500000, 2700000]}\n",
    "df = pd.DataFrame(data)\n",
    "df"
   ]
  },
  {
   "cell_type": "code",
   "execution_count": 2,
   "id": "4f6e4a50-a83d-4bb3-a6c7-9f3abb7f8da3",
   "metadata": {},
   "outputs": [
    {
     "name": "stdout",
     "output_type": "stream",
     "text": [
      "city\n",
      "Chicago         2700000\n",
      "Los Angeles     4000000\n",
      "New York       16500000\n",
      "Name: pop, dtype: int64\n"
     ]
    }
   ],
   "source": [
    "# Group by city and sum the population\n",
    "result = df.groupby('city')['pop'].sum()\n",
    "print(result)"
   ]
  },
  {
   "cell_type": "markdown",
   "id": "88b9bdad-0346-4bc6-a117-d9ab9b49ed04",
   "metadata": {},
   "source": [
    "Grouping and Aggregating with Multiple Functions\n",
    "\n",
    "You can apply multiple aggregation functions at once using the .agg() method."
   ]
  },
  {
   "cell_type": "code",
   "execution_count": 3,
   "id": "5b051947-bf51-4106-8f63-37654bf93d94",
   "metadata": {},
   "outputs": [
    {
     "name": "stdout",
     "output_type": "stream",
     "text": [
      "                  sum       mean\n",
      "city                            \n",
      "Chicago       5700000  2850000.0\n",
      "Los Angeles   9000000  4500000.0\n",
      "New York     16500000  8250000.0\n"
     ]
    }
   ],
   "source": [
    "import pandas as pd\n",
    "\n",
    "# Sample DataFrame\n",
    "data = {\n",
    "    'city': ['New York', 'Los Angeles', 'New York', 'Chicago', 'Los Angeles', 'Chicago'],\n",
    "    'state': ['NY', 'CA', 'NY', 'IL', 'CA', 'IL'],\n",
    "    'pop': [8000000, 4000000, 8500000, 2700000, 5000000, 3000000]\n",
    "}\n",
    "df = pd.DataFrame(data)\n",
    "\n",
    "# Group by city and calculate both sum and mean population\n",
    "result = df.groupby('city')['pop'].agg(['sum', 'mean'])\n",
    "print(result)"
   ]
  },
  {
   "cell_type": "markdown",
   "id": "5956ab92-b502-453d-a04d-10affb307463",
   "metadata": {},
   "source": [
    "Grouping by Multiple Columns\n",
    "You can group by more than one column to get multi-level aggregated data."
   ]
  },
  {
   "cell_type": "code",
   "execution_count": 4,
   "id": "c4ee79d6-8b39-466f-80ba-bac8903a7cb2",
   "metadata": {},
   "outputs": [
    {
     "name": "stdout",
     "output_type": "stream",
     "text": [
      "city         state\n",
      "Chicago      IL        5700000\n",
      "Los Angeles  CA        9000000\n",
      "New York     NY       16500000\n",
      "Name: pop, dtype: int64\n"
     ]
    }
   ],
   "source": [
    "result = df.groupby(['city', 'state'])['pop'].sum()\n",
    "print(result)"
   ]
  },
  {
   "cell_type": "markdown",
   "id": "3c76657e-9c23-4654-93fb-10b799ee8f6c",
   "metadata": {},
   "source": [
    "Filtering Groups\n",
    "You can filter groups based on a condition after grouping."
   ]
  },
  {
   "cell_type": "code",
   "execution_count": 5,
   "id": "da89f409-7953-4ae1-a3c8-1b590feda700",
   "metadata": {},
   "outputs": [
    {
     "name": "stdout",
     "output_type": "stream",
     "text": [
      "            state       pop\n",
      "city                       \n",
      "Los Angeles  CACA   9000000\n",
      "New York     NYNY  16500000\n"
     ]
    }
   ],
   "source": [
    "#### Group by city and filter those with a total population greater than 7 million\n",
    "\n",
    "grouped = df.groupby('city').sum()\n",
    "filtered = grouped[grouped['pop'] > 7000000]\n",
    "print(filtered)"
   ]
  },
  {
   "cell_type": "code",
   "execution_count": null,
   "id": "d1889f5c-0ca8-400d-b0b1-5faea9216524",
   "metadata": {},
   "outputs": [],
   "source": []
  },
  {
   "cell_type": "code",
   "execution_count": null,
   "id": "bfb782ed-8e7b-4500-97b4-95efb283d1bf",
   "metadata": {},
   "outputs": [],
   "source": []
  }
 ],
 "metadata": {
  "kernelspec": {
   "display_name": "Python 3 (ipykernel)",
   "language": "python",
   "name": "python3"
  },
  "language_info": {
   "codemirror_mode": {
    "name": "ipython",
    "version": 3
   },
   "file_extension": ".py",
   "mimetype": "text/x-python",
   "name": "python",
   "nbconvert_exporter": "python",
   "pygments_lexer": "ipython3",
   "version": "3.12.4"
  }
 },
 "nbformat": 4,
 "nbformat_minor": 5
}
