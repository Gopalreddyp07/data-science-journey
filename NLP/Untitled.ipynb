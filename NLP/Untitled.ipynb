{
 "cells": [
  {
   "cell_type": "code",
   "execution_count": 17,
   "id": "6bc1845b-d3c3-4f22-837d-263e3b13901c",
   "metadata": {},
   "outputs": [],
   "source": [
    "import numpy as np"
   ]
  },
  {
   "cell_type": "code",
   "execution_count": 49,
   "id": "ffb7db02-350a-49de-b7da-f1e5546eee5f",
   "metadata": {},
   "outputs": [
    {
     "data": {
      "text/plain": [
       "array(['ham'], dtype='<U4')"
      ]
     },
     "execution_count": 49,
     "metadata": {},
     "output_type": "execute_result"
    }
   ],
   "source": [
    "import pickle\n",
    "with open(\"pipe.pkl\",\"rb\") as file:\n",
    "    load=pickle.load(file)\n",
    "load.predict([\"welcome to bet365 you won 10000 rs\"])"
   ]
  },
  {
   "cell_type": "code",
   "execution_count": 53,
   "id": "de72d871-c2c2-4e0d-84bb-61ce8345a73e",
   "metadata": {},
   "outputs": [
    {
     "name": "stdout",
     "output_type": "stream",
     "text": [
      "Speak now...\n"
     ]
    },
    {
     "data": {
      "text/plain": [
       "array(['ham', 'ham'], dtype='<U4')"
      ]
     },
     "execution_count": 53,
     "metadata": {},
     "output_type": "execute_result"
    }
   ],
   "source": [
    "import speech_recognition as sr\n",
    "# Convert speech to text\n",
    "def voice(inp):\n",
    "    try:\n",
    "        text = r.recognize_google(inp)\n",
    "        return (\"You said:\", text)\n",
    "    except:\n",
    "        return (\"Sorry, could not recognize your voice.\")\n",
    "r = sr.Recognizer()\n",
    "with sr.Microphone() as source:\n",
    "    print(\"Speak now...\")\n",
    "    audio = r.listen(source)\n",
    "voice(audio)\n",
    "while voice(audio)==\"Sorry, could not recognize your voice.\":\n",
    "    r = sr.Recognizer()\n",
    "    with sr.Microphone() as source:\n",
    "        print(\"Speak now...\")\n",
    "        audio = r.listen(source)\n",
    "    voice(audio)\n",
    "load.predict(voice(audio))"
   ]
  },
  {
   "cell_type": "code",
   "execution_count": 63,
   "id": "bec733e0-fab5-40d6-b943-f2b0ab008784",
   "metadata": {},
   "outputs": [
    {
     "ename": "SyntaxError",
     "evalue": "invalid syntax (2712299608.py, line 6)",
     "output_type": "error",
     "traceback": [
      "\u001b[1;36m  Cell \u001b[1;32mIn[63], line 6\u001b[1;36m\u001b[0m\n\u001b[1;33m    return text=\"Sorry, could not recognize your voice.\"\u001b[0m\n\u001b[1;37m               ^\u001b[0m\n\u001b[1;31mSyntaxError\u001b[0m\u001b[1;31m:\u001b[0m invalid syntax\n"
     ]
    }
   ],
   "source": [
    "def voice(inp):\n",
    "    try:\n",
    "        text = r.recognize_google(audio)\n",
    "        return (\"You said:\", text)\n",
    "    except:\n",
    "        return (\"Sorry, could not recognize your voice.\")\n",
    "\n",
    "# Create recognizer\n",
    "r = sr.Recognizer()\n",
    "# Use the microphone\n",
    "with sr.Microphone() as source:\n",
    "    # r.adjust_for_ambient_noise(source)\n",
    "    print(\"Speak now...\")\n",
    "    audio = r.listen(source)\n",
    "voice(audio)\n",
    "while voice(audio)==\"Sorry, could not recognize your voice.\":\n",
    "    r = sr.Recognizer()\n",
    "    \n",
    "    # Use the microphone\n",
    "    with sr.Microphone() as source:\n",
    "        print(\"Speak now...\")\n",
    "        audio = r.listen(source)\n",
    "    voice(audio)\n",
    "print(\" \".join(voice(audio)))\n",
    "load.predict(voice(audio))"
   ]
  },
  {
   "cell_type": "code",
   "execution_count": 65,
   "id": "32c99d2a-b976-4294-8cc3-58f25dd4b153",
   "metadata": {},
   "outputs": [
    {
     "name": "stdout",
     "output_type": "stream",
     "text": [
      "Speak now...\n",
      "You said: welcome to India\n",
      "ham\n"
     ]
    }
   ],
   "source": [
    "import speech_recognition as sr\n",
    "\n",
    "# Create recognizer\n",
    "r = sr.Recognizer()\n",
    "\n",
    "def voice(audio):\n",
    "    try:\n",
    "        text = r.recognize_google(audio)\n",
    "        return text   # ✅ Return just the text\n",
    "    except:\n",
    "        return None   # ✅ Return None on failure\n",
    "\n",
    "# Record audio\n",
    "text = None\n",
    "while text is None:\n",
    "    with sr.Microphone() as source:\n",
    "        print(\"Speak now...\")\n",
    "        audio = r.listen(source)\n",
    "        text = voice(audio)\n",
    "\n",
    "print(\"You said:\", text)\n",
    "\n",
    "# Now predict using the cleaned text\n",
    "prediction = load.predict([text])  # ✅ Wrap in list or array for model input\n",
    "print(prediction[0])"
   ]
  },
  {
   "cell_type": "code",
   "execution_count": null,
   "id": "e8454eb8-1290-4930-9720-6df12b37f3fb",
   "metadata": {},
   "outputs": [],
   "source": []
  }
 ],
 "metadata": {
  "kernelspec": {
   "display_name": "Python 3 (ipykernel)",
   "language": "python",
   "name": "python3"
  },
  "language_info": {
   "codemirror_mode": {
    "name": "ipython",
    "version": 3
   },
   "file_extension": ".py",
   "mimetype": "text/x-python",
   "name": "python",
   "nbconvert_exporter": "python",
   "pygments_lexer": "ipython3",
   "version": "3.12.7"
  }
 },
 "nbformat": 4,
 "nbformat_minor": 5
}
