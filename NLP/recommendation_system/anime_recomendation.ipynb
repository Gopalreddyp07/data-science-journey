{
 "cells": [
  {
   "cell_type": "code",
   "execution_count": 1,
   "id": "326043f0-aef6-4262-908f-072446da0761",
   "metadata": {},
   "outputs": [],
   "source": [
    "import re\n",
    "import nltk\n",
    "import numpy as np\n",
    "import pandas as pd\n",
    "import matplotlib.pyplot as plt\n",
    "import seaborn as sns\n",
    "from sklearn.feature_extraction.text import TfidfVectorizer"
   ]
  },
  {
   "cell_type": "code",
   "execution_count": 2,
   "id": "36d21d2a-9f4e-403c-99c6-3f33e03c1ee9",
   "metadata": {},
   "outputs": [
    {
     "data": {
      "text/html": [
       "<div>\n",
       "<style scoped>\n",
       "    .dataframe tbody tr th:only-of-type {\n",
       "        vertical-align: middle;\n",
       "    }\n",
       "\n",
       "    .dataframe tbody tr th {\n",
       "        vertical-align: top;\n",
       "    }\n",
       "\n",
       "    .dataframe thead th {\n",
       "        text-align: right;\n",
       "    }\n",
       "</style>\n",
       "<table border=\"1\" class=\"dataframe\">\n",
       "  <thead>\n",
       "    <tr style=\"text-align: right;\">\n",
       "      <th></th>\n",
       "      <th>anime_id</th>\n",
       "      <th>name</th>\n",
       "      <th>genre</th>\n",
       "      <th>type</th>\n",
       "      <th>episodes</th>\n",
       "      <th>rating</th>\n",
       "      <th>members</th>\n",
       "    </tr>\n",
       "  </thead>\n",
       "  <tbody>\n",
       "    <tr>\n",
       "      <th>0</th>\n",
       "      <td>32281</td>\n",
       "      <td>Kimi no Na wa.</td>\n",
       "      <td>Drama, Romance, School, Supernatural</td>\n",
       "      <td>Movie</td>\n",
       "      <td>1</td>\n",
       "      <td>9.37</td>\n",
       "      <td>200630</td>\n",
       "    </tr>\n",
       "    <tr>\n",
       "      <th>1</th>\n",
       "      <td>5114</td>\n",
       "      <td>Fullmetal Alchemist: Brotherhood</td>\n",
       "      <td>Action, Adventure, Drama, Fantasy, Magic, Mili...</td>\n",
       "      <td>TV</td>\n",
       "      <td>64</td>\n",
       "      <td>9.26</td>\n",
       "      <td>793665</td>\n",
       "    </tr>\n",
       "    <tr>\n",
       "      <th>2</th>\n",
       "      <td>28977</td>\n",
       "      <td>Gintama°</td>\n",
       "      <td>Action, Comedy, Historical, Parody, Samurai, S...</td>\n",
       "      <td>TV</td>\n",
       "      <td>51</td>\n",
       "      <td>9.25</td>\n",
       "      <td>114262</td>\n",
       "    </tr>\n",
       "    <tr>\n",
       "      <th>3</th>\n",
       "      <td>9253</td>\n",
       "      <td>Steins;Gate</td>\n",
       "      <td>Sci-Fi, Thriller</td>\n",
       "      <td>TV</td>\n",
       "      <td>24</td>\n",
       "      <td>9.17</td>\n",
       "      <td>673572</td>\n",
       "    </tr>\n",
       "    <tr>\n",
       "      <th>4</th>\n",
       "      <td>9969</td>\n",
       "      <td>Gintama&amp;#039;</td>\n",
       "      <td>Action, Comedy, Historical, Parody, Samurai, S...</td>\n",
       "      <td>TV</td>\n",
       "      <td>51</td>\n",
       "      <td>9.16</td>\n",
       "      <td>151266</td>\n",
       "    </tr>\n",
       "  </tbody>\n",
       "</table>\n",
       "</div>"
      ],
      "text/plain": [
       "   anime_id                              name  \\\n",
       "0     32281                    Kimi no Na wa.   \n",
       "1      5114  Fullmetal Alchemist: Brotherhood   \n",
       "2     28977                          Gintama°   \n",
       "3      9253                       Steins;Gate   \n",
       "4      9969                     Gintama&#039;   \n",
       "\n",
       "                                               genre   type episodes  rating  \\\n",
       "0               Drama, Romance, School, Supernatural  Movie        1    9.37   \n",
       "1  Action, Adventure, Drama, Fantasy, Magic, Mili...     TV       64    9.26   \n",
       "2  Action, Comedy, Historical, Parody, Samurai, S...     TV       51    9.25   \n",
       "3                                   Sci-Fi, Thriller     TV       24    9.17   \n",
       "4  Action, Comedy, Historical, Parody, Samurai, S...     TV       51    9.16   \n",
       "\n",
       "   members  \n",
       "0   200630  \n",
       "1   793665  \n",
       "2   114262  \n",
       "3   673572  \n",
       "4   151266  "
      ]
     },
     "execution_count": 2,
     "metadata": {},
     "output_type": "execute_result"
    }
   ],
   "source": [
    "df=pd.read_csv(\"anime.csv\")\n",
    "df.head()"
   ]
  },
  {
   "cell_type": "code",
   "execution_count": 3,
   "id": "307998f0-b06e-4c26-9e3f-b434d6167dee",
   "metadata": {},
   "outputs": [],
   "source": [
    "df.drop([\"anime_id\",\"rating\",\"members\"],axis=1,inplace=True)"
   ]
  },
  {
   "cell_type": "code",
   "execution_count": 4,
   "id": "03b3fb57-5d75-4ef9-8f59-e4997d03411d",
   "metadata": {},
   "outputs": [],
   "source": [
    "name=[]\n",
    "for i in df[\"name\"]:\n",
    "    name.append(i.lower())\n",
    "df[\"name\"]=name"
   ]
  },
  {
   "cell_type": "code",
   "execution_count": 5,
   "id": "c2d9ee1b-b7fe-4001-a9dd-ab9358f8eea4",
   "metadata": {},
   "outputs": [
    {
     "data": {
      "text/html": [
       "<div>\n",
       "<style scoped>\n",
       "    .dataframe tbody tr th:only-of-type {\n",
       "        vertical-align: middle;\n",
       "    }\n",
       "\n",
       "    .dataframe tbody tr th {\n",
       "        vertical-align: top;\n",
       "    }\n",
       "\n",
       "    .dataframe thead th {\n",
       "        text-align: right;\n",
       "    }\n",
       "</style>\n",
       "<table border=\"1\" class=\"dataframe\">\n",
       "  <thead>\n",
       "    <tr style=\"text-align: right;\">\n",
       "      <th></th>\n",
       "      <th>name</th>\n",
       "      <th>genre</th>\n",
       "      <th>type</th>\n",
       "      <th>episodes</th>\n",
       "      <th>content</th>\n",
       "    </tr>\n",
       "  </thead>\n",
       "  <tbody>\n",
       "    <tr>\n",
       "      <th>0</th>\n",
       "      <td>kimi no na wa.</td>\n",
       "      <td>Drama, Romance, School, Supernatural</td>\n",
       "      <td>Movie</td>\n",
       "      <td>1</td>\n",
       "      <td>kimi no na wa. Drama, Romance, School, Superna...</td>\n",
       "    </tr>\n",
       "    <tr>\n",
       "      <th>1</th>\n",
       "      <td>fullmetal alchemist: brotherhood</td>\n",
       "      <td>Action, Adventure, Drama, Fantasy, Magic, Mili...</td>\n",
       "      <td>TV</td>\n",
       "      <td>64</td>\n",
       "      <td>fullmetal alchemist: brotherhood Action, Adven...</td>\n",
       "    </tr>\n",
       "    <tr>\n",
       "      <th>2</th>\n",
       "      <td>gintama°</td>\n",
       "      <td>Action, Comedy, Historical, Parody, Samurai, S...</td>\n",
       "      <td>TV</td>\n",
       "      <td>51</td>\n",
       "      <td>gintama° Action, Comedy, Historical, Parody, S...</td>\n",
       "    </tr>\n",
       "    <tr>\n",
       "      <th>3</th>\n",
       "      <td>steins;gate</td>\n",
       "      <td>Sci-Fi, Thriller</td>\n",
       "      <td>TV</td>\n",
       "      <td>24</td>\n",
       "      <td>steins;gate Sci-Fi, Thriller TV 24</td>\n",
       "    </tr>\n",
       "    <tr>\n",
       "      <th>4</th>\n",
       "      <td>gintama&amp;#039;</td>\n",
       "      <td>Action, Comedy, Historical, Parody, Samurai, S...</td>\n",
       "      <td>TV</td>\n",
       "      <td>51</td>\n",
       "      <td>gintama&amp;#039; Action, Comedy, Historical, Paro...</td>\n",
       "    </tr>\n",
       "    <tr>\n",
       "      <th>...</th>\n",
       "      <td>...</td>\n",
       "      <td>...</td>\n",
       "      <td>...</td>\n",
       "      <td>...</td>\n",
       "      <td>...</td>\n",
       "    </tr>\n",
       "    <tr>\n",
       "      <th>12289</th>\n",
       "      <td>toushindai my lover: minami tai mecha-minami</td>\n",
       "      <td>Hentai</td>\n",
       "      <td>OVA</td>\n",
       "      <td>1</td>\n",
       "      <td>toushindai my lover: minami tai mecha-minami H...</td>\n",
       "    </tr>\n",
       "    <tr>\n",
       "      <th>12290</th>\n",
       "      <td>under world</td>\n",
       "      <td>Hentai</td>\n",
       "      <td>OVA</td>\n",
       "      <td>1</td>\n",
       "      <td>under world Hentai OVA 1</td>\n",
       "    </tr>\n",
       "    <tr>\n",
       "      <th>12291</th>\n",
       "      <td>violence gekiga david no hoshi</td>\n",
       "      <td>Hentai</td>\n",
       "      <td>OVA</td>\n",
       "      <td>4</td>\n",
       "      <td>violence gekiga david no hoshi Hentai OVA 4</td>\n",
       "    </tr>\n",
       "    <tr>\n",
       "      <th>12292</th>\n",
       "      <td>violence gekiga shin david no hoshi: inma dens...</td>\n",
       "      <td>Hentai</td>\n",
       "      <td>OVA</td>\n",
       "      <td>1</td>\n",
       "      <td>violence gekiga shin david no hoshi: inma dens...</td>\n",
       "    </tr>\n",
       "    <tr>\n",
       "      <th>12293</th>\n",
       "      <td>yasuji no pornorama: yacchimae!!</td>\n",
       "      <td>Hentai</td>\n",
       "      <td>Movie</td>\n",
       "      <td>1</td>\n",
       "      <td>yasuji no pornorama: yacchimae!! Hentai Movie 1</td>\n",
       "    </tr>\n",
       "  </tbody>\n",
       "</table>\n",
       "<p>12294 rows × 5 columns</p>\n",
       "</div>"
      ],
      "text/plain": [
       "                                                    name  \\\n",
       "0                                         kimi no na wa.   \n",
       "1                       fullmetal alchemist: brotherhood   \n",
       "2                                               gintama°   \n",
       "3                                            steins;gate   \n",
       "4                                          gintama&#039;   \n",
       "...                                                  ...   \n",
       "12289       toushindai my lover: minami tai mecha-minami   \n",
       "12290                                        under world   \n",
       "12291                     violence gekiga david no hoshi   \n",
       "12292  violence gekiga shin david no hoshi: inma dens...   \n",
       "12293                   yasuji no pornorama: yacchimae!!   \n",
       "\n",
       "                                                   genre   type episodes  \\\n",
       "0                   Drama, Romance, School, Supernatural  Movie        1   \n",
       "1      Action, Adventure, Drama, Fantasy, Magic, Mili...     TV       64   \n",
       "2      Action, Comedy, Historical, Parody, Samurai, S...     TV       51   \n",
       "3                                       Sci-Fi, Thriller     TV       24   \n",
       "4      Action, Comedy, Historical, Parody, Samurai, S...     TV       51   \n",
       "...                                                  ...    ...      ...   \n",
       "12289                                             Hentai    OVA        1   \n",
       "12290                                             Hentai    OVA        1   \n",
       "12291                                             Hentai    OVA        4   \n",
       "12292                                             Hentai    OVA        1   \n",
       "12293                                             Hentai  Movie        1   \n",
       "\n",
       "                                                 content  \n",
       "0      kimi no na wa. Drama, Romance, School, Superna...  \n",
       "1      fullmetal alchemist: brotherhood Action, Adven...  \n",
       "2      gintama° Action, Comedy, Historical, Parody, S...  \n",
       "3                     steins;gate Sci-Fi, Thriller TV 24  \n",
       "4      gintama&#039; Action, Comedy, Historical, Paro...  \n",
       "...                                                  ...  \n",
       "12289  toushindai my lover: minami tai mecha-minami H...  \n",
       "12290                           under world Hentai OVA 1  \n",
       "12291        violence gekiga david no hoshi Hentai OVA 4  \n",
       "12292  violence gekiga shin david no hoshi: inma dens...  \n",
       "12293    yasuji no pornorama: yacchimae!! Hentai Movie 1  \n",
       "\n",
       "[12294 rows x 5 columns]"
      ]
     },
     "execution_count": 5,
     "metadata": {},
     "output_type": "execute_result"
    }
   ],
   "source": [
    "df[\"content\"]=df[\"name\"]+\" \"+df[\"genre\"]+\" \"+df[\"type\"]+\" \"+df[\"episodes\"]\n",
    "df"
   ]
  },
  {
   "cell_type": "code",
   "execution_count": 6,
   "id": "337b5e9b-7484-4dca-9f49-e330d5fe4614",
   "metadata": {},
   "outputs": [],
   "source": [
    "from sklearn.metrics.pairwise import cosine_similarity"
   ]
  },
  {
   "cell_type": "code",
   "execution_count": 7,
   "id": "cf388d92-eebb-49e5-bbdf-09246ac73610",
   "metadata": {},
   "outputs": [
    {
     "name": "stdout",
     "output_type": "stream",
     "text": [
      "<class 'pandas.core.series.Series'>\n",
      "RangeIndex: 12294 entries, 0 to 12293\n",
      "Series name: content\n",
      "Non-Null Count  Dtype \n",
      "--------------  ----- \n",
      "12210 non-null  object\n",
      "dtypes: object(1)\n",
      "memory usage: 96.2+ KB\n"
     ]
    }
   ],
   "source": [
    "content=df[\"content\"]\n",
    "content.info()"
   ]
  },
  {
   "cell_type": "code",
   "execution_count": 8,
   "id": "e9926fad-ca52-49f4-8027-9eb613899b79",
   "metadata": {},
   "outputs": [],
   "source": [
    "data=[]\n",
    "for i in content:\n",
    "    lower=re.sub(\"[^a-zA-Z0-9 ]\",\"\",str(i))\n",
    "    lower=lower.lower()\n",
    "    data.append(lower)"
   ]
  },
  {
   "cell_type": "code",
   "execution_count": 9,
   "id": "7b945036-9727-4125-851c-c9dddef818bb",
   "metadata": {},
   "outputs": [
    {
     "data": {
      "text/plain": [
       "(12294, 12902)"
      ]
     },
     "execution_count": 9,
     "metadata": {},
     "output_type": "execute_result"
    }
   ],
   "source": [
    "from sklearn.feature_extraction.text import TfidfVectorizer\n",
    "vector=TfidfVectorizer()\n",
    "values=vector.fit_transform(data)\n",
    "values.toarray().shape"
   ]
  },
  {
   "cell_type": "code",
   "execution_count": 10,
   "id": "d75b5489-9a10-4d5a-8ce8-e29b0b3401a8",
   "metadata": {},
   "outputs": [
    {
     "data": {
      "text/plain": [
       "array(['00', '000', '0008', ..., 'zwei', 'zx', 'zz'], dtype=object)"
      ]
     },
     "execution_count": 10,
     "metadata": {},
     "output_type": "execute_result"
    }
   ],
   "source": [
    "vector.get_feature_names_out()"
   ]
  },
  {
   "cell_type": "code",
   "execution_count": 11,
   "id": "714e0a4a-5b46-46d1-8308-6682d7227932",
   "metadata": {},
   "outputs": [],
   "source": [
    "from  sklearn.metrics.pairwise import cosine_similarity\n",
    "cosine=cosine_similarity(values,values)"
   ]
  },
  {
   "cell_type": "code",
   "execution_count": 12,
   "id": "64847f0c-4771-49a1-abe9-0ffb620c8e5d",
   "metadata": {},
   "outputs": [
    {
     "data": {
      "text/plain": [
       "array([[1.        , 0.03378697, 0.        , ..., 0.02760503, 0.02266334,\n",
       "        0.05978781],\n",
       "       [0.03378697, 1.        , 0.07541995, ..., 0.        , 0.        ,\n",
       "        0.        ],\n",
       "       [0.        , 0.07541995, 1.        , ..., 0.        , 0.        ,\n",
       "        0.        ],\n",
       "       ...,\n",
       "       [0.02760503, 0.        , 0.        , ..., 1.        , 0.82098582,\n",
       "        0.05706736],\n",
       "       [0.02266334, 0.        , 0.        , ..., 0.82098582, 1.        ,\n",
       "        0.04685149],\n",
       "       [0.05978781, 0.        , 0.        , ..., 0.05706736, 0.04685149,\n",
       "        1.        ]])"
      ]
     },
     "execution_count": 12,
     "metadata": {},
     "output_type": "execute_result"
    }
   ],
   "source": [
    "cosine"
   ]
  },
  {
   "cell_type": "code",
   "execution_count": 13,
   "id": "363afc32-c2de-4ffb-81b7-0f27f89e6379",
   "metadata": {},
   "outputs": [],
   "source": [
    "indices = pd.Series(df.index, index=df['name']).drop_duplicates()\n",
    "def get_recommendations(title, cosine_sim=cosine):\n",
    "    if title not in indices:\n",
    "        return f\"'{title}' not found in dataset.\"\n",
    "        \n",
    "    idx = indices[title]\n",
    "    sim_scores = list(enumerate(cosine_sim[idx]))\n",
    "    sim_scores = sorted(sim_scores, key=lambda x: x[1], reverse=True)\n",
    "    sim_scores = sim_scores[1:6]  # Top 5 excluding self\n",
    "    anime_indices = [i[0] for i in sim_scores]\n",
    "    \n",
    "    return df['name'].iloc[anime_indices]"
   ]
  },
  {
   "cell_type": "code",
   "execution_count": 14,
   "id": "39e896f4-2360-4c6f-936f-91b90d935cfa",
   "metadata": {},
   "outputs": [
    {
     "data": {
      "text/plain": [
       "764      kimi to boku.\n",
       "2299      kimi to boku\n",
       "4747        to heart 2\n",
       "4539          to heart\n",
       "319     kimi ni todoke\n",
       "Name: name, dtype: object"
      ]
     },
     "execution_count": 14,
     "metadata": {},
     "output_type": "execute_result"
    }
   ],
   "source": [
    "get_recommendations(\"kimi to boku. 2\")"
   ]
  },
  {
   "cell_type": "code",
   "execution_count": 15,
   "id": "7556dc6b-2b59-4e74-821d-2aa58e28c0bd",
   "metadata": {},
   "outputs": [
    {
     "data": {
      "text/plain": [
       "name                                           kimi ni todoke\n",
       "genre                  Romance, School, Shoujo, Slice of Life\n",
       "type                                                       TV\n",
       "episodes                                                   25\n",
       "content     kimi ni todoke Romance, School, Shoujo, Slice ...\n",
       "Name: 319, dtype: object"
      ]
     },
     "execution_count": 15,
     "metadata": {},
     "output_type": "execute_result"
    }
   ],
   "source": [
    "df.iloc[319]"
   ]
  },
  {
   "cell_type": "code",
   "execution_count": 16,
   "id": "b365c181-f6e8-4313-8394-07fc5508b42b",
   "metadata": {},
   "outputs": [
    {
     "name": "stdout",
     "output_type": "stream",
     "text": [
      "name\n",
      "kimi no na wa.                                            0\n",
      "fullmetal alchemist: brotherhood                          1\n",
      "gintama°                                                  2\n",
      "steins;gate                                               3\n",
      "gintama&#039;                                             4\n",
      "                                                      ...  \n",
      "toushindai my lover: minami tai mecha-minami          12289\n",
      "under world                                           12290\n",
      "violence gekiga david no hoshi                        12291\n",
      "violence gekiga shin david no hoshi: inma densetsu    12292\n",
      "yasuji no pornorama: yacchimae!!                      12293\n",
      "Length: 12294, dtype: int64\n"
     ]
    }
   ],
   "source": [
    "indices = pd.Series(df.index, index=df['name']).drop_duplicates()\n",
    "print(indices)"
   ]
  },
  {
   "cell_type": "code",
   "execution_count": 26,
   "id": "1a95eb5a-db9c-4223-ad3e-6889e467c7f4",
   "metadata": {},
   "outputs": [],
   "source": [
    "values=pd.Series(df.index,index=df[\"name\"])"
   ]
  },
  {
   "cell_type": "code",
   "execution_count": 28,
   "id": "166ae2ff-7c8d-454b-970c-d47195c378a0",
   "metadata": {},
   "outputs": [
    {
     "data": {
      "text/plain": [
       "name\n",
       "kimi no na wa.                                            0\n",
       "fullmetal alchemist: brotherhood                          1\n",
       "gintama°                                                  2\n",
       "steins;gate                                               3\n",
       "gintama&#039;                                             4\n",
       "                                                      ...  \n",
       "toushindai my lover: minami tai mecha-minami          12289\n",
       "under world                                           12290\n",
       "violence gekiga david no hoshi                        12291\n",
       "violence gekiga shin david no hoshi: inma densetsu    12292\n",
       "yasuji no pornorama: yacchimae!!                      12293\n",
       "Length: 12294, dtype: int64"
      ]
     },
     "execution_count": 28,
     "metadata": {},
     "output_type": "execute_result"
    }
   ],
   "source": [
    "values"
   ]
  },
  {
   "cell_type": "code",
   "execution_count": null,
   "id": "644f2d3b-26c2-4522-8c8d-3229d1b3e02c",
   "metadata": {},
   "outputs": [],
   "source": [
    "df.head()"
   ]
  },
  {
   "cell_type": "code",
   "execution_count": null,
   "id": "0b26ccc9-db2a-4853-9a72-6ac31d525e6f",
   "metadata": {},
   "outputs": [],
   "source": [
    "def remmondation(name,cosine_sim=coisne):\n",
    "    if name not in values.index:\n",
    "        return f\"{name} not found in the animes try different one\"\n",
    "    \n",
    "        "
   ]
  }
 ],
 "metadata": {
  "kernelspec": {
   "display_name": "Python 3 (ipykernel)",
   "language": "python",
   "name": "python3"
  },
  "language_info": {
   "codemirror_mode": {
    "name": "ipython",
    "version": 3
   },
   "file_extension": ".py",
   "mimetype": "text/x-python",
   "name": "python",
   "nbconvert_exporter": "python",
   "pygments_lexer": "ipython3",
   "version": "3.12.7"
  }
 },
 "nbformat": 4,
 "nbformat_minor": 5
}
