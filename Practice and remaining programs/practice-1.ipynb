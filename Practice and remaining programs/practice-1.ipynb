{
 "cells": [
  {
   "cell_type": "code",
   "execution_count": 7,
   "id": "00390426-8d31-49d2-843f-9900e7c31a8f",
   "metadata": {
    "scrolled": true
   },
   "outputs": [
    {
     "name": "stdout",
     "output_type": "stream",
     "text": [
      "0 1 2 3 4 5 6 7 8 9 10 "
     ]
    }
   ],
   "source": [
    "#print 1-10 numbers using while loop\n",
    "num=0\n",
    "while num<=10:\n",
    "    print(num,end=\" \")\n",
    "    num+=1"
   ]
  },
  {
   "cell_type": "code",
   "execution_count": null,
   "id": "c9a4c503-da06-493c-916e-dad469aecb20",
   "metadata": {},
   "outputs": [],
   "source": [
    "#print 1 to 5 numbers using for loop \n",
    "for i in range(1,6):\n",
    "    print(i,end=\" \")"
   ]
  },
  {
   "cell_type": "code",
   "execution_count": 21,
   "id": "b48b8864-c6b9-4476-9cd1-17e4343422d0",
   "metadata": {},
   "outputs": [
    {
     "name": "stdout",
     "output_type": "stream",
     "text": [
      "55\n"
     ]
    }
   ],
   "source": [
    "# print sum of 1 to 10 using while loop\n",
    "num=0\n",
    "sum=0\n",
    "while num <11:\n",
    "    sum+=num\n",
    "    num+=1\n",
    "print(sum)\n",
    "    "
   ]
  },
  {
   "cell_type": "code",
   "execution_count": 53,
   "id": "9e9114ed-173f-4340-b4fb-60f99d54ec04",
   "metadata": {},
   "outputs": [
    {
     "name": "stdout",
     "output_type": "stream",
     "text": [
      "55\n"
     ]
    }
   ],
   "source": [
    "# print sum of 1 to 10 using for loop\n",
    "sum=0\n",
    "for i in range(1,11):\n",
    "    sum+=i\n",
    "print(sum)  "
   ]
  },
  {
   "cell_type": "code",
   "execution_count": 37,
   "id": "607e4ef0-08a3-425b-b3b4-51a7521f7d09",
   "metadata": {},
   "outputs": [
    {
     "name": "stdout",
     "output_type": "stream",
     "text": [
      "120\n"
     ]
    }
   ],
   "source": [
    "# Factorial using while\n",
    "sum=1\n",
    "i=1\n",
    "while i<=5:\n",
    "    sum*=i\n",
    "    i+=1\n",
    "print(sum)"
   ]
  },
  {
   "cell_type": "code",
   "execution_count": 1,
   "id": "e9b33b37-d1f9-4297-9451-387e2998f0a4",
   "metadata": {},
   "outputs": [
    {
     "name": "stdout",
     "output_type": "stream",
     "text": [
      "A F K P U \n",
      "B G L Q V \n",
      "C H M R W \n",
      "D I N S X \n",
      "E J O T Y \n"
     ]
    }
   ],
   "source": [
    "n=int(input())\n",
    "#m=int(input())\n",
    "v=ord('A')\n",
    "for i in range(n):\n",
    "    k=0\n",
    "    for j in range(n):\n",
    "        print(chr(v+k),end=' ')\n",
    "        k+=5\n",
    "    print()\n",
    "    v+=1"
   ]
  },
  {
   "cell_type": "code",
   "execution_count": null,
   "id": "f366a551-598b-438b-9f55-397cc6152a81",
   "metadata": {},
   "outputs": [],
   "source": []
  },
  {
   "cell_type": "code",
   "execution_count": 65,
   "id": "88c7bac9-a72a-42d8-8c2c-3f25bfcc734f",
   "metadata": {},
   "outputs": [
    {
     "name": "stdout",
     "output_type": "stream",
     "text": [
      "120\n"
     ]
    }
   ],
   "source": [
    "# factorial using for loop\n",
    "fact=1\n",
    "for i in range(1,6):\n",
    "    fact=fact*i\n",
    "print(fact)\n",
    "    \n"
   ]
  },
  {
   "cell_type": "code",
   "execution_count": 59,
   "id": "320ae296-15e3-40a0-a5b1-48d3a01f0097",
   "metadata": {},
   "outputs": [
    {
     "name": "stdout",
     "output_type": "stream",
     "text": [
      " madam\n"
     ]
    },
    {
     "name": "stdout",
     "output_type": "stream",
     "text": [
      "palindrome\n"
     ]
    }
   ],
   "source": [
    "# check given string is palindrome\n",
    "pan=input()\n",
    "if pan==pan[::-1]:\n",
    "    print(\"palindrome\")\n",
    "else:\n",
    "    print(\"not palindrome\")"
   ]
  },
  {
   "cell_type": "code",
   "execution_count": null,
   "id": "9964e558-2b65-42ef-b405-9422b1f015a2",
   "metadata": {},
   "outputs": [
    {
     "name": "stdout",
     "output_type": "stream",
     "text": [
      "hello world\n"
     ]
    }
   ],
   "source": [
    "v1=\"hello world\"\n",
    "print(v1)"
   ]
  },
  {
   "cell_type": "code",
   "execution_count": 93,
   "id": "e08c72a5-777d-47ab-860d-ed5166ac0b43",
   "metadata": {},
   "outputs": [],
   "source": [
    "for i in range(65,91):\n",
    "    for j in range(5):\n",
    "        alp=chr(i+5)"
   ]
  },
  {
   "cell_type": "code",
   "execution_count": null,
   "id": "75f3469b-5da1-428c-b595-6b00ed881bd1",
   "metadata": {},
   "outputs": [
    {
     "name": "stdout",
     "output_type": "stream",
     "text": [
      "A F K P U\n",
      "B G L Q V\n",
      "C H M R W\n",
      "D I N S X\n",
      "E J O T Y\n"
     ]
    }
   ],
   "source": [
    "# def pattern():\n",
    "#     for i in range(65,80):\n",
    "#         z=(chr(i),chr(i+5),chr(i+10),chr(i+15),chr(i+20))\n",
    "#         print(\" \".join(z),)\n",
    "#         if i==69:\n",
    "#             return\n",
    "# pattern()       "
   ]
  },
  {
   "cell_type": "code",
   "execution_count": 29,
   "id": "a97a493e-0155-4e49-b38b-6d3536c79155",
   "metadata": {},
   "outputs": [
    {
     "name": "stdout",
     "output_type": "stream",
     "text": [
      "91\n"
     ]
    }
   ],
   "source": [
    "if 5%2==0:\n",
    "    print(\"Even\")\n",
    "else:\n",
    "    print(\"False\")"
   ]
  },
  {
   "cell_type": "code",
   "execution_count": 5,
   "id": "c7bb14e7-304d-4cdb-84ef-8a1043842187",
   "metadata": {},
   "outputs": [
    {
     "name": "stdout",
     "output_type": "stream",
     "text": [
      " 1\n"
     ]
    },
    {
     "name": "stdout",
     "output_type": "stream",
     "text": [
      "Odd\n"
     ]
    }
   ],
   "source": [
    "num=int(input())\n",
    "if num>=0:\n",
    "    if num%2==0:\n",
    "        print(\"Even\")\n",
    "    else:\n",
    "        print(\"Odd\")\n",
    "else:\n",
    "    print(\"Enter positive number\")"
   ]
  },
  {
   "cell_type": "code",
   "execution_count": 1,
   "id": "6b688386-690a-4b32-b77d-ab5ba53305b0",
   "metadata": {},
   "outputs": [
    {
     "name": "stdout",
     "output_type": "stream",
     "text": [
      " charan\n"
     ]
    },
    {
     "ename": "ValueError",
     "evalue": "invalid literal for int() with base 10: 'charan'",
     "output_type": "error",
     "traceback": [
      "\u001b[1;31m---------------------------------------------------------------------------\u001b[0m",
      "\u001b[1;31mValueError\u001b[0m                                Traceback (most recent call last)",
      "Cell \u001b[1;32mIn[1], line 1\u001b[0m\n\u001b[1;32m----> 1\u001b[0m num\u001b[38;5;241m=\u001b[39m\u001b[38;5;28;43mint\u001b[39;49m\u001b[43m(\u001b[49m\u001b[38;5;28;43minput\u001b[39;49m\u001b[43m(\u001b[49m\u001b[43m)\u001b[49m\u001b[43m)\u001b[49m\n\u001b[0;32m      2\u001b[0m \u001b[38;5;28mtype\u001b[39m(num)\n",
      "\u001b[1;31mValueError\u001b[0m: invalid literal for int() with base 10: 'charan'"
     ]
    }
   ],
   "source": [
    "num=int(input())\n",
    "type(num)"
   ]
  },
  {
   "cell_type": "code",
   "execution_count": null,
   "id": "83be4177-2241-47b3-9ca4-c1a2f79f670a",
   "metadata": {},
   "outputs": [],
   "source": []
  }
 ],
 "metadata": {
  "kernelspec": {
   "display_name": "Python 3 (ipykernel)",
   "language": "python",
   "name": "python3"
  },
  "language_info": {
   "codemirror_mode": {
    "name": "ipython",
    "version": 3
   },
   "file_extension": ".py",
   "mimetype": "text/x-python",
   "name": "python",
   "nbconvert_exporter": "python",
   "pygments_lexer": "ipython3",
   "version": "3.12.7"
  }
 },
 "nbformat": 4,
 "nbformat_minor": 5
}
