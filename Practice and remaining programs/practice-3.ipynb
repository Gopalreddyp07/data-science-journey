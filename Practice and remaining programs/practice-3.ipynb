{
 "cells": [
  {
   "cell_type": "code",
   "execution_count": null,
   "id": "6da1d4d2-997b-4888-94e0-0dcb2930dfef",
   "metadata": {},
   "outputs": [],
   "source": [
    "# Write a python program to reverse the string using slicing\n",
    "str1=\"Python\"\n",
    "print(str1[::-1]"
   ]
  },
  {
   "cell_type": "code",
   "execution_count": 1,
   "id": "e47c16a9-ed57-4390-85c1-e8a7a644bb99",
   "metadata": {},
   "outputs": [
    {
     "name": "stdout",
     "output_type": "stream",
     "text": [
      "r\n",
      "Hello\n"
     ]
    },
    {
     "ename": "ValueError",
     "evalue": "slice step cannot be zero",
     "output_type": "error",
     "traceback": [
      "\u001b[1;31m---------------------------------------------------------------------------\u001b[0m",
      "\u001b[1;31mValueError\u001b[0m                                Traceback (most recent call last)",
      "Cell \u001b[1;32mIn[1], line 6\u001b[0m\n\u001b[0;32m      4\u001b[0m \u001b[38;5;28mprint\u001b[39m(s[\u001b[38;5;241m-\u001b[39m\u001b[38;5;241m3\u001b[39m])\n\u001b[0;32m      5\u001b[0m \u001b[38;5;28mprint\u001b[39m(s[\u001b[38;5;241m0\u001b[39m:\u001b[38;5;241m5\u001b[39m])\n\u001b[1;32m----> 6\u001b[0m \u001b[38;5;28mprint\u001b[39m(\u001b[43ms\u001b[49m\u001b[43m[\u001b[49m\u001b[43m:\u001b[49m\u001b[43m:\u001b[49m\u001b[38;5;241;43m0\u001b[39;49m\u001b[43m]\u001b[49m)\n\u001b[0;32m      7\u001b[0m \u001b[38;5;28mprint\u001b[39m(s[\u001b[38;5;241m11\u001b[39m])\n\u001b[0;32m      8\u001b[0m \u001b[38;5;28mprint\u001b[39m(s[\u001b[38;5;241m-\u001b[39m\u001b[38;5;241m3\u001b[39m:\u001b[38;5;241m-\u001b[39m\u001b[38;5;241m11\u001b[39m])\n",
      "\u001b[1;31mValueError\u001b[0m: slice step cannot be zero"
     ]
    }
   ],
   "source": [
    "# 2)find the out[ut for the following slicing operation given string \"Hello world\"\n",
    "# i)s[3] ii)s[0:5] iii) s[::0] iv)s[11] v)s[-3:-11]\n",
    "s=\"Hello world\"\n",
    "print(s[-3])\n",
    "print(s[0:5])\n",
    "print(s[::0])\n",
    "print(s[11])\n",
    "print(s[-3:-11])"
   ]
  },
  {
   "cell_type": "code",
   "execution_count": 43,
   "id": "bd0ec5f2-a0fc-4bb5-9abd-9ffb4d2b0c81",
   "metadata": {},
   "outputs": [
    {
     "name": "stdin",
     "output_type": "stream",
     "text": [
      "Enter the range for the print of the fibbinacci series: 10\n"
     ]
    },
    {
     "name": "stdout",
     "output_type": "stream",
     "text": [
      "0 1 1 2 3 5 8 13 21 34 "
     ]
    }
   ],
   "source": [
    "# 3) write  the python program to find the fibbinacci series \n",
    "# num1=0\n",
    "# num2=1\n",
    "ran=int(input(\"Enter the range for the print of the fibbinacci series:\"))\n",
    "lis=[0,1]\n",
    "tot=0\n",
    "for i in range(ran-2):\n",
    "    total=lis[i]+lis[i+1]\n",
    "    \n",
    "    lis.append(total)\n",
    "# \"\".join(lis)\n",
    "for i in lis:\n",
    "    print(i,end=\" \")\n",
    "# print(lis)"
   ]
  },
  {
   "cell_type": "code",
   "execution_count": 45,
   "id": "24c038ec-b3e4-4164-b268-2165cbf9e82d",
   "metadata": {},
   "outputs": [
    {
     "name": "stdout",
     "output_type": "stream",
     "text": [
      "misssed value is:0\n",
      "misssed value is:5\n"
     ]
    }
   ],
   "source": [
    "num=(range(10))\n",
    "num1=[1,2,3,4,6,7,8,9,10]\n",
    "for i in num:\n",
    "    if i not in num1:\n",
    "        print(f\"misssed value is:{i}\")\n",
    "    "
   ]
  },
  {
   "cell_type": "code",
   "execution_count": 60,
   "id": "05bb873b-92f8-4af4-a985-e1f2e3dd355b",
   "metadata": {},
   "outputs": [
    {
     "name": "stdout",
     "output_type": "stream",
     "text": [
      "120\n"
     ]
    }
   ],
   "source": [
    "sum=1\n",
    "for i in range(1,5):\n",
    "    sum+=sum*i\n",
    "print(sum)"
   ]
  },
  {
   "cell_type": "code",
   "execution_count": 41,
   "id": "208f4d2a-7e64-4e4e-9804-9e7f00f8f035",
   "metadata": {},
   "outputs": [
    {
     "ename": "SyntaxError",
     "evalue": "f-string: expecting '!', or ':', or '}' (447464893.py, line 2)",
     "output_type": "error",
     "traceback": [
      "\u001b[1;36m  Cell \u001b[1;32mIn[41], line 2\u001b[1;36m\u001b[0m\n\u001b[1;33m    print(f\"{i}*{end=\" \"}\")\u001b[0m\n\u001b[1;37m                     ^\u001b[0m\n\u001b[1;31mSyntaxError\u001b[0m\u001b[1;31m:\u001b[0m f-string: expecting '!', or ':', or '}'\n"
     ]
    }
   ],
   "source": [
    "for i in range(5,0,-1):\n",
    "    print(f\"{i}*{end=\" \"}\")"
   ]
  },
  {
   "cell_type": "code",
   "execution_count": 80,
   "id": "bcf48327-390d-4af8-bb76-751e49a43781",
   "metadata": {},
   "outputs": [
    {
     "name": "stdout",
     "output_type": "stream",
     "text": [
      "6\n"
     ]
    }
   ],
   "source": [
    "num=5\n",
    "sum=1\n",
    "if num>0:\n",
    "    sum+=num*sum\n",
    "    num-=1\n",
    "print(sum)\n",
    "    "
   ]
  },
  {
   "cell_type": "code",
   "execution_count": 43,
   "id": "bc20955d-d50c-490a-9271-468a6855cfd0",
   "metadata": {},
   "outputs": [
    {
     "name": "stdout",
     "output_type": "stream",
     "text": [
      "\n"
     ]
    }
   ],
   "source": [
    "\n",
    "s=\"charan\"\n",
    "print(s[-2:-7])"
   ]
  },
  {
   "cell_type": "code",
   "execution_count": 168,
   "id": "001c7a33-2d52-4e5e-8eb6-26ca7716c582",
   "metadata": {},
   "outputs": [
    {
     "ename": "SyntaxError",
     "evalue": "f-string: expecting '!', or ':', or '}' (120326607.py, line 2)",
     "output_type": "error",
     "traceback": [
      "\u001b[1;36m  Cell \u001b[1;32mIn[168], line 2\u001b[1;36m\u001b[0m\n\u001b[1;33m    print(f\"{i}*{end=' '} \")\u001b[0m\n\u001b[1;37m                     ^\u001b[0m\n\u001b[1;31mSyntaxError\u001b[0m\u001b[1;31m:\u001b[0m f-string: expecting '!', or ':', or '}'\n"
     ]
    }
   ],
   "source": [
    "for i in range(5):\n",
    "    print(f\"{i}*{end=\" \"}\")\n"
   ]
  },
  {
   "cell_type": "code",
   "execution_count": 3,
   "id": "4eb0555c-aef8-4cc9-b71d-57a159d3a785",
   "metadata": {},
   "outputs": [
    {
     "name": "stdin",
     "output_type": "stream",
     "text": [
      " 12345678\n"
     ]
    },
    {
     "name": "stdout",
     "output_type": "stream",
     "text": [
      "[1, 2, 3, 4, 5, 6, 7, 8]\n",
      "36\n"
     ]
    }
   ],
   "source": [
    "#num=int(input(\"enter the number of values to be input:\"))\n",
    "lis=list(map(int,input()))\n",
    "print(lis)\n",
    "adds=0\n",
    "for i in lis:\n",
    "    adds+=i\n",
    "print(adds)"
   ]
  },
  {
   "cell_type": "code",
   "execution_count": 7,
   "id": "ec60358d-a062-4d43-ad56-129fac6f51cc",
   "metadata": {},
   "outputs": [],
   "source": [
    "# yield function presentation \n",
    "count=0\n",
    "def counter():\n",
    "    global count\n",
    "    for i in range(1,10):\n",
    "        # print(i)\n",
    "        yield i\n",
    "    \n",
    "\n",
    "#for j in counter():\n",
    " #   print(j,end=\" \")\n",
    "    "
   ]
  },
  {
   "cell_type": "code",
   "execution_count": 31,
   "id": "350719ae-5a6e-4c89-b1d8-d4f875849691",
   "metadata": {},
   "outputs": [
    {
     "name": "stdout",
     "output_type": "stream",
     "text": [
      "hello\n",
      "hello\n"
     ]
    }
   ],
   "source": [
    "\n",
    "def counter():\n",
    "    global count\n",
    "    for i in range(1,):\n",
    "        # print(i)\n",
    "        yield i"
   ]
  },
  {
   "cell_type": "code",
   "execution_count": 21,
   "id": "dd543ce0-e939-42d5-8cf2-43b896933d28",
   "metadata": {},
   "outputs": [
    {
     "name": "stdout",
     "output_type": "stream",
     "text": [
      "1\n",
      "2\n",
      "3\n"
     ]
    }
   ],
   "source": [
    "aooo=counter(10)\n",
    "print(next(aooo))\n",
    "print(next(aooo))\n",
    "print(next(aooo))"
   ]
  },
  {
   "cell_type": "code",
   "execution_count": 74,
   "id": "fe9c5786-5f65-4804-acce-210212f438ae",
   "metadata": {},
   "outputs": [
    {
     "name": "stdout",
     "output_type": "stream",
     "text": [
      "1\n",
      "2\n",
      "3\n",
      "4\n",
      "5\n"
     ]
    }
   ],
   "source": [
    "lis=[1,2,3,4,5]\n",
    "a=iter(lis)\n",
    "# print(next(a))\n",
    "# print(next(a))\n",
    "# print(next(a))\n",
    "# print(next(a))\n",
    "# print(next(a))\n",
    "# print(next(a))\n",
    "for i in  range(len(lis)):\n",
    "    print(next(a))"
   ]
  },
  {
   "cell_type": "code",
   "execution_count": 1,
   "id": "fe400305-7e5d-4579-86d5-f0ed2d233ace",
   "metadata": {},
   "outputs": [
    {
     "name": "stdout",
     "output_type": "stream",
     "text": [
      "0 1 1 2 3 5 8 13 21 34 "
     ]
    }
   ],
   "source": [
    "x=0\n",
    "y=1\n",
    "while x<55:\n",
    "    print(x,end=\" \")\n",
    "    x,y=y,y+x"
   ]
  },
  {
   "cell_type": "code",
   "execution_count": 7,
   "id": "8cb0ca40-7ece-41af-a5a9-2997a2260cc3",
   "metadata": {},
   "outputs": [
    {
     "name": "stdout",
     "output_type": "stream",
     "text": [
      "[44, 66, 88, 110, 132, 154, 176]\n",
      "['22', '33', '44', '55', '66', '77', '88']\n"
     ]
    }
   ],
   "source": [
    "def double(i):\n",
    "    return i*2\n",
    "lis1=[22,33,44,55,66,77,88]\n",
    "#map(operation to be done,iteration list)\n",
    "lis=list(map(str,lis1))\n",
    "lis2=list(map(double,lis1))\n",
    "print(lis2)\n",
    "print(lis)"
   ]
  },
  {
   "cell_type": "code",
   "execution_count": 35,
   "id": "8123252f-d589-4ba7-b714-56c055464861",
   "metadata": {},
   "outputs": [],
   "source": [
    "lis1=[22,33,44,55,66,77,88]\n",
    "a=[]\n",
    "for i in lis1:\n",
    "    z=i*2\n",
    "    b=a.append(z)\n",
    "    # print(z)\n"
   ]
  },
  {
   "cell_type": "code",
   "execution_count": 37,
   "id": "aad67e31-ac73-4e1a-9fae-b06348c45ccb",
   "metadata": {},
   "outputs": [
    {
     "name": "stdout",
     "output_type": "stream",
     "text": [
      "None\n"
     ]
    }
   ],
   "source": [
    "print(b)"
   ]
  },
  {
   "cell_type": "code",
   "execution_count": null,
   "id": "a6b74652-89f3-42c9-86f0-b1b656e29932",
   "metadata": {},
   "outputs": [],
   "source": []
  }
 ],
 "metadata": {
  "kernelspec": {
   "display_name": "Python 3 (ipykernel)",
   "language": "python",
   "name": "python3"
  },
  "language_info": {
   "codemirror_mode": {
    "name": "ipython",
    "version": 3
   },
   "file_extension": ".py",
   "mimetype": "text/x-python",
   "name": "python",
   "nbconvert_exporter": "python",
   "pygments_lexer": "ipython3",
   "version": "3.12.7"
  }
 },
 "nbformat": 4,
 "nbformat_minor": 5
}
