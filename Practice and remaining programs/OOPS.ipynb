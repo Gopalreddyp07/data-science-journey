{
 "cells": [
  {
   "cell_type": "code",
   "execution_count": 1,
   "id": "0ab7a7d7-823a-4921-9849-fc0dd4d44da9",
   "metadata": {},
   "outputs": [
    {
     "name": "stdout",
     "output_type": "stream",
     "text": [
      "This class about cars\n"
     ]
    }
   ],
   "source": [
    "class Car:\n",
    "    def __init__(self):\n",
    "        print(\"This class about cars\")\n",
    "    def color(self):\n",
    "        print(\"color is red color\")\n",
    "    def type(self):\n",
    "        print(\"car type is seden\")\n",
    "p=Car()\n",
    "# when you call class it will call construtor "
   ]
  },
  {
   "cell_type": "code",
   "execution_count": 2,
   "id": "42507166-f99c-4c0e-a7f4-ef8e11d1047f",
   "metadata": {
    "panel-layout": {
     "height": 0,
     "visible": true,
     "width": 100
    }
   },
   "outputs": [
    {
     "name": "stdout",
     "output_type": "stream",
     "text": [
      "color is red color\n"
     ]
    }
   ],
   "source": [
    "p.color()"
   ]
  },
  {
   "cell_type": "code",
   "execution_count": 3,
   "id": "ed52143c-2c6b-4995-8d60-3b5289cd55c5",
   "metadata": {
    "panel-layout": {
     "height": 0,
     "visible": true,
     "width": 100
    }
   },
   "outputs": [
    {
     "name": "stdout",
     "output_type": "stream",
     "text": [
      "car type is seden\n"
     ]
    }
   ],
   "source": [
    "p.type()"
   ]
  },
  {
   "cell_type": "code",
   "execution_count": 4,
   "id": "a5029eca-6eb6-46e7-aa6f-87d8d41d8777",
   "metadata": {
    "panel-layout": {
     "height": 0,
     "visible": true,
     "width": 100
    }
   },
   "outputs": [],
   "source": [
    "# Class and objects \n",
    "class Bank:\n",
    "    def __init__(self,name,balance=0):\n",
    "        self.name=name\n",
    "        self.balance=balance\n",
    "    def balances(self):\n",
    "        return (f\"Your account balance is:{self.balance}\")\n",
    "    def deposite(self,amount):\n",
    "        self.balance+=amount\n",
    "        print(f\"the deposited amount:{amount} of account holder:{self.name}\")\n",
    "    def withdraw(self,amount):\n",
    "        if self.balance<amount:\n",
    "            print(\"the amount is not available\")\n",
    "        else:\n",
    "            self.balance-=amount\n",
    "            print(f\"the amount name:{self.name} withdraw from your account{amount}\")\n",
    "B=Bank(\"raju\")\n",
    "B1=Bank(\"cherry\")\n",
    "# print(B1)"
   ]
  },
  {
   "cell_type": "code",
   "execution_count": 5,
   "id": "f913e45c-24ae-4671-88cb-cdf4dd48721d",
   "metadata": {
    "panel-layout": {
     "height": 0,
     "visible": true,
     "width": 100
    }
   },
   "outputs": [
    {
     "name": "stdout",
     "output_type": "stream",
     "text": [
      "the deposited amount:10000 of account holder:cherry\n"
     ]
    }
   ],
   "source": [
    "B1.deposite(10000)"
   ]
  },
  {
   "cell_type": "code",
   "execution_count": 6,
   "id": "b56777a5-b4b9-4f5e-a980-e1ed111c0430",
   "metadata": {
    "panel-layout": {
     "height": 51.125,
     "visible": true,
     "width": 100
    }
   },
   "outputs": [
    {
     "data": {
      "text/plain": [
       "'Your account balance is:0'"
      ]
     },
     "execution_count": 6,
     "metadata": {},
     "output_type": "execute_result"
    }
   ],
   "source": [
    "B.balances()"
   ]
  },
  {
   "cell_type": "code",
   "execution_count": 7,
   "id": "a2632071-ba6c-4c59-96c7-8413ab6bf170",
   "metadata": {},
   "outputs": [
    {
     "name": "stdout",
     "output_type": "stream",
     "text": [
      "the amount is not available\n"
     ]
    }
   ],
   "source": [
    "B1.withdraw(50000)"
   ]
  },
  {
   "cell_type": "code",
   "execution_count": 2,
   "id": "11585226-bf61-4e64-9831-7896477f6022",
   "metadata": {},
   "outputs": [
    {
     "name": "stdout",
     "output_type": "stream",
     "text": [
      "\n",
      "*******************************\n",
      "WELCOME TO OUR BANKING SYSTEM\n",
      "*******************************\n"
     ]
    },
    {
     "name": "stdout",
     "output_type": "stream",
     "text": [
      "Enter the numerical operations only\n",
      " \n",
      "***************************************\n",
      "Thank you for using our banking system\n",
      "***************************************\n"
     ]
    }
   ],
   "source": [
    "# Encapsulation it allow only access of the data with in the class\n",
    "class Bank:\n",
    "    def __init__(self,accname,balance=0):\n",
    "        self.name=accname\n",
    "        self.__balance=balance\n",
    "    def display(self):\n",
    "        return (f\"name:{self.name} balance:{self.__balance}\")\n",
    "    def deposite(self,amount):\n",
    "        if amount<0:\n",
    "            return  \"Enter the positive amount to deposite\"\n",
    "        else:\n",
    "            self.__balance+=amount\n",
    "            return (f\"name:{self.name} balance after deposite money:{self.__balance}\")\n",
    "    def withdraw(self,amount):\n",
    "        if amount>self.__balance:\n",
    "            return (f\"You wont have sufficient balance to  withdraw\")\n",
    "        else:\n",
    "            self.__balance-=amount\n",
    "            return (f\"Thank you {self.name} your remaining balace is{self.__balance}\")\n",
    "A=Bank(\"Ramu\")\n",
    "print(\"\"\"\n",
    "*******************************\n",
    "WELCOME TO OUR BANKING SYSTEM\n",
    "*******************************\"\"\")\n",
    "while True:\n",
    "\n",
    "    try:\n",
    "        oper=int(input(\"\"\"\n",
    "Enter the operation do you want to do:\n",
    "                    1)account balance dispaly\n",
    "                    2)Withdraw amount\n",
    "                    3)deposite amount\n",
    "                    4)exit\n",
    "\"\"\"))\n",
    "        if oper==1:\n",
    "            print(\"\\n\",A.display())\n",
    "        elif oper==2:\n",
    "            amount=int(input(\"Enter the amount do you want to withdraw:\"))\n",
    "            print(\"\\n\",A.withdraw(amount))\n",
    "        elif oper==3:\n",
    "            amount=int(input(\"Enter the amount do you want to deposite:\"))\n",
    "            print(\"\\n\",A.deposite(amount))\n",
    "        elif oper==4:\n",
    "            print(\"\"\" \n",
    "***************************************\n",
    "Thank you for using our banking system\n",
    "***************************************\"\"\")\n",
    "            break\n",
    "        else:\n",
    "            print(\"\\n\",\"Enter the valid operation\")\n",
    "    except ValueError:\n",
    "        print(\"Enter the numerical operations only\")\n"
   ]
  },
  {
   "cell_type": "code",
   "execution_count": null,
   "id": "8a6053f9-2dd0-48ec-9d56-d3a5d139b378",
   "metadata": {},
   "outputs": [
    {
     "name": "stdout",
     "output_type": "stream",
     "text": [
      "Washrooms are arranged\n",
      "Est_School\n"
     ]
    }
   ],
   "source": [
    "# Abstract method implementation\n",
    "# Absract method must be written won't written any thing to implement it must be with pass method \n",
    "# Abstraction is directly not possible in python so we use the from abc import ABC,abstractmethod\n",
    "from abc import ABC,abstractmethod\n",
    "\n",
    "class School(ABC):\n",
    "    @abstractmethod\n",
    "    def classrooms(self):\n",
    "        pass\n",
    "    @abstractmethod\n",
    "    def teachers(self):\n",
    "        pass\n",
    "    @abstractmethod\n",
    "    def library(self):\n",
    "        pass\n",
    "    @abstractmethod\n",
    "    def labs(self):\n",
    "        pass\n",
    "    @abstractmethod\n",
    "    def washrooms(self):\n",
    "        pass\n",
    "    @abstractmethod\n",
    "    def playground():\n",
    "        print(\"The play ground is need to execute\")\n",
    "class Est_School(School):\n",
    "    def classrooms(self):\n",
    "        print(\"Classrooms are arranged\")\n",
    "    def teachers(self):\n",
    "        print(\"Teachers are appointed\")\n",
    "    def library(self):\n",
    "        print(\"Library has been arranged\")\n",
    "    def labs(self):\n",
    "        print(\"Labs are established\")\n",
    "    def washrooms(self):\n",
    "        print(\"Washrooms are arranged\")\n",
    "    def playground():\n",
    "        print(\"Playground is arranged\")\n",
    "Est_School().classrooms()\n",
    "Est_School().washrooms()\n",
    "print(Est_School.__name__)"
   ]
  },
  {
   "cell_type": "markdown",
   "id": "caa9f08a-75fc-4ae0-bcf1-e71958890a27",
   "metadata": {},
   "source": [
    "Inheritance "
   ]
  },
  {
   "cell_type": "code",
   "execution_count": 11,
   "id": "4509a489-d6fa-4070-ac17-e9be9ca9db06",
   "metadata": {},
   "outputs": [
    {
     "name": "stdout",
     "output_type": "stream",
     "text": [
      "Tejaswini Ramana Reddy\n",
      "Ramana Reddy\n",
      "Ramana Reddy\n"
     ]
    },
    {
     "ename": "AttributeError",
     "evalue": "'Parent' object has no attribute 'Daughter_name'",
     "output_type": "error",
     "traceback": [
      "\u001b[1;31m---------------------------------------------------------------------------\u001b[0m",
      "\u001b[1;31mAttributeError\u001b[0m                            Traceback (most recent call last)",
      "Cell \u001b[1;32mIn[11], line 14\u001b[0m\n\u001b[0;32m     12\u001b[0m \u001b[38;5;28mprint\u001b[39m(Child()\u001b[38;5;241m.\u001b[39mFather_name())\n\u001b[0;32m     13\u001b[0m \u001b[38;5;28mprint\u001b[39m(Parent()\u001b[38;5;241m.\u001b[39mFather_name())\n\u001b[1;32m---> 14\u001b[0m \u001b[38;5;28mprint\u001b[39m(\u001b[43mParent\u001b[49m\u001b[43m(\u001b[49m\u001b[43m)\u001b[49m\u001b[38;5;241;43m.\u001b[39;49m\u001b[43mDaughter_name\u001b[49m())\u001b[38;5;66;03m# In inheritance we can access parent class using child class but we can't access child class using parent class\u001b[39;00m\n",
      "\u001b[1;31mAttributeError\u001b[0m: 'Parent' object has no attribute 'Daughter_name'"
     ]
    }
   ],
   "source": [
    "# inheritance is used to extend the parent class to child class\n",
    "# Single inheritance \n",
    "class Parent():\n",
    "    def Father_name(self):\n",
    "        return \"Ramana Reddy\"\n",
    "    def  Mother_name(self):\n",
    "        return \"Sujatha\"\n",
    "class Child(Parent):\n",
    "    def Daughter_name(self):\n",
    "        return \"Tejaswini \"+Parent().Father_name()\n",
    "print(Child().Daughter_name())\n",
    "print(Child().Father_name())\n",
    "print(Parent().Father_name())\n",
    "print(Parent().Daughter_name())# In inheritance we can access parent class using child class but we can't access child class using parent class"
   ]
  },
  {
   "cell_type": "code",
   "execution_count": 31,
   "id": "20a75bf1-9a8a-4bf5-b441-f11b130e0311",
   "metadata": {},
   "outputs": [
    {
     "name": "stdout",
     "output_type": "stream",
     "text": [
      "the Carnival is made with the Turbo engine\n"
     ]
    }
   ],
   "source": [
    "# Single inhertance with constractor\n",
    "class Car():\n",
    "    def __init__(self,Company,model):\n",
    "        self.company=Company\n",
    "        self.model=model\n",
    "    def color(self):\n",
    "        print(f\"The {self.model} color is red color\")\n",
    "class Car_ext(Car):\n",
    "    def __init__(self,Company,model,engine):\n",
    "        super().__init__(Company,model)\n",
    "        self.engines=engine\n",
    "    def engine(self):\n",
    "        print(f\"the {self.model} is made with the {self.engines} engine\")\n",
    "        \n",
    "Car_ext(\"Kia\",\"Carnival\",\"Turbo\").engine()"
   ]
  },
  {
   "cell_type": "code",
   "execution_count": 33,
   "id": "5245964e-b826-4e7f-bff0-b253afef47d2",
   "metadata": {},
   "outputs": [
    {
     "name": "stdout",
     "output_type": "stream",
     "text": [
      "It works with the petrol\n",
      "It works with the petrol\n",
      "It works with the electric\n"
     ]
    }
   ],
   "source": [
    "# 2. Multiple Inheritance\n",
    "# A child class inherits from multiple parent classes.\n",
    "# Multiple Inheritance (Multiple Parents → One Child)\n",
    "# Real-time Example: Hybrid Car System\n",
    "# Parent Class 1: PetrolEngine\n",
    "# Parent Class 2: ElectricMotor\n",
    "# Child Class: HybridCar (inherits features from both)\n",
    "class Petrol:\n",
    "    def works(self):\n",
    "        return (\"It works with the petrol\")\n",
    "class Electrical:\n",
    "    def works_electrical(self):\n",
    "        return (\"It works with the electric\")\n",
    "class Hybrid(Petrol,Electrical):\n",
    "    def work(self):\n",
    "        return (\"It works with both electric and petrol\")\n",
    "print(Petrol().works())\n",
    "# print(Electrical().works())\n",
    "print(Hybrid().works())\n",
    "print(Hybrid().works_electrical())"
   ]
  },
  {
   "cell_type": "code",
   "execution_count": 35,
   "id": "040043ee-6d75-41e6-ac7d-90f2b37b22ff",
   "metadata": {},
   "outputs": [
    {
     "name": "stdout",
     "output_type": "stream",
     "text": [
      "The person as the student\n",
      "The person become engineer\n",
      "The person become CEO\n"
     ]
    }
   ],
   "source": [
    "# 3. Multilevel Inheritance (Grandparent → Parent → Child)\n",
    "# Real-time Example: School System\n",
    "# Grandparent Class: Person\n",
    "# Parent Class: Teacher\n",
    "# Child Class: MathTeacher\n",
    "class Person():\n",
    "    def student(self):\n",
    "        return \"The person as the student\"\n",
    "class Person1(Person):\n",
    "    def engineer(self):\n",
    "        return \"The person become engineer\"\n",
    "class Person2(Person1):\n",
    "    def ceo(self):\n",
    "        return \"The person become CEO\"\n",
    "print(Person().student())\n",
    "print(Person1().engineer())\n",
    "print(Person2().ceo())"
   ]
  },
  {
   "cell_type": "code",
   "execution_count": 37,
   "id": "009c25a4-5130-44b6-b790-52c94a16fe51",
   "metadata": {},
   "outputs": [
    {
     "name": "stdout",
     "output_type": "stream",
     "text": [
      "Cars are comes under the Vechile catogory\n",
      "Bikes are comes under the Vechile catogory\n"
     ]
    }
   ],
   "source": [
    "# 4. Hierarchical Inheritance (One Parent → Multiple Children)\n",
    "# Real-time Example: Vehicle System\n",
    "# Parent Class: Vehicle\n",
    "# Child Class 1: Car\n",
    "# Child Class 2: Bike\n",
    "class Vechile():\n",
    "    def Vechiles(self):\n",
    "        return \"Different vechiles are comes under this catagory\"\n",
    "class Bike(Vechile):\n",
    "    def Bikes(self):\n",
    "        return \"Bikes are comes under the Vechile catogory\"\n",
    "class Car(Vechile):\n",
    "    def Cars(self):\n",
    "        return \"Cars are comes under the Vechile catogory\"\n",
    "print(Car().Cars())\n",
    "print(Bike().Bikes())\n"
   ]
  },
  {
   "cell_type": "code",
   "execution_count": 39,
   "id": "4e2d4b00-6132-4a6c-8ae7-545577c694dd",
   "metadata": {},
   "outputs": [
    {
     "data": {
      "text/plain": [
       "[__main__.ProjectManager,\n",
       " __main__.Employee,\n",
       " __main__.Manager,\n",
       " __main__.Person,\n",
       " object]"
      ]
     },
     "execution_count": 39,
     "metadata": {},
     "output_type": "execute_result"
    }
   ],
   "source": [
    "# 5. Hybrid Inheritance (Combination of Multiple Types)\n",
    "# Real-time Example: Employee Management System\n",
    "# Base Class: Person\n",
    "# Intermediate Class 1: Employee (inherits from Person)\n",
    "# Intermediate Class 2: Manager (inherits from Person)\n",
    "# Final Class: ProjectManager (inherits from both Employee and Manager)\n",
    "class Person:\n",
    "    def person():\n",
    "        return \"First you are the person\"\n",
    "class Employee(Person):\n",
    "    def appoints():\n",
    "        return \"You are become the employee\"\n",
    "class Manager(Person):\n",
    "    def promote():\n",
    "        return \"You are promoted as the Manager\"\n",
    "class ProjectManager(Employee,Manager):\n",
    "    def upgrade():\n",
    "        return \"You are upgrade to projectmanager from employee and manager\"\n",
    "ProjectManager.mro()"
   ]
  },
  {
   "cell_type": "markdown",
   "id": "b2bf2853-d6ba-49f5-9efb-1e40978d4e5c",
   "metadata": {},
   "source": [
    "Inheritance Type.......................Real-World Example\n",
    "Single.................................Bank Account (SavingsAccount inherits from BankAccount)\n",
    "Multiple...............................Hybrid Car (HybridCar inherits from PetrolEngine and ElectricMotor)\n",
    "Multilevel.............................School System (MathTeacher inherits from Teacher, which inherits from Person)\n",
    "Hierarchical...........................Vehicles (Car and Bike inherit from Vehicle)\n",
    "Hybrid.................................Employee Management (ProjectManager inherits from both Employee and Manager)"
   ]
  },
  {
   "cell_type": "code",
   "execution_count": 42,
   "id": "bd92f083-e0af-4b53-b2aa-2f254184eb5f",
   "metadata": {},
   "outputs": [
    {
     "name": "stdout",
     "output_type": "stream",
     "text": [
      "Area of the rectangel:200\n",
      "Perimeter of the rectangel:60.00\n",
      "Area of the Circle:31.40\n",
      "Perimeter of the Circle:62.80\n"
     ]
    }
   ],
   "source": [
    "# # Polymorphism\n",
    "# Polymorphism is an important concept in Object-Oriented Programming (OOP) that allows a single interface (method, function, or operator) to work with different types of objects.\n",
    "\n",
    "# 🔹 The word Polymorphism comes from the Greek words \"poly\" (many) + \"morph\" (forms), meaning \"many forms\".\n",
    "# 🔹 In Python, polymorphism allows different classes to define methods with the same name, but with different implementations.\n",
    "class Shape:\n",
    "    def area(self):\n",
    "        pass\n",
    "    def perimeter(self):\n",
    "        pass\n",
    "class Rectangle:\n",
    "    def __init__(self,length,breath):\n",
    "        self.length=length\n",
    "        self.breath=breath\n",
    "    def area(self):\n",
    "        total_area=self.length*self.breath\n",
    "        return f\"Area of the rectangel:{total_area}\"\n",
    "    def perimeter(self):\n",
    "        total_perimeter=2*(self.length+self.breath)\n",
    "        return f\"Perimeter of the rectangel:{total_perimeter:.2f}\"\n",
    "class Circle:\n",
    "    def __init__(self,radius):\n",
    "        self.radius=radius\n",
    "    def area(self):\n",
    "        total_area=self.radius*3.14\n",
    "        return f\"Area of the Circle:{total_area:.2f}\"\n",
    "    def perimeter(self):\n",
    "        total_perimeter=2*3.14*self.radius\n",
    "        return f\"Perimeter of the Circle:{total_perimeter:.2f}\"\n",
    "print(Rectangle(10,20).area())\n",
    "print(Rectangle(10,20).perimeter())\n",
    "print(Circle(10).area())\n",
    "print(Circle(10).perimeter())"
   ]
  },
  {
   "cell_type": "code",
   "execution_count": 44,
   "id": "c666473a-d0fe-47b4-8016-abbf627d76b1",
   "metadata": {},
   "outputs": [
    {
     "data": {
      "text/plain": [
       "'Perimeter of the Circle:62.80'"
      ]
     },
     "execution_count": 44,
     "metadata": {},
     "output_type": "execute_result"
    }
   ],
   "source": [
    "Circle(10).perimeter()"
   ]
  }
 ],
 "metadata": {
  "kernelspec": {
   "display_name": "Python 3",
   "language": "python",
   "name": "python3"
  },
  "language_info": {
   "codemirror_mode": {
    "name": "ipython",
    "version": 3
   },
   "file_extension": ".py",
   "mimetype": "text/x-python",
   "name": "python",
   "nbconvert_exporter": "python",
   "pygments_lexer": "ipython3",
   "version": "3.13.3"
  },
  "panel-cell-order": [
   "42507166-f99c-4c0e-a7f4-ef8e11d1047f",
   "ed52143c-2c6b-4995-8d60-3b5289cd55c5",
   "a5029eca-6eb6-46e7-aa6f-87d8d41d8777",
   "f913e45c-24ae-4671-88cb-cdf4dd48721d",
   "b56777a5-b4b9-4f5e-a980-e1ed111c0430"
  ]
 },
 "nbformat": 4,
 "nbformat_minor": 5
}
