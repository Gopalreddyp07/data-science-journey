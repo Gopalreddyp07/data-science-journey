{
 "cells": [
  {
   "cell_type": "markdown",
   "id": "51878aa8-cf62-4f17-9a62-c3f5cfa500b9",
   "metadata": {},
   "source": [
    "### 1. **Array Creation and Manipulation**\n",
    "   - np.array(): Create an array from a list or other data structures.\n",
    "   - np.arange(): Create an array with a range of values (like range() in Python).\n",
    "   - np.linspace(): Create an array of evenly spaced values over a specified range.\n",
    "   - np.zeros(): Create an array filled with zeros.\n",
    "   - np.ones(): Create an array filled with ones.\n",
    "   - np.empty(): Create an uninitialized array.\n",
    "   - np.eye(): Create a 2D identity matrix.\n",
    "   - np.full(): Create an array filled with a constant value.\n",
    "   - np.reshape(): Change the shape of an array.\n",
    "   - np.ravel(): Flatten an array into one dimension.\n",
    "   - np.concatenate(): Join two or more arrays.\n",
    "   - np.split(): Split an array into multiple sub-arrays.\n",
    "   - np.vstack(): Stack arrays in sequence vertically (row wise).\n",
    "   - np.hstack(): Stack arrays in sequence horizontally (column wise).\n",
    "\n",
    "### 2. **Array Operations**\n",
    "   - np.add(): Element-wise addition of arrays.\n",
    "   - np.subtract(): Element-wise subtraction of arrays.\n",
    "   - np.multiply(): Element-wise multiplication of arrays.\n",
    "   - np.divide(): Element-wise division of arrays.\n",
    "   - np.power(): Element-wise exponentiation.\n",
    "   - np.mod(): Element-wise modulus operation.\n",
    "   - np.dot(): Dot product of two arrays.\n",
    "   - np.cross(): Cross product of two vectors.\n",
    "   - np.matmul(): Matrix multiplication (for higher dimensions too).\n",
    "   - np.sum(): Sum of array elements.\n",
    "   - np.prod(): Product of array elements.\n",
    "   - np.cumsum(): Cumulative sum of array elements.\n",
    "   - np.cumprod(): Cumulative product of array elements.\n",
    "   - np.mean(): Mean of array elements.\n",
    "   - np.median(): Median of array elements.\n",
    "   - np.std(): Standard deviation of array elements.\n",
    "   - np.var(): Variance of array elements.\n",
    "   - np.min(): Minimum value in an array.\n",
    "   - np.max(): Maximum value in an array.\n",
    "   - np.argmin(): Index of the minimum value.\n",
    "   - np.argmax(): Index of the maximum value.\n",
    "   - np.ptp(): Peak-to-peak (difference between max and min).\n",
    "   - np.sort(): Sort array elements.\n",
    "   - np.argsort(): Indices that would sort the array.\n",
    "   - np.unique(): Find unique elements in an array.\n",
    "\n",
    "### 3. **Mathematical and Statistical Functions**\n",
    "   - np.sin(), np.cos(), np.tan(): Trigonometric functions.\n",
    "   - np.sinh(), np.cosh(), np.tanh(): Hyperbolic trigonometric functions.\n",
    "   - np.exp(): Exponential function.\n",
    "   - np.log(), np.log10(), np.log2(): Logarithmic functions.\n",
    "   - np.sqrt(): Square root.\n",
    "   - np.abs(): Absolute value.\n",
    "   - np.round(): Round array elements.\n",
    "   - np.floor(): Floor function (round down).\n",
    "   - np.ceil(): Ceiling function (round up).\n",
    "   - np.isclose(): Element-wise comparison for closeness.\n",
    "   - np.sign(): Sign of elements.\n",
    "\n",
    "### 4. **Linear Algebra**\n",
    "   - np.linalg.inv(): Inverse of a matrix.\n",
    "   - np.linalg.det(): Determinant of a matrix.\n",
    "   - np.linalg.eig(): Eigenvalues and eigenvectors.\n",
    "   - np.linalg.svd(): Singular Value Decomposition (SVD).\n",
    "   - np.linalg.norm(): Norm of a vector or matrix.\n",
    "   - np.linalg.solve(): Solve a system of linear equations.\n",
    "   - np.linalg.matrix_rank(): Rank of a matrix.\n",
    "   - np.linalg.cholesky(): Cholesky decomposition.\n",
    "\n",
    "### 5. **Random Module**\n",
    "   - np.random.rand(): Generate random numbers from a uniform distribution.\n",
    "   - np.random.randn(): Generate random numbers from a standard normal distribution.\n",
    "   - np.random.randint(): Generate random integers.\n",
    "   - np.random.choice(): Randomly choose elements from an array.\n",
    "   - np.random.shuffle(): Shuffle array elements in place.\n",
    "   - np.random.seed(): Set the seed for random number generation.\n",
    "\n",
    "### 6. **Broadcasting and Indexing**\n",
    "   - np.where(): Return elements chosen from x or y depending on a condition.\n",
    "   - np.nonzero(): Return indices of non-zero elements.\n",
    "   - np.take(): Take elements from an array along a specific axis.\n",
    "   - np.put(): Put values into an array at specified indices.\n",
    "   - np.flatten(): Flatten the array.\n",
    "   - np.transpose(): Transpose the dimensions of an array.\n",
    "\n",
    "### 7. **I/O Operations**\n",
    "   - np.loadtxt(): Load data from a text file.\n",
    "   - np.savetxt(): Save data to a text file.\n",
    "   - np.load(): Load an array from a binary file.\n",
    "   - np.save(): Save an array to a binary file.\n",
    "   - np.genfromtxt(): Load data with missing values from a text file.\n",
    "   - np.savez(): Save multiple arrays into a .npz file (compressed format).\n",
    "\n",
    "### 8. **Set Operations**\n",
    "   - np.union1d(): Find the union of two arrays.\n",
    "   - np.intersect1d(): Find the intersection of two arrays.\n",
    "   - np.setdiff1d(): Find the difference between two arrays.\n",
    "   - np.setxor1d(): Find the symmetric difference between two arrays.\n",
    "\n",
    "### 9. **Advanced Functions**\n",
    "   - np.gradient(): Compute the gradient of an array.\n",
    "   - np.diff(): Compute the difference between consecutive elements.\n",
    "   - np.histogram(): Compute the histogram of an array.\n",
    "   - np.corrcoef(): Compute the correlation coefficient.\n",
    "   - np.polyfit(): Least squares polynomial fit.\n",
    "   - np.fft.fft(): Compute the one-dimensional discrete Fourier Transform.\n",
    "   - np.fft.ifft(): Compute the inverse of the discrete Fourier Transform.\n",
    "\n",
    "### 10. **Data Type and Shape Manipulation**\n",
    "   - np.astype(): Change the data type of an array.\n",
    "   - np.size(): Return the total number of elements in an array.\n",
    "   - np.shape(): Return the shape (dimensions) of an array.\n",
    "   - np.ndim(): Return the number of dimensions of an array.\n",
    "   - np.item(): Return a specific item from an array.\n",
    "\n",
    "### 11. **Element-wise Comparison and Logical Operations**\n",
    "   - np.equal(): Element-wise comparison for equality.\n",
    "   - np.not_equal(): Element-wise comparison for inequality.\n",
    "   - np.less(): Element-wise comparison for less than.\n",
    "   - np.less_equal(): Element-wise comparison for less than or equal.\n",
    "   - np.greater(): Element-wise comparison for greater than.\n",
    "   - np.greater_equal(): Element-wise comparison for greater than or equal.\n",
    "   - np.logical_and(): Element-wise logical AND.\n",
    "   - np.logical_or(): Element-wise logical OR.\n",
    "   - np.logical_not(): Element-wise logical NOT.\n",
    "   - np.any(): Check if any element is true.\n",
    "   - np.all(): Check if all elements are true."
   ]
  },
  {
   "cell_type": "code",
   "execution_count": 1,
   "id": "a8139f48-150f-4673-9899-ef5fc6fce6cf",
   "metadata": {},
   "outputs": [
    {
     "name": "stdout",
     "output_type": "stream",
     "text": [
      "[10 20 30 40 50]\n",
      "<class 'numpy.ndarray'>\n"
     ]
    }
   ],
   "source": [
    "import numpy as np\n",
    "lis=[10,20,30,40,50]\n",
    "arr=np.array(lis)\n",
    "z=arr[2]\n",
    "print(arr)\n",
    "print(type(arr))"
   ]
  },
  {
   "cell_type": "code",
   "execution_count": 2,
   "id": "cb03445c-7f87-4f4f-a662-aa52bacd2897",
   "metadata": {},
   "outputs": [
    {
     "name": "stdout",
     "output_type": "stream",
     "text": [
      "float64\n",
      "int32\n",
      "int32\n"
     ]
    }
   ],
   "source": [
    "# sequence of the promotion in bool → int8, uint8 → int16, uint16 → int32, uint32 → int64, uint64 → float16 → float32 → float64 → complex64 → complex128\n",
    "# to find data type of the given numpy value use (variable_name).dtype\n",
    "import numpy as np\n",
    "arr=np.array([20,30,40,50,32.54])\n",
    "arr1=np.array([10,20,40,-15,25])\n",
    "arr2=np.array([12,15,17,30,23,35])\n",
    "print(arr.dtype)\n",
    "print(arr1.dtype)\n",
    "print(arr2.dtype)"
   ]
  },
  {
   "cell_type": "code",
   "execution_count": 3,
   "id": "aef9b852-e89e-4535-a4c0-b4822af29189",
   "metadata": {},
   "outputs": [
    {
     "name": "stdout",
     "output_type": "stream",
     "text": [
      "This will print 0-D array:\n",
      "[[1]]\n",
      "\n",
      "This will print 1-D array:\n",
      "[4 5 0 1 0 1]\n",
      "\n",
      "that it will print the 3-rows and 4 coloums 3*4:\n",
      "[[9 8 6 7]\n",
      " [8 6 6 8]\n",
      " [8 9 8 6]]\n",
      "\n",
      "it generate 4,3*3 arrays\n",
      "[[[0 1 0]\n",
      "  [0 1 0]\n",
      "  [1 1 1]]\n",
      "\n",
      " [[0 1 1]\n",
      "  [0 1 1]\n",
      "  [1 1 0]]\n",
      "\n",
      " [[1 0 0]\n",
      "  [0 1 0]\n",
      "  [0 1 1]]\n",
      "\n",
      " [[1 0 1]\n",
      "  [0 0 0]\n",
      "  [0 0 1]]]\n"
     ]
    }
   ],
   "source": [
    "# Size is the optional may we declare the values directly\n",
    "import numpy as np\n",
    "import random\n",
    "# Generating the 0-d array\n",
    "random_0d=np.random.randint(0,4,size=(1,1))\n",
    "print(f'''This will print 0-D array:\n",
    "{random_0d}\n",
    "''')\n",
    "random_1d=np.random.randint(6,size=(6))\n",
    "print(f'''This will print 1-D array:\n",
    "{random_1d}\n",
    "''')\n",
    "# Generating the 2d array\n",
    "random_2d=np.random.randint(5,10,size=(3,4))\n",
    "print(f'''that it will print the 3-rows and 4 coloums 3*4:\n",
    "{random_2d}\n",
    "''')\n",
    "# Generating the 3d array\n",
    "random_3d=np.random.randint(0,2,size=(4,3,3))\n",
    "print(f'''it generate 4,3*3 arrays\n",
    "{random_3d}''')"
   ]
  },
  {
   "cell_type": "code",
   "execution_count": 4,
   "id": "5147a94b-d519-49de-893c-126015b308e6",
   "metadata": {},
   "outputs": [
    {
     "name": "stdout",
     "output_type": "stream",
     "text": [
      "2\n",
      "3\n"
     ]
    }
   ],
   "source": [
    "# ndim is a function is numpy function which is used to tell abpout the number of dimensions that the array contain\n",
    "print(random_2d.ndim)\n",
    "print(random_3d.ndim)"
   ]
  },
  {
   "cell_type": "code",
   "execution_count": 6,
   "id": "17da4513-1bdf-465e-8d17-74b94e858e2c",
   "metadata": {},
   "outputs": [
    {
     "name": "stdout",
     "output_type": "stream",
     "text": [
      "[[10 20 30 45]\n",
      " [23 45 56 23]\n",
      " [45 12 34  5]]\n"
     ]
    }
   ],
   "source": [
    "import random\n",
    "lis=[10,20,30,45,23,45,56,23,45,12,34,5]\n",
    "# To covert the given list into the ndarray we use reshape function it will convert it\n",
    "arr=np.array(lis)\n",
    "re_arr=arr.reshape(3,4)\n",
    "print(re_arr)"
   ]
  },
  {
   "cell_type": "code",
   "execution_count": 10,
   "id": "1bbdc7ff-0a41-49c2-a913-55beaa799d4c",
   "metadata": {},
   "outputs": [
    {
     "name": "stdout",
     "output_type": "stream",
     "text": [
      "Rows:3\n",
      "Coloums:3\n"
     ]
    }
   ],
   "source": [
    "# variable.shape is the bulid-in function in the np which is used to know the no.of rows and coloums in the array if it contain homogenusoly like 3*3,4*4 matrics\n",
    "import numpy as np\n",
    "arr=np.array([[1,2,3],\n",
    "              [4,5,6],\n",
    "              [7,8,9]])\n",
    "rows,coloums=arr.shape\n",
    "print(f\"Rows:{rows}\\nColoums:{coloums}\")\n",
    "# while it print 2 values where 1st represent \"rows\" and 2nd value represent \"coloums\""
   ]
  },
  {
   "cell_type": "code",
   "execution_count": 11,
   "id": "f980b508-9f87-4b2d-a1a0-41191bba4ddb",
   "metadata": {},
   "outputs": [
    {
     "name": "stdout",
     "output_type": "stream",
     "text": [
      "  C_CONTIGUOUS : True\n",
      "  F_CONTIGUOUS : True\n",
      "  OWNDATA : True\n",
      "  WRITEABLE : True\n",
      "  ALIGNED : True\n",
      "  WRITEBACKIFCOPY : False\n",
      "\n"
     ]
    }
   ],
   "source": [
    "arr = np.array([1, 2, 3, 4])\n",
    "print(arr.flags)"
   ]
  },
  {
   "cell_type": "code",
   "execution_count": 12,
   "id": "f0be77c5-c19f-4921-a936-4e736d3d36f5",
   "metadata": {},
   "outputs": [
    {
     "name": "stdout",
     "output_type": "stream",
     "text": [
      "9\n"
     ]
    }
   ],
   "source": [
    "#size is the function used to print size by counting each element in the array \n",
    "import numpy as np\n",
    "arr=np.array([[1,2,3],\n",
    "              [4,5,6],\n",
    "              [7,8,9]])\n",
    "print(arr.size)"
   ]
  },
  {
   "cell_type": "code",
   "execution_count": 13,
   "id": "c6cbb633-c218-45d9-acf7-839d961f5ef2",
   "metadata": {},
   "outputs": [
    {
     "name": "stdout",
     "output_type": "stream",
     "text": [
      "[[0 0 0]\n",
      " [0 0 0]\n",
      " [0 0 0]]\n"
     ]
    }
   ],
   "source": [
    "# 1. numpy.zeros() – Create an Array of Zeros\n",
    "# The zeros() function creates an array filled with zeroes.\n",
    "# numpy.zeros(shape, dtype=float)\n",
    "# shape: Specifies the shape of the array (e.g., (rows, cols) for 2D arrays).\n",
    "# dtype: Specifies the data type (default is float).\n",
    "arr=np.zeros((3,3),dtype=int)\n",
    "print(arr)"
   ]
  },
  {
   "cell_type": "code",
   "execution_count": 14,
   "id": "d3425465-8874-4fe2-a8eb-b7fc899af6f9",
   "metadata": {},
   "outputs": [
    {
     "name": "stdout",
     "output_type": "stream",
     "text": [
      "[[1 1 1 1]\n",
      " [1 1 1 1]\n",
      " [1 1 1 1]]\n"
     ]
    }
   ],
   "source": [
    "# 2. numpy.ones() – Create an Array of Ones\n",
    "# The ones() function creates an array filled with ones.\n",
    "# Syntax:numpy.ones(shape, dtype=float)\n",
    "# shape: Specifies the dimensions of the array.\n",
    "# dtype: Specifies the data type (default is float).\n",
    "arr=np.ones((3,4),dtype=int)\n",
    "print(arr)"
   ]
  },
  {
   "cell_type": "code",
   "execution_count": 15,
   "id": "9cc5bb18-2ab9-435c-b359-70c51dba53c5",
   "metadata": {},
   "outputs": [
    {
     "name": "stdout",
     "output_type": "stream",
     "text": [
      "[[1 0 0]\n",
      " [0 1 0]\n",
      " [0 0 1]]\n"
     ]
    }
   ],
   "source": [
    "# 3. numpy.eye() – Create an Identity Matrix\n",
    "# The eye() function creates an identity matrix, which has 1s on the main diagonal and 0s elsewhere.\n",
    "# numpy.eye(N, M=None, k=0, dtype=float)\n",
    "# N: Number of rows.\n",
    "# M: Number of columns (if not given, it's set equal to N).\n",
    "# k: Diagonal offset (k=0 for main diagonal, k>0 for above, k<0 for below).\n",
    "# dtype: Specifies the data type.\n",
    "arr=np.eye(3,3,0,dtype=int)\n",
    "print(arr)"
   ]
  },
  {
   "cell_type": "code",
   "execution_count": 16,
   "id": "0fd8e734-bb79-4d69-afd7-4686a534aa53",
   "metadata": {},
   "outputs": [
    {
     "name": "stdout",
     "output_type": "stream",
     "text": [
      "12\n",
      "[10 20] [30 40]\n"
     ]
    }
   ],
   "source": [
    "# indexing in the arrays same as the indexing in lists but in lists we need to mention that lis[0][1] \n",
    "# where in arrays we need to mention with the array[0,1]\n",
    "import numpy as np\n",
    "lis=[10,20,30,40,50,60,70,80,90,110,120,130]\n",
    "arr=np.array(lis)\n",
    "print(arr.size)\n",
    "re_arr=arr.reshape(3,2,2)\n",
    "print(re_arr[0,0],re_arr[0,1])"
   ]
  },
  {
   "cell_type": "code",
   "execution_count": 17,
   "id": "99ddc042-d107-40f7-ac9f-7fd423e8ec3a",
   "metadata": {},
   "outputs": [
    {
     "data": {
      "text/plain": [
       "array([[[ 10,  20],\n",
       "        [ 30,  40]],\n",
       "\n",
       "       [[ 50,  60],\n",
       "        [ 70,  80]],\n",
       "\n",
       "       [[ 90, 110],\n",
       "        [120, 130]]])"
      ]
     },
     "execution_count": 17,
     "metadata": {},
     "output_type": "execute_result"
    }
   ],
   "source": [
    "re_arr"
   ]
  },
  {
   "cell_type": "code",
   "execution_count": 18,
   "id": "4d0639d8-c613-4dd0-b307-d425645e9899",
   "metadata": {},
   "outputs": [
    {
     "name": "stdout",
     "output_type": "stream",
     "text": [
      "[10 20]\n",
      "[70 80]\n"
     ]
    }
   ],
   "source": [
    "for i in range(0,2):\n",
    "    print(f\"{re_arr[i,i]}\")"
   ]
  },
  {
   "cell_type": "code",
   "execution_count": 19,
   "id": "00fcd75c-5078-4a37-9a48-647199033364",
   "metadata": {},
   "outputs": [],
   "source": [
    "import numpy as np\n",
    "lis=[2,3,5,2,6,3,2,5,2,8,5,3,9,4]\n",
    "arr=np.array(lis)"
   ]
  },
  {
   "cell_type": "code",
   "execution_count": 20,
   "id": "0f6a82d7-78a2-4fe8-9a25-7d7cc8504fae",
   "metadata": {},
   "outputs": [
    {
     "data": {
      "text/plain": [
       "2"
      ]
     },
     "execution_count": 20,
     "metadata": {},
     "output_type": "execute_result"
    }
   ],
   "source": [
    "row=arr.reshape(2,7)\n",
    "dime=row.ndim\n",
    "dime"
   ]
  },
  {
   "cell_type": "code",
   "execution_count": 21,
   "id": "ac41672a-b15b-4a1f-99c2-0a12186addbc",
   "metadata": {},
   "outputs": [
    {
     "data": {
      "text/plain": [
       "array([[2, 2, 2, 3, 3, 5, 6],\n",
       "       [2, 3, 4, 5, 5, 8, 9]])"
      ]
     },
     "execution_count": 21,
     "metadata": {},
     "output_type": "execute_result"
    }
   ],
   "source": [
    "np.sort(row)"
   ]
  },
  {
   "cell_type": "code",
   "execution_count": 22,
   "id": "9e51a5dc-403f-4e16-8a7f-32b671053ab6",
   "metadata": {},
   "outputs": [
    {
     "name": "stdout",
     "output_type": "stream",
     "text": [
      "[[ 1  2  3  4]\n",
      " [ 5  6  7  8]\n",
      " [ 9 10  0  0]]\n"
     ]
    }
   ],
   "source": [
    "import numpy as np\n",
    "list1=[1,2,3,4,5,6,7,8,9,10]\n",
    "array=np.array(list1)\n",
    "array.resize(3,4)\n",
    "print(array)\n",
    "# ranks=np.linalg.rank(array)\n",
    "# print(ranks)"
   ]
  },
  {
   "cell_type": "markdown",
   "id": "ecc44d70-ca09-4af8-91f4-c67ca1a2f69a",
   "metadata": {},
   "source": [
    "1. Array Creation and Manipulat\n",
    "   1) np.array(): Create an array from a list or other data structures.\n",
    "   2) np.arange(): Create an array with a range of values (like range() in Python).\n",
    "   3) np.linspace(): Create an array of evenly spaced values over a specified range.\n",
    "   4) np.zeros(): Create an array filled with zeros.\n",
    "   5) np.ones(): Create an array filled with ones.\n",
    "   6) np.empty(): Create an uninitialized array.\n",
    "   7) np.eye(): Create a 2D identity matrix.\n",
    "   8) np.full(): Create an array filled with a constant value.\n",
    "   9) np.reshape(): Change the shape of an array.\n",
    "   10) np.ravel(): Flatten an array into one dimension.\n",
    "   11) np.concatenate(): Join two or more arrays.\n",
    "   12) np.split(): Split an array into multiple sub-arrays.\n",
    "   13) np.vstack(): Stack arrays in sequence vertically (row wise).\n",
    "   14) np.hstack(): Stack arrays in sequence horizontally (column wise)."
   ]
  },
  {
   "cell_type": "code",
   "execution_count": 24,
   "id": "7d013f7e-fb87-440f-ab5c-1166de5c87a7",
   "metadata": {},
   "outputs": [
    {
     "name": "stdout",
     "output_type": "stream",
     "text": [
      "1) [1 2 3 4 5 6 7 8]\n",
      "\n",
      "2) [1 3 5 7 9]\n",
      "\n",
      "3) [ 0.  5. 10.]\n",
      "\n",
      "4) [[0 0 0]\n",
      " [0 0 0]\n",
      " [0 0 0]]\n",
      "\n",
      "5) [[1 1 1]\n",
      " [1 1 1]\n",
      " [1 1 1]]\n",
      "\n",
      "6) [[0.0000e+000 0.0000e+000 0.0000e+000]\n",
      " [0.0000e+000 0.0000e+000 1.4427e-320]\n",
      " [0.0000e+000 0.0000e+000 0.0000e+000]]\n",
      "\n",
      "7) [[1. 0. 0.]\n",
      " [0. 1. 0.]\n",
      " [0. 0. 1.]]\n",
      "\n",
      "8) [[3.14 3.14 3.14]\n",
      " [3.14 3.14 3.14]\n",
      " [3.14 3.14 3.14]]\n",
      "\n",
      "9) [[10 20 30]\n",
      " [40 50 60]\n",
      " [70 80 90]]\n",
      "\n",
      "10) [10 20 30 40 50 60 70 80 90]\n",
      "\n",
      "11) [10 20 30 40 50 60 70 80 90]\n",
      "\n",
      "12) [10 20 30 40 50 60 70 80 90]\n",
      "\n",
      "13) [array([10, 20, 30]), array([40, 50, 60]), array([70, 80, 90])]\n",
      "\n",
      "14) [[10 20 30]\n",
      " [40 50 60]\n",
      " [70 80 90]]\n",
      "\n",
      "15 [10 20 30 40 50 60 70 80 90]\n"
     ]
    }
   ],
   "source": [
    "import numpy as np\n",
    "arr=np.array([1,2,3,4,5,6,7,8])\n",
    "print(\"1)\",arr)\n",
    "print()\n",
    "arr1=np.arange(1,10,2)\n",
    "print(\"2)\",arr1)\n",
    "print()\n",
    "arr2=np.linspace(0,10,3)\n",
    "print(\"3)\",arr2)\n",
    "print()\n",
    "arr3=np.zeros((3,3),dtype=int)\n",
    "print(\"4)\",arr3)\n",
    "print()\n",
    "arr4=np.ones((3,3),dtype=int)\n",
    "print(\"5)\",arr4)\n",
    "print()\n",
    "arr5=np.empty((3,3))\n",
    "print(\"6)\",arr5)\n",
    "print()\n",
    "arr6=np.eye(3,3)\n",
    "print(\"7)\",arr6)\n",
    "print()\n",
    "arr7=np.full((3,3),3.14)\n",
    "print(\"8)\",arr7)\n",
    "print()\n",
    "temp=np.array([10,20,30,40,50,60,70,80,90])\n",
    "arr8=np.reshape(temp,(3,3))\n",
    "print(\"9)\",arr8)\n",
    "print()\n",
    "arr9=np.ravel(arr8)\n",
    "print(\"10)\",arr9)\n",
    "print()\n",
    "arr10=arr8.flatten()\n",
    "print(\"11)\",arr10)\n",
    "print()\n",
    "arr11=np.concatenate(arr8)\n",
    "print(\"12)\",arr11)\n",
    "print()\n",
    "arr12=np.split(arr10,3)\n",
    "print(\"13)\",arr12)\n",
    "print()\n",
    "arr13=np.vstack(arr8)\n",
    "print(\"14)\",arr13)\n",
    "print()\n",
    "arr14=np.hstack(arr13)\n",
    "print(\"15\",arr14)"
   ]
  },
  {
   "cell_type": "code",
   "execution_count": 50,
   "id": "ab9fc7a1-164e-41d3-82e9-d96f9b0f5123",
   "metadata": {},
   "outputs": [
    {
     "name": "stdout",
     "output_type": "stream",
     "text": [
      "[[ 1  2  3  4]\n",
      " [ 5  6  7  8]\n",
      " [ 9 10  0  0]]\n"
     ]
    }
   ],
   "source": [
    "# 📌 1. NumPy Array Creation & Properties\n",
    "# 1️⃣ Create a NumPy array from a list [10, 20, 30, 40, 50].\n",
    "# 2️⃣ Create a 3x3 matrix filled with zeros.\n",
    "# 3️⃣ Create a 5x5 matrix filled with ones.\n",
    "# 4️⃣ Create an array of numbers from 1 to 10 with a step of 2.\n",
    "# 5️⃣ Create a 4x4 identity matrix.\n",
    "# 6️⃣ Create an array of 10 random numbers between 0 and 1.\n",
    "# 7️⃣ Check the shape and size of a given NumPy array.\n",
    "# 8️⃣ Convert a 1D array into a 2D array.\n",
    "# 9️⃣ Create an array of even numbers between 10 and 50.\n",
    "# 🔟 Find the datatype of elements in a NumPy array.\n",
    "import numpy as np\n",
    "array1=np.array([10,20,30,40,50])\n",
    "print(array)"
   ]
  },
  {
   "cell_type": "code",
   "execution_count": 52,
   "id": "1e3ac0df-ebef-449c-aadf-abc468d5c33c",
   "metadata": {},
   "outputs": [
    {
     "name": "stdout",
     "output_type": "stream",
     "text": [
      "[[ 1  2  3  4]\n",
      " [ 5  6  7  8]\n",
      " [ 9 10  0  0]]\n"
     ]
    }
   ],
   "source": [
    "array2=np.zeros((3,3),dtype=int)\n",
    "print(array)"
   ]
  },
  {
   "cell_type": "code",
   "execution_count": 54,
   "id": "0b4dc16f-c687-4ccf-97d9-9bd48e7bddc1",
   "metadata": {},
   "outputs": [
    {
     "name": "stdout",
     "output_type": "stream",
     "text": [
      "[[1 1 1 1 1]\n",
      " [1 1 1 1 1]\n",
      " [1 1 1 1 1]\n",
      " [1 1 1 1 1]\n",
      " [1 1 1 1 1]]\n"
     ]
    }
   ],
   "source": [
    "array3=np.ones((5,5),dtype=int)\n",
    "print(array3)"
   ]
  },
  {
   "cell_type": "code",
   "execution_count": 56,
   "id": "4826032a-8d56-4d75-8fb1-8bf7091b7168",
   "metadata": {},
   "outputs": [
    {
     "data": {
      "text/plain": [
       "array([0, 2, 4, 6, 8])"
      ]
     },
     "execution_count": 56,
     "metadata": {},
     "output_type": "execute_result"
    }
   ],
   "source": [
    "array4=np.arange(0,10,2)\n",
    "array4"
   ]
  },
  {
   "cell_type": "code",
   "execution_count": 58,
   "id": "d0b98df3-41f9-48df-b46b-fec3f070ad7a",
   "metadata": {},
   "outputs": [
    {
     "name": "stdout",
     "output_type": "stream",
     "text": [
      "[[1. 0. 0. 0. 0.]\n",
      " [0. 1. 0. 0. 0.]\n",
      " [0. 0. 1. 0. 0.]\n",
      " [0. 0. 0. 1. 0.]\n",
      " [0. 0. 0. 0. 1.]]\n"
     ]
    }
   ],
   "source": [
    "import numpy as np\n",
    "array5=np.eye(5,5,0)\n",
    "print(array5)"
   ]
  },
  {
   "cell_type": "code",
   "execution_count": 60,
   "id": "86c3ce54-a37e-4bb0-8be9-3210a81e770f",
   "metadata": {},
   "outputs": [
    {
     "name": "stdout",
     "output_type": "stream",
     "text": [
      "[[1 1 0 0 1]\n",
      " [0 0 4 4 6]\n",
      " [0 6 9 6 7]\n",
      " [9 1 3 6 2]\n",
      " [3 7 2 7 5]]\n"
     ]
    }
   ],
   "source": [
    "array6=np.random.randint(0,10,size=(5,5))\n",
    "print(array6)"
   ]
  },
  {
   "cell_type": "code",
   "execution_count": 62,
   "id": "ea09f567-f1e8-4ca1-a569-78981055c93e",
   "metadata": {},
   "outputs": [
    {
     "name": "stdout",
     "output_type": "stream",
     "text": [
      "(5, 5)\n",
      "25\n"
     ]
    }
   ],
   "source": [
    "print(array6.shape)\n",
    "print(array6.size)"
   ]
  },
  {
   "cell_type": "code",
   "execution_count": 64,
   "id": "eea11062-011d-4cc6-a6fd-8482b81093dc",
   "metadata": {},
   "outputs": [
    {
     "data": {
      "text/plain": [
       "array([[10, 20, 30],\n",
       "       [40, 50, 60],\n",
       "       [70, 80, 90]])"
      ]
     },
     "execution_count": 64,
     "metadata": {},
     "output_type": "execute_result"
    }
   ],
   "source": [
    "array8=np.array([10,20,30,40,50,60,70,80,90])\n",
    "arr_8=array8.reshape(3,3)\n",
    "arr_8"
   ]
  },
  {
   "cell_type": "code",
   "execution_count": 66,
   "id": "c837a228-498f-4791-84f5-03fe12a91131",
   "metadata": {},
   "outputs": [
    {
     "name": "stdout",
     "output_type": "stream",
     "text": [
      "[10 20 30 40 50 60 70 80 90]\n"
     ]
    }
   ],
   "source": [
    "even=[i for i in range(10,51) if i%2==0]\n",
    "array9=np.array(even)\n",
    "print(array8)"
   ]
  },
  {
   "cell_type": "code",
   "execution_count": 68,
   "id": "03b38e1e-78fd-4c8b-91e7-f097608d79d4",
   "metadata": {},
   "outputs": [
    {
     "name": "stdout",
     "output_type": "stream",
     "text": [
      "float64\n"
     ]
    }
   ],
   "source": [
    "array10=np.array([10,20,30,40.0,50])\n",
    "print(array10.dtype)"
   ]
  },
  {
   "cell_type": "code",
   "execution_count": 70,
   "id": "ce3b52cf-4d01-4d1f-ad7d-776ae7bff8cb",
   "metadata": {},
   "outputs": [],
   "source": [
    "# 📌 2. NumPy Indexing & Slicing\n",
    "# 1️⃣ Extract the first row of a 3x3 matrix.\n",
    "# 2️⃣ Extract the last column of a 4x4 matrix.\n",
    "# 3️⃣ Reverse a NumPy array (e.g., [1, 2, 3] → [3, 2, 1]).\n",
    "# 4️⃣ Replace all even numbers in an array with -1.\n",
    "# 5️⃣ Replace all odd numbers in an array with 0.\n",
    "# 6️⃣ Select only numbers greater than 5 in an array.\n",
    "# 7️⃣ Set all elements in a NumPy array greater than 10 to 0.\n",
    "# 8️⃣ Change the shape of a NumPy array without modifying its data."
   ]
  },
  {
   "cell_type": "code",
   "execution_count": 72,
   "id": "5e4dac09-bf78-4aa9-97ae-7e9418deaa13",
   "metadata": {},
   "outputs": [
    {
     "name": "stdout",
     "output_type": "stream",
     "text": [
      "[[10 20 30]]\n"
     ]
    }
   ],
   "source": [
    "array1=np.array([10,20,30,40,50,60,70,80,90])\n",
    "arr_1=array1.reshape(3,3)\n",
    "print(arr_1[:1,:])"
   ]
  },
  {
   "cell_type": "code",
   "execution_count": 84,
   "id": "116622dc-f78f-4dad-957b-d4fa4266c56a",
   "metadata": {},
   "outputs": [
    {
     "name": "stdout",
     "output_type": "stream",
     "text": [
      "[[2 3 8 0]\n",
      " [7 3 5 3]\n",
      " [7 2 2 4]\n",
      " [1 1 6 6]]\n",
      "[0 3 4 6]\n"
     ]
    }
   ],
   "source": [
    "array2=np.random.randint(0,10,size=(4,4))\n",
    "print(array2)\n",
    "print(array2[:,-1])"
   ]
  },
  {
   "cell_type": "code",
   "execution_count": 86,
   "id": "aa07acd8-f669-47d7-9f3c-bd1c56672be7",
   "metadata": {},
   "outputs": [
    {
     "name": "stdout",
     "output_type": "stream",
     "text": [
      "[40 30 20 10]\n"
     ]
    }
   ],
   "source": [
    "array3=np.array([10,20,30,40])\n",
    "print(array3[::-1])"
   ]
  },
  {
   "cell_type": "code",
   "execution_count": 88,
   "id": "a88057eb-2da7-44a1-989b-878dd5a1fd3d",
   "metadata": {},
   "outputs": [
    {
     "name": "stdout",
     "output_type": "stream",
     "text": [
      "[[ 1 -1  3]\n",
      " [-1  5 -1]\n",
      " [ 7 -1  9]]\n"
     ]
    }
   ],
   "source": [
    "arr4=np.arange(1,10)\n",
    "arr_4=arr4.reshape(3,3)\n",
    "arr_4[arr_4%2==0]=-1\n",
    "print(arr_4)"
   ]
  },
  {
   "cell_type": "code",
   "execution_count": 92,
   "id": "ea67d2af-9835-43da-820d-7b76d37a9fa8",
   "metadata": {},
   "outputs": [
    {
     "name": "stdout",
     "output_type": "stream",
     "text": [
      "[[0 2 0]\n",
      " [4 0 6]\n",
      " [0 8 0]]\n",
      "[[0 2 0]\n",
      " [4 0 6]\n",
      " [0 8 0]]\n"
     ]
    }
   ],
   "source": [
    "arr5=np.arange(1,10).reshape(3,3)\n",
    "arr5[arr5%2!=0]=0\n",
    "print(arr5)\n",
    "print(arr5)"
   ]
  },
  {
   "cell_type": "code",
   "execution_count": 82,
   "id": "2cb0a665-e960-4f9c-bf8a-5fc3aee88ecb",
   "metadata": {},
   "outputs": [
    {
     "ename": "NameError",
     "evalue": "name 's' is not defined",
     "output_type": "error",
     "traceback": [
      "\u001b[1;31m---------------------------------------------------------------------------\u001b[0m",
      "\u001b[1;31mNameError\u001b[0m                                 Traceback (most recent call last)",
      "Cell \u001b[1;32mIn[82], line 1\u001b[0m\n\u001b[1;32m----> 1\u001b[0m \u001b[43ms\u001b[49m\n",
      "\u001b[1;31mNameError\u001b[0m: name 's' is not defined"
     ]
    }
   ],
   "source": [
    "s"
   ]
  },
  {
   "cell_type": "code",
   "execution_count": null,
   "id": "d2f43a74-cb7e-482d-9df0-7e749f47d3ad",
   "metadata": {},
   "outputs": [],
   "source": []
  },
  {
   "cell_type": "code",
   "execution_count": 94,
   "id": "79e5cfdc-e798-4116-9e62-635722bdef9c",
   "metadata": {},
   "outputs": [],
   "source": [
    "import numpy as np\n",
    "arr=np.array([1,2,3])\n",
    "arr1=np.array([4,5,6])\n",
    "harr=np.sum((arr,arr1))"
   ]
  },
  {
   "cell_type": "code",
   "execution_count": 96,
   "id": "d7289af7-9107-4d8d-bbe2-b50927980064",
   "metadata": {},
   "outputs": [
    {
     "data": {
      "text/plain": [
       "21"
      ]
     },
     "execution_count": 96,
     "metadata": {},
     "output_type": "execute_result"
    }
   ],
   "source": [
    "harr"
   ]
  },
  {
   "cell_type": "code",
   "execution_count": 102,
   "id": "18857aad-f3f8-4a81-88cc-493b26e1715c",
   "metadata": {},
   "outputs": [
    {
     "name": "stdout",
     "output_type": "stream",
     "text": [
      "[5 7 9]\n",
      "[5 7 9]\n"
     ]
    }
   ],
   "source": [
    "arr=np.array([1,2,3])\n",
    "arr1=np.array([4,5,6])\n",
    "value=arr+arr1\n",
    "add_val=np.add(arr,arr1)\n",
    "print(value)\n",
    "print(add_val)"
   ]
  },
  {
   "cell_type": "code",
   "execution_count": 106,
   "id": "01c32fef-d2a2-4225-884c-a05a9cc1cf56",
   "metadata": {},
   "outputs": [
    {
     "data": {
      "text/plain": [
       "array([[1, 3, 7],\n",
       "       [4, 5, 6]])"
      ]
     },
     "execution_count": 106,
     "metadata": {},
     "output_type": "execute_result"
    }
   ],
   "source": [
    "arr=np.array([[1,7,3],[4,5,6]])\n",
    "sums=np.sort(arr,axis=1)\n",
    "sums"
   ]
  },
  {
   "cell_type": "code",
   "execution_count": 108,
   "id": "be731f16-26d8-4975-92d7-1641ccd6963c",
   "metadata": {},
   "outputs": [
    {
     "name": "stdout",
     "output_type": "stream",
     "text": [
      "[[1 7 3]\n",
      " [4 5 6]]\n"
     ]
    }
   ],
   "source": [
    "arr.put(1,7)\n",
    "print(arr)"
   ]
  },
  {
   "cell_type": "code",
   "execution_count": 110,
   "id": "db6a6a1d-87a0-420a-b26b-b3fb5ab576f4",
   "metadata": {},
   "outputs": [],
   "source": [
    "import numpy as np\n",
    "arr=np.random.randint(1,10,size=(3,3))"
   ]
  },
  {
   "cell_type": "code",
   "execution_count": 112,
   "id": "5fd2176c-c675-439c-9e73-c8218de2846a",
   "metadata": {},
   "outputs": [
    {
     "data": {
      "text/plain": [
       "array([[4, 7, 4],\n",
       "       [4, 1, 4],\n",
       "       [2, 6, 7]])"
      ]
     },
     "execution_count": 112,
     "metadata": {},
     "output_type": "execute_result"
    }
   ],
   "source": [
    "arr"
   ]
  },
  {
   "cell_type": "code",
   "execution_count": 114,
   "id": "806faed0-2832-42b3-a9b8-8a836b5041f4",
   "metadata": {},
   "outputs": [
    {
     "data": {
      "text/plain": [
       "array([4, 7, 7])"
      ]
     },
     "execution_count": 114,
     "metadata": {},
     "output_type": "execute_result"
    }
   ],
   "source": [
    "arr.max(axis=0)"
   ]
  },
  {
   "cell_type": "code",
   "execution_count": 116,
   "id": "5158eff0-9045-4fe2-855c-ecd90641db81",
   "metadata": {},
   "outputs": [
    {
     "data": {
      "text/plain": [
       "array([7, 4, 7])"
      ]
     },
     "execution_count": 116,
     "metadata": {},
     "output_type": "execute_result"
    }
   ],
   "source": [
    "arr.max(axis=1)"
   ]
  },
  {
   "cell_type": "code",
   "execution_count": 118,
   "id": "c0ab56f3-e34a-4816-80ec-05879e8e8355",
   "metadata": {},
   "outputs": [
    {
     "data": {
      "text/plain": [
       "array([4, 1, 2])"
      ]
     },
     "execution_count": 118,
     "metadata": {},
     "output_type": "execute_result"
    }
   ],
   "source": [
    "arr.min(axis=1)"
   ]
  },
  {
   "cell_type": "code",
   "execution_count": 120,
   "id": "ad2590c6-092d-4c83-b40a-412649b18555",
   "metadata": {},
   "outputs": [
    {
     "data": {
      "text/plain": [
       "array([2, 1, 4])"
      ]
     },
     "execution_count": 120,
     "metadata": {},
     "output_type": "execute_result"
    }
   ],
   "source": [
    "arr.min(axis=0)"
   ]
  },
  {
   "cell_type": "markdown",
   "id": "3e3c7582-1bc1-4057-ad72-6a5f0cc2cbe2",
   "metadata": {},
   "source": [
    "### Practice of NUMPY"
   ]
  },
  {
   "cell_type": "code",
   "execution_count": 1,
   "id": "62621923-c27b-4b19-95ef-bdf11ecb804c",
   "metadata": {},
   "outputs": [
    {
     "data": {
      "text/plain": [
       "array([10, 20, 30, 40, 50])"
      ]
     },
     "execution_count": 1,
     "metadata": {},
     "output_type": "execute_result"
    }
   ],
   "source": [
    "import numpy as np\n",
    "a=[10,20,30,40,50]\n",
    "np.array(a)"
   ]
  },
  {
   "cell_type": "code",
   "execution_count": 2,
   "id": "7e274c17-17ff-445b-a979-466318cd05b1",
   "metadata": {},
   "outputs": [
    {
     "name": "stdout",
     "output_type": "stream",
     "text": [
      "['10.3' '11' '22' '33' 'Name']\n"
     ]
    }
   ],
   "source": [
    "# type casting\n",
    "b=[10.3,11,22,33,'Name']\n",
    "print(np.array(b))"
   ]
  },
  {
   "cell_type": "code",
   "execution_count": 3,
   "id": "a3ff0df9-085a-4744-a1f0-0879ce9274ab",
   "metadata": {},
   "outputs": [],
   "source": [
    "c=np.array([[10,20,30],[40,50,60]])\n",
    "d=np.array([[11,12,13],[14,15,16]])\n",
    "e=c*d\n",
    "# f=c.dot(d)"
   ]
  },
  {
   "cell_type": "code",
   "execution_count": 4,
   "id": "ddf3bd6c-9fad-4e61-887e-e9f97dcaeb52",
   "metadata": {},
   "outputs": [
    {
     "data": {
      "text/plain": [
       "array([[110, 240, 390],\n",
       "       [560, 750, 960]])"
      ]
     },
     "execution_count": 4,
     "metadata": {},
     "output_type": "execute_result"
    }
   ],
   "source": [
    "e"
   ]
  },
  {
   "cell_type": "code",
   "execution_count": 9,
   "id": "58e6f6fa-53cf-42d3-bcfc-f58e0bb8d9c4",
   "metadata": {},
   "outputs": [
    {
     "ename": "NameError",
     "evalue": "name 'f' is not defined",
     "output_type": "error",
     "traceback": [
      "\u001b[1;31m---------------------------------------------------------------------------\u001b[0m",
      "\u001b[1;31mNameError\u001b[0m                                 Traceback (most recent call last)",
      "Cell \u001b[1;32mIn[9], line 1\u001b[0m\n\u001b[1;32m----> 1\u001b[0m \u001b[43mf\u001b[49m\n",
      "\u001b[1;31mNameError\u001b[0m: name 'f' is not defined"
     ]
    }
   ],
   "source": [
    "f"
   ]
  },
  {
   "cell_type": "code",
   "execution_count": 13,
   "id": "da116930-0983-40e2-86b9-243b7f2f8d43",
   "metadata": {},
   "outputs": [
    {
     "data": {
      "text/plain": [
       "array([[21, 32, 43],\n",
       "       [54, 65, 76]])"
      ]
     },
     "execution_count": 13,
     "metadata": {},
     "output_type": "execute_result"
    }
   ],
   "source": [
    "c+d"
   ]
  },
  {
   "cell_type": "code",
   "execution_count": 15,
   "id": "bdeade1d-c0aa-482a-9cac-67634f0dad54",
   "metadata": {},
   "outputs": [
    {
     "ename": "TypeError",
     "evalue": "only integer scalar arrays can be converted to a scalar index",
     "output_type": "error",
     "traceback": [
      "\u001b[1;31m---------------------------------------------------------------------------\u001b[0m",
      "\u001b[1;31mTypeError\u001b[0m                                 Traceback (most recent call last)",
      "Cell \u001b[1;32mIn[15], line 1\u001b[0m\n\u001b[1;32m----> 1\u001b[0m \u001b[43mnp\u001b[49m\u001b[38;5;241;43m.\u001b[39;49m\u001b[43mconcatenate\u001b[49m\u001b[43m(\u001b[49m\u001b[43mc\u001b[49m\u001b[43m,\u001b[49m\u001b[43md\u001b[49m\u001b[43m)\u001b[49m\n",
      "\u001b[1;31mTypeError\u001b[0m: only integer scalar arrays can be converted to a scalar index"
     ]
    }
   ],
   "source": [
    "np.concatenate(c,d)"
   ]
  },
  {
   "cell_type": "code",
   "execution_count": 93,
   "id": "0cc4a34f-7f91-410f-854f-3fe929a70859",
   "metadata": {},
   "outputs": [
    {
     "data": {
      "text/plain": [
       "array([[10, 20, 30],\n",
       "       [40, 50, 60]])"
      ]
     },
     "execution_count": 93,
     "metadata": {},
     "output_type": "execute_result"
    }
   ],
   "source": [
    "c"
   ]
  },
  {
   "cell_type": "code",
   "execution_count": 95,
   "id": "8585a33a-5d99-472c-9290-80710bc11666",
   "metadata": {},
   "outputs": [
    {
     "data": {
      "text/plain": [
       "array([[11, 12, 13],\n",
       "       [14, 15, 16]])"
      ]
     },
     "execution_count": 95,
     "metadata": {},
     "output_type": "execute_result"
    }
   ],
   "source": [
    "d"
   ]
  },
  {
   "cell_type": "code",
   "execution_count": 97,
   "id": "6cf53dc2-87e2-43ae-88db-08a39d3eee50",
   "metadata": {},
   "outputs": [
    {
     "ename": "TypeError",
     "evalue": "only integer scalar arrays can be converted to a scalar index",
     "output_type": "error",
     "traceback": [
      "\u001b[1;31m---------------------------------------------------------------------------\u001b[0m",
      "\u001b[1;31mTypeError\u001b[0m                                 Traceback (most recent call last)",
      "Cell \u001b[1;32mIn[97], line 1\u001b[0m\n\u001b[1;32m----> 1\u001b[0m \u001b[43mnp\u001b[49m\u001b[38;5;241;43m.\u001b[39;49m\u001b[43mconcatenate\u001b[49m\u001b[43m(\u001b[49m\u001b[43mc\u001b[49m\u001b[43m,\u001b[49m\u001b[43md\u001b[49m\u001b[43m)\u001b[49m\n",
      "\u001b[1;31mTypeError\u001b[0m: only integer scalar arrays can be converted to a scalar index"
     ]
    }
   ],
   "source": [
    "np.concatenate(c,d)"
   ]
  },
  {
   "cell_type": "code",
   "execution_count": null,
   "id": "602c3ee4-e9e4-456e-8e1a-14864c8f1db1",
   "metadata": {},
   "outputs": [],
   "source": []
  }
 ],
 "metadata": {
  "kernelspec": {
   "display_name": "Python 3 (ipykernel)",
   "language": "python",
   "name": "python3"
  },
  "language_info": {
   "codemirror_mode": {
    "name": "ipython",
    "version": 3
   },
   "file_extension": ".py",
   "mimetype": "text/x-python",
   "name": "python",
   "nbconvert_exporter": "python",
   "pygments_lexer": "ipython3",
   "version": "3.12.7"
  }
 },
 "nbformat": 4,
 "nbformat_minor": 5
}
