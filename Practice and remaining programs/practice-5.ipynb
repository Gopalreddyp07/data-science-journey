{
 "cells": [
  {
   "cell_type": "code",
   "execution_count": 11,
   "id": "2e1d16f4-a59c-40c1-9496-c2464bedf40f",
   "metadata": {},
   "outputs": [
    {
     "name": "stdout",
     "output_type": "stream",
     "text": [
      "[2, 3, 5, 7, 11, 13, 17, 19, 23, 29, 31, 37, 41, 43, 47, 53, 59, 61, 67, 71, 73, 79, 83, 89, 97]\n"
     ]
    }
   ],
   "source": [
    "# working with  the list comprehension\n",
    "# 1)Generate a list of prime numbers using list comprehension\n",
    "prime=[]\n",
    "for i in range(2,101):\n",
    "    count=0\n",
    "    for j in range(1,i):\n",
    "        if i%j==0:\n",
    "            count+=1\n",
    "    if count<2:\n",
    "        prime.append(i)\n",
    "print(prime)"
   ]
  },
  {
   "cell_type": "code",
   "execution_count": 93,
   "id": "e2e02a73-2959-43e9-bc86-411751bb139e",
   "metadata": {},
   "outputs": [
    {
     "name": "stdout",
     "output_type": "stream",
     "text": [
      "[2, 3, 5, 7, 11, 13, 17, 19, 23, 29, 31, 37, 41, 43, 47, 53, 59, 61, 67, 71, 73, 79, 83, 89, 97]\n"
     ]
    }
   ],
   "source": [
    "lis1=[j for j in range(2,101) if len([i for i in range(2,j) if j%i==0])==0]\n",
    "print(lis1)"
   ]
  },
  {
   "cell_type": "code",
   "execution_count": 8,
   "id": "9a470f7e-0dc8-4871-b2fe-40e2aadfff0c",
   "metadata": {},
   "outputs": [
    {
     "name": "stdout",
     "output_type": "stream",
     "text": [
      "2 3 4 5 7 9 11 13 17 19 23 25 29 31 37 41 43 47 49 53 59 61 67 71 73 79 83 89 97 "
     ]
    }
   ],
   "source": [
    "def prime():\n",
    "    for i in range(2,101):\n",
    "        count=0\n",
    "        for j in range(2,i):\n",
    "            if i%j==0:\n",
    "                count+=1\n",
    "        if count<2:\n",
    "            print(i,end=\" \")\n",
    "prime()"
   ]
  },
  {
   "cell_type": "code",
   "execution_count": 1,
   "id": "6e6f7ad9-3d00-4de0-9c6b-10c19f241277",
   "metadata": {},
   "outputs": [
    {
     "name": "stdout",
     "output_type": "stream",
     "text": [
      "[2, 3, 5, 7, 11, 13, 17, 19, 23, 29, 31, 37, 41, 43, 47, 53, 59, 61, 67, 71, 73, 79, 83, 89, 97]\n"
     ]
    }
   ],
   "source": [
    "prime=[x for x in range(2,101) if len([j for j in range (2,x) if x%j==0])==0]\n",
    "print(prime)"
   ]
  },
  {
   "cell_type": "code",
   "execution_count": 10,
   "id": "f19e95bb-3431-44ce-89c8-f9ed42248730",
   "metadata": {},
   "outputs": [
    {
     "name": "stdout",
     "output_type": "stream",
     "text": [
      "[(1, 1), (1, 2), (1, 3), (2, 1), (2, 2), (2, 3), (3, 1), (3, 2), (3, 3)]\n"
     ]
    }
   ],
   "source": [
    "values=[(x,y) for x in range(1,4) for y in range(1,4)]\n",
    "print(values)            "
   ]
  },
  {
   "cell_type": "code",
   "execution_count": 25,
   "id": "ecf34d2e-cd31-4cf8-86b8-973c824f9a9f",
   "metadata": {},
   "outputs": [
    {
     "data": {
      "text/plain": [
       "'guag'"
      ]
     },
     "execution_count": 25,
     "metadata": {},
     "output_type": "execute_result"
    }
   ],
   "source": [
    "str1=\"Python Programming is the easy,language \"\n",
    "str1[-6:-2]"
   ]
  },
  {
   "cell_type": "code",
   "execution_count": 9,
   "id": "0be1cdac-eec3-4e45-8b0c-7a364c71c2de",
   "metadata": {},
   "outputs": [
    {
     "data": {
      "text/plain": [
       "2"
      ]
     },
     "execution_count": 9,
     "metadata": {},
     "output_type": "execute_result"
    }
   ],
   "source": [
    "str1.count(\"m\")"
   ]
  },
  {
   "cell_type": "code",
   "execution_count": 27,
   "id": "a083da6d-f04e-47d1-8f8f-1de153b56a94",
   "metadata": {},
   "outputs": [
    {
     "data": {
      "text/plain": [
       "['Python Programming is the easy', 'language ']"
      ]
     },
     "execution_count": 27,
     "metadata": {},
     "output_type": "execute_result"
    }
   ],
   "source": [
    "str1.split(\",\")"
   ]
  },
  {
   "cell_type": "code",
   "execution_count": 31,
   "id": "fc1d684a-e219-47de-8455-0e739ee3bcfe",
   "metadata": {},
   "outputs": [
    {
     "data": {
      "text/plain": [
       "-1"
      ]
     },
     "execution_count": 31,
     "metadata": {},
     "output_type": "execute_result"
    }
   ],
   "source": [
    "str1.find(\"G\")"
   ]
  },
  {
   "cell_type": "code",
   "execution_count": 39,
   "id": "516db89d-cb33-447d-b481-b459b5d5cce6",
   "metadata": {},
   "outputs": [
    {
     "data": {
      "text/plain": [
       "'A'"
      ]
     },
     "execution_count": 39,
     "metadata": {},
     "output_type": "execute_result"
    }
   ],
   "source": [
    "chr(65)"
   ]
  },
  {
   "cell_type": "code",
   "execution_count": 43,
   "id": "37bb14e3-5dad-4be9-940c-486ee55d4292",
   "metadata": {},
   "outputs": [
    {
     "data": {
      "text/plain": [
       "64"
      ]
     },
     "execution_count": 43,
     "metadata": {},
     "output_type": "execute_result"
    }
   ],
   "source": [
    "ord(\"@\")"
   ]
  },
  {
   "cell_type": "code",
   "execution_count": 67,
   "id": "e5147707-dedb-4f04-9386-c5e5d01b807b",
   "metadata": {},
   "outputs": [
    {
     "name": "stdout",
     "output_type": "stream",
     "text": [
      "[40, 30, 20, 10]\n"
     ]
    }
   ],
   "source": [
    "list1=[10,20,30,40]\n",
    "list2=[50,60]\n",
    "# list1.append(list2)\n",
    "z=sorted(list1,reverse=True)\n",
    "print(z)"
   ]
  },
  {
   "cell_type": "code",
   "execution_count": 3,
   "id": "c581ea13-c52a-4591-8e3a-6477a1a89025",
   "metadata": {},
   "outputs": [
    {
     "name": "stdout",
     "output_type": "stream",
     "text": [
      "['akhil', 'raju', 'gopal']\n"
     ]
    }
   ],
   "source": [
    "lis=[\"akhil\",\"raju\"]\n",
    "lis1=[\"gopal\"]\n",
    "lis.extend(lis1)\n",
    "print(lis)"
   ]
  },
  {
   "cell_type": "code",
   "execution_count": null,
   "id": "fd0b3911-c268-4157-9619-db36ba2029c1",
   "metadata": {},
   "outputs": [],
   "source": [
    "for i in range(1,)"
   ]
  },
  {
   "cell_type": "code",
   "execution_count": 27,
   "id": "b9f5a84b-f2c0-45ef-b8c2-4496128534fa",
   "metadata": {},
   "outputs": [
    {
     "name": "stdout",
     "output_type": "stream",
     "text": [
      "0 1 1 2 3 5 8 13 21 34 55 89 "
     ]
    }
   ],
   "source": [
    "x,y=0,1\n",
    "print(x,end=\" \")\n",
    "while y<100:\n",
    "    print(y,end=\" \")\n",
    "    x,y=y,x+y"
   ]
  },
  {
   "cell_type": "code",
   "execution_count": 73,
   "id": "e0496793-f806-4e7e-9f55-80dc645bddc2",
   "metadata": {},
   "outputs": [
    {
     "name": "stdout",
     "output_type": "stream",
     "text": [
      "5 4 3 2 1 = 120\n"
     ]
    }
   ],
   "source": [
    "n=5\n",
    "z=1\n",
    "while n>=1:\n",
    "    z=z*n\n",
    "    print(n,end=\" \")\n",
    "    n-=1\n",
    "print(\"=\",z)"
   ]
  },
  {
   "cell_type": "code",
   "execution_count": null,
   "id": "f9e4869b-5204-46c1-97c1-2dc4636bd46b",
   "metadata": {},
   "outputs": [],
   "source": []
  }
 ],
 "metadata": {
  "kernelspec": {
   "display_name": "Python 3 (ipykernel)",
   "language": "python",
   "name": "python3"
  },
  "language_info": {
   "codemirror_mode": {
    "name": "ipython",
    "version": 3
   },
   "file_extension": ".py",
   "mimetype": "text/x-python",
   "name": "python",
   "nbconvert_exporter": "python",
   "pygments_lexer": "ipython3",
   "version": "3.12.7"
  }
 },
 "nbformat": 4,
 "nbformat_minor": 5
}
