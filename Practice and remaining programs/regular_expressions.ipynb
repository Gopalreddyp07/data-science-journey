{
 "cells": [
  {
   "cell_type": "markdown",
   "id": "f46333ce-69e5-4fdc-bdcd-532f21c70cf1",
   "metadata": {},
   "source": [
    "### Basic Regex Funtions in Python"
   ]
  },
  {
   "cell_type": "code",
   "execution_count": 34,
   "id": "6ff5ad50-2718-4ab1-aa74-9c4ce8138c95",
   "metadata": {},
   "outputs": [],
   "source": [
    "import re\n",
    "str1='''hello welcome to\n",
    "python it is the only course which will teach you whole python from scratch to advance level\n",
    "        ,and also discuss with various packages,for more details contact 7894561203/pythoncourse@gmail.com'''"
   ]
  },
  {
   "cell_type": "code",
   "execution_count": 36,
   "id": "111dd101-0a91-42eb-8bd0-5564eaa489a4",
   "metadata": {},
   "outputs": [
    {
     "name": "stdout",
     "output_type": "stream",
     "text": [
      "None\n"
     ]
    }
   ],
   "source": [
    "print(re.match(\"also\",str1))"
   ]
  },
  {
   "cell_type": "code",
   "execution_count": 38,
   "id": "b3267d2f-5659-453c-b1f2-e94bcac062c9",
   "metadata": {},
   "outputs": [
    {
     "name": "stdout",
     "output_type": "stream",
     "text": [
      "<re.Match object; span=(17, 23), match='python'>\n"
     ]
    }
   ],
   "source": [
    "#search() it is used to search for the element in the list if it matches it will print span of the element and also it will onlt considers the first element occurence\n",
    "print(re.search(\"python\",str1))"
   ]
  },
  {
   "cell_type": "code",
   "execution_count": 40,
   "id": "d41eafaf-8695-4d19-8970-89f987a71917",
   "metadata": {},
   "outputs": [
    {
     "name": "stdout",
     "output_type": "stream",
     "text": [
      "['python', 'python', 'python']\n"
     ]
    }
   ],
   "source": [
    "#findall() function is used to print list of patterns that are matching in the string\n",
    "print(re.findall(\"python\",str1))"
   ]
  },
  {
   "cell_type": "code",
   "execution_count": 42,
   "id": "c43f7060-c3de-41f0-9981-19dee3220c95",
   "metadata": {},
   "outputs": [
    {
     "name": "stdout",
     "output_type": "stream",
     "text": [
      "[<re.Match object; span=(17, 23), match='python'>, <re.Match object; span=(73, 79), match='python'>, <re.Match object; span=(194, 200), match='python'>]\n"
     ]
    }
   ],
   "source": [
    "#finditer() is used to print all the span occurences of the pattern in the string just like a search function but it print all patterns spans\n",
    "import time\n",
    "A=list(re.finditer(\"python\",str1))\n",
    "print(A)"
   ]
  },
  {
   "cell_type": "code",
   "execution_count": 44,
   "id": "033e3ba5-95bc-492e-9aa3-d28cb7c3ae24",
   "metadata": {},
   "outputs": [
    {
     "name": "stdout",
     "output_type": "stream",
     "text": [
      "['hello', 'welcome', 'to', 'python', 'it', 'is', 'the', 'only', 'course', 'which', 'will', 'teach', 'you', 'whole', 'python', 'from', 'scratch', 'to', 'advance', 'level\\n', '', '', '', '', '', '', '', ',and', 'also', 'discuss', 'with', 'various', 'packages,for', 'more', 'details', 'contact', '7894561203/pythoncourse@gmail.com']\n"
     ]
    }
   ],
   "source": [
    "#it just like a split function in the string function it will be used to split based on the condition and print as list \n",
    "print(re.split(\" \",str1))"
   ]
  },
  {
   "cell_type": "markdown",
   "id": "561c4762-d454-45ec-9c42-5df98a969f8d",
   "metadata": {},
   "source": [
    "### Basic Meta characters"
   ]
  },
  {
   "cell_type": "code",
   "execution_count": 47,
   "id": "8fe44b58-9ad6-46f5-a418-cabf7331f354",
   "metadata": {},
   "outputs": [
    {
     "name": "stdout",
     "output_type": "stream",
     "text": [
      "['a acb', 'aerob']\n"
     ]
    }
   ],
   "source": [
    "# 1. \".\" (Dot) - Matches Any Character Except Newline\n",
    "# The \".\" meta character matches any single character except a newline (\\n).\n",
    "pattern=r\"a...b\"\n",
    "str1=\"abba aba acb abb adb alb aerobell\"\n",
    "print(re.findall(pattern,str1))"
   ]
  },
  {
   "cell_type": "code",
   "execution_count": 49,
   "id": "e41dfe93-3ac4-4a63-a316-882b8c82a102",
   "metadata": {},
   "outputs": [
    {
     "name": "stdout",
     "output_type": "stream",
     "text": [
      "True\n"
     ]
    }
   ],
   "source": [
    "# 2. \"^\" (Caret) - Matches the Start of a String\n",
    "# The \"^\" symbol ensures that a pattern matches only if it appears at the beginning of the string.\n",
    "pattern=r\"^Hello\"\n",
    "str2=\"Hello how are you! how can i help you\"\n",
    "print(bool(re.search(pattern,str2)))"
   ]
  },
  {
   "cell_type": "code",
   "execution_count": 51,
   "id": "cc31b73f-da9b-4415-aa34-f2f865039d51",
   "metadata": {},
   "outputs": [
    {
     "name": "stdout",
     "output_type": "stream",
     "text": [
      "False\n"
     ]
    }
   ],
   "source": [
    "# 3. \"$\" (Dollar) - Matches the End of a String\n",
    "# The \"$\" ensures that a pattern matches only if it appears at the end of the string.\n",
    "pattern=r\"hello$\"\n",
    "str2=\"Hello how are you! how can i help you\"\n",
    "print(bool(re.match(pattern,str2)))"
   ]
  },
  {
   "cell_type": "code",
   "execution_count": 53,
   "id": "f9daf8b7-32cc-488c-9839-bdea84dd0cb3",
   "metadata": {},
   "outputs": [
    {
     "name": "stdout",
     "output_type": "stream",
     "text": [
      "['ca', ' ca', ' ca', ' ca', ' ca']\n"
     ]
    }
   ],
   "source": [
    "# 4. * (Asterisk) - Matches 0 or More Occurrences\n",
    "# The * matches zero or more occurrences of the preceding character.\n",
    "pattern=\" *ca\"\n",
    "string1=\"cart cat ct cop cult carpet carpenter caater\"\n",
    "print(re.findall(pattern,string1))"
   ]
  },
  {
   "cell_type": "code",
   "execution_count": 55,
   "id": "f8bc91a7-2baa-4461-9cc5-255158de064c",
   "metadata": {},
   "outputs": [
    {
     "name": "stdout",
     "output_type": "stream",
     "text": [
      "['tha', 'tha']\n"
     ]
    }
   ],
   "source": [
    "# 5. \"+\" (Plus) - Matches 1 or More Occurrences\n",
    "# The \"+\" matches one or more occurrences of the preceding character.\n",
    "pattern=r\"th+a\"\n",
    "string=\"tea thala triangle truma thinna thai\"\n",
    "print(re.findall(pattern,string))"
   ]
  },
  {
   "cell_type": "code",
   "execution_count": 57,
   "id": "96485f73-97ac-4206-ae28-b4e63174c3d4",
   "metadata": {},
   "outputs": [
    {
     "name": "stdout",
     "output_type": "stream",
     "text": [
      "['color', 'colour']\n"
     ]
    }
   ],
   "source": [
    "# 6. \"?\" (Question Mark) - Matches 0 or 1 Occurrence\n",
    "# The \"?\" makes the preceding character optional (0 or 1 occurrence).\n",
    "pattern=\"colou?r\"\n",
    "string=\"color colour colouurs\"\n",
    "print(re.findall(pattern,string))"
   ]
  },
  {
   "cell_type": "code",
   "execution_count": 59,
   "id": "84dfb6fc-0be1-4c6d-b02f-bfccc5a9aa58",
   "metadata": {},
   "outputs": [
    {
     "name": "stdout",
     "output_type": "stream",
     "text": [
      "['maango']\n",
      "['mangoes', 'maangoes']\n",
      "['mangooes']\n"
     ]
    }
   ],
   "source": [
    "# 7. {} (Curly Braces) - Matches a Specific Number of Occurrences\n",
    "# {n} - Matches exactly n occurrences.\n",
    "# {n,} - Matches at least n occurrences.\n",
    "# {n,m} - Matches between n and m occurrences.\n",
    "pattern=\"ma{2}ngo\"\n",
    "pattern1=\"ma{1,}ngoes\"\n",
    "pattern2=\"mango{2,5}es\"\n",
    "string=\"the mangoes are sweet so i need to call it as maangoes/mangooes\"\n",
    "print(re.findall(pattern,string))\n",
    "print(re.findall(pattern1,string))\n",
    "print(re.findall(pattern2,string))"
   ]
  },
  {
   "cell_type": "code",
   "execution_count": 28,
   "id": "4483ac2e-32c8-4c98-bb4e-14a124021ecb",
   "metadata": {},
   "outputs": [
    {
     "name": "stdout",
     "output_type": "stream",
     "text": [
      "['.com']\n"
     ]
    }
   ],
   "source": [
    "# 9. \\ (Backslash) - Escape Special Characters\n",
    "#  If you want to match a meta character literally, use \\ (backslash).\n",
    "pattern=r\"\\.com\"\n",
    "string=\"www.facebook.com www.amazon.in www.microsoftcom\"\n",
    "print(re.findall(pattern,string))"
   ]
  },
  {
   "cell_type": "code",
   "execution_count": 30,
   "id": "8b6c18fd-695f-499a-8f64-31cc0f217740",
   "metadata": {},
   "outputs": [
    {
     "name": "stdout",
     "output_type": "stream",
     "text": [
      "['cat', 'dog']\n"
     ]
    }
   ],
   "source": [
    "# 10. | (Pipe) - OR Operator\n",
    "# The | symbol allows either-or matching.\n",
    "pattern=r\"dog|cat\"\n",
    "string=\"the cat runs after seeing the dog\"\n",
    "print(re.findall(pattern,string))"
   ]
  },
  {
   "cell_type": "markdown",
   "id": "5bbb3097-af16-4983-9b66-a6b21e22fbef",
   "metadata": {},
   "source": [
    "### Special Sequences (Escape Sequences) in Python Regular Expressions\n",
    "Special sequences (also called escape sequences) are predefined regex patterns that help match specific types of characters more efficiently. These sequences start with a backslash (\\) and are followed by a letter or number."
   ]
  },
  {
   "cell_type": "code",
   "execution_count": 87,
   "id": "ba909fbd-51f6-4064-a0b6-bd215616c04b",
   "metadata": {},
   "outputs": [
    {
     "name": "stdout",
     "output_type": "stream",
     "text": [
      "['01-03-2004', '14-03-2004']\n"
     ]
    }
   ],
   "source": [
    "# 1. \\d - Matches Any Digit (0-9)\n",
    "# The \\d special sequence matches any digit (equivalent to [0-9]).\n",
    "pattern=r\"\\d\\d-\\d\\d-\\d\\d\\d\\d\"\n",
    "string=\"The date of birth is 01-03-2004 214-03-2004\"\n",
    "print(re.findall(pattern,string))"
   ]
  },
  {
   "cell_type": "code",
   "execution_count": 35,
   "id": "4e1addd2-030a-4d92-b4a8-3a421728939e",
   "metadata": {},
   "outputs": [
    {
     "name": "stdout",
     "output_type": "stream",
     "text": [
      "hi welcome to the python and your course start at --\n"
     ]
    }
   ],
   "source": [
    "# 2. \\D - Matches Any Non-Digit Character\n",
    "# The \\D sequence matches any character that is NOT a digit (equivalent to [^0-9]).\n",
    "pattern=r\"\\D\"\n",
    "string=\"hi welcome to the python and your course start at 01-02-2025\"\n",
    "Z=(re.findall(pattern,string))\n",
    "print(\"\".join(Z))"
   ]
  },
  {
   "cell_type": "code",
   "execution_count": 37,
   "id": "228d43c7-947f-4eb2-a7f7-c29b947a4161",
   "metadata": {},
   "outputs": [
    {
     "name": "stdout",
     "output_type": "stream",
     "text": [
      "h i w e l c o m e t o t h e p y t h o n a n d y o u r c o u r s e s t a r t a t 0 1 0 2 2 0 2 5\n"
     ]
    }
   ],
   "source": [
    "# 3. \\w - Matches Any Alphanumeric Character (A-Z, a-z, 0-9, _)\n",
    "# The \\w sequence matches letters, digits, and underscore (_) (equivalent to [a-zA-Z0-9_]).\n",
    "pattern=r\"\\w\"\n",
    "string=\"hi welcome to the python and your course start at 01-02-2025\"\n",
    "Z=(re.findall(pattern,string))\n",
    "print(\" \".join(Z))"
   ]
  },
  {
   "cell_type": "code",
   "execution_count": 39,
   "id": "5c8a8285-4317-4c2d-8baa-136463d617f5",
   "metadata": {},
   "outputs": [
    {
     "name": "stdout",
     "output_type": "stream",
     "text": [
      "[' ', ' ', ' ', ' ', ' ', ' ', ' ', ' ', ' ', ' ', '-', '-', ' ', ' ', '/', '/']\n"
     ]
    }
   ],
   "source": [
    "# 4. \\W - Matches Any Non-Alphanumeric Character\n",
    "# The \\W sequence matches any character that is NOT a letter, digit, or underscore (_).\n",
    "pattern=r\"\\W\"\n",
    "string=\"hi welcome to the python and your course start at 01-02-2025 or 01/02/2025\"\n",
    "print(re.findall(pattern,string))"
   ]
  },
  {
   "cell_type": "code",
   "execution_count": 41,
   "id": "d80e42ae-63d6-43ad-a21e-1c15f946014d",
   "metadata": {},
   "outputs": [
    {
     "name": "stdout",
     "output_type": "stream",
     "text": [
      "[' ', ' ', ' ', ' ', ' ', ' ', ' ', ' ', ' ', ' ', ' ', ' ']\n"
     ]
    }
   ],
   "source": [
    "# 5. \\s - Matches Any Whitespace Character (Space, Tab, Newline)\n",
    "# The \\s sequence matches spaces, tabs (\\t), and newlines (\\n).\n",
    "pattern=r\"\\s\"\n",
    "string=\"hi welcome to the python and your course start at 01-02-2025 or 01/02/2025\"\n",
    "print(re.findall(pattern,string))"
   ]
  },
  {
   "cell_type": "code",
   "execution_count": 43,
   "id": "cb160be7-fc25-406c-9fa1-de4e47f67b49",
   "metadata": {},
   "outputs": [
    {
     "name": "stdout",
     "output_type": "stream",
     "text": [
      "hiwelcometothepythonandyourcoursestartat01-02-2025or01/02/2025\n"
     ]
    }
   ],
   "source": [
    "# 6. \\S - Matches Any Non-Whitespace Character\n",
    "# The \\S sequence matches any character that is NOT a space, tab, or newline.\n",
    "pattern=r\"\\S\"\n",
    "string=\"hi welcome to the python and your course start at 01-02-2025 or 01/02/2025\"\n",
    "z=re.findall(pattern,string)\n",
    "print(\"\".join(z))"
   ]
  },
  {
   "cell_type": "code",
   "execution_count": 45,
   "id": "c6ceaf90-c49f-4931-9e93-e9885171935d",
   "metadata": {},
   "outputs": [
    {
     "name": "stdout",
     "output_type": "stream",
     "text": [
      "['Gopalreddyp07@gmail.com', 'gopalreddypothipeddi@gmail.com', 'gopalreddyp07@gmail.com', 'reddy@gmail.com']\n"
     ]
    }
   ],
   "source": [
    "# def email_validation():\n",
    "email=r\"[\\S]+@[A-Za-z]+.[a-zA-Z]{2,}\"\n",
    "string=r\"Gopalreddyp07@gmail.com  gopalreddypothipeddi@gmail.com gopalreddyp07@gmail.com gopal reddy@gmail.com\"\n",
    "print(re.findall(email,string))\n",
    "# email_validation()"
   ]
  },
  {
   "cell_type": "code",
   "execution_count": 47,
   "id": "a1bbfa91-3964-43ca-be4b-52e7c8d5ecdd",
   "metadata": {},
   "outputs": [
    {
     "name": "stdout",
     "output_type": "stream",
     "text": [
      "['+91-8074320891', '+1-4567891257']\n"
     ]
    }
   ],
   "source": [
    "# def phone(phone,phone_pattern):\n",
    "phone=r\"[+][9|1|0]{0,5}-[0-9]{10}\"\n",
    "string=r\"+91-8074320891 +1-4567891257 +01-65438765 01-6543876512\"\n",
    "print(re.findall(phone,string))"
   ]
  },
  {
   "cell_type": "code",
   "execution_count": 49,
   "id": "8f9f66d0-25b0-495f-b253-42fc80654b3d",
   "metadata": {},
   "outputs": [
    {
     "name": "stdout",
     "output_type": "stream",
     "text": [
      "Hello Welcome to the DS AI ML course\n"
     ]
    }
   ],
   "source": [
    "#Weekly test question write a prgram to remove the puncuation from the string\n",
    "string=\"Hello! Welcome to the DS&AI,ML course\"\n",
    "subs=re.sub(r\"[^a-zA-Z0-9]+\",\" \",string)\n",
    "print(subs)"
   ]
  },
  {
   "cell_type": "code",
   "execution_count": 51,
   "id": "a9b983a5-e235-4a9b-9ad3-d94ae1084314",
   "metadata": {},
   "outputs": [
    {
     "name": "stdout",
     "output_type": "stream",
     "text": [
      "['Gopal reddy']\n"
     ]
    }
   ],
   "source": [
    "# Data validation using python\n",
    "string1=\"Gopal reddy\"\n",
    "pattern=r\"[^0-9]+\"\n",
    "print(re.findall(pattern,string1))"
   ]
  },
  {
   "cell_type": "markdown",
   "id": "1f54125b-0f15-4315-825f-d4965163b535",
   "metadata": {},
   "source": [
    "\n",
    "\n",
    "---\n",
    "\n",
    "### **What is a Regular Expression?**\n",
    "\n",
    "A **regular expression** is a sequence of characters that define a search pattern. It’s like a special language for searching through text. They’re used in many programming languages, such as Python, JavaScript, Java, etc.\n",
    "\n",
    "---\n",
    "\n",
    "### **Basic Building Blocks**\n",
    "\n",
    "#### **1. Literal Characters**\n",
    "\n",
    "These are plain text characters. E.g., `abc` matches “abc” exactly.\n",
    "\n",
    "#### **2. Metacharacters**\n",
    "\n",
    "Special characters with a unique meaning:\n",
    "\n",
    "| Metacharacter | Description                                             |                                                              |\n",
    "| ------------- | ------------------------------------------------------- | ------------------------------------------------------------ |\n",
    "| `.`           | Matches any character except newline (`\\n`).            |                                                              |\n",
    "| `^`           | Matches the start of a string.                          |                                                              |\n",
    "| `$`           | Matches the end of a string.                            |                                                              |\n",
    "| `*`           | Matches 0 or more repetitions of the preceding pattern. |                                                              |\n",
    "| `+`           | Matches 1 or more repetitions.                          |                                                              |\n",
    "| `?`           | Matches 0 or 1 occurrence (makes it optional).          |                                                              |\n",
    "| `[]`          | Matches any single character in the set.                |                                                              |\n",
    "| \\`            | \\`                                                      | Acts as OR: matches either the pattern on the left or right. |\n",
    "| `()`          | Groups patterns together.                               |                                                              |\n",
    "\n",
    "#### **3. Escaping Metacharacters**\n",
    "\n",
    "If you want to match the metacharacter literally, you use a backslash (`\\`).\n",
    "E.g., `\\.` matches a period.\n",
    "\n",
    "---\n",
    "\n",
    "### **Character Classes & Ranges**\n",
    "\n",
    "* `[abc]` matches any one of “a”, “b”, or “c”.\n",
    "* `[a-z]` matches any lowercase letter.\n",
    "* `[A-Z]` matches any uppercase letter.\n",
    "* `[0-9]` matches any digit.\n",
    "\n",
    "You can also negate a set:\n",
    "\n",
    "* `[^abc]` matches any character except “a”, “b”, or “c”.\n",
    "\n",
    "---\n",
    "\n",
    "### **Predefined Character Classes**\n",
    "\n",
    "* `\\d` – Digit (`[0-9]`)\n",
    "* `\\D` – Non-digit\n",
    "* `\\w` – Word character (letters, digits, `_`)\n",
    "* `\\W` – Non-word character\n",
    "* `\\s` – Whitespace (space, tab, newline)\n",
    "* `\\S` – Non-whitespace\n",
    "\n",
    "---\n",
    "\n",
    "### **Quantifiers**\n",
    "\n",
    "| Quantifier | Description                 |\n",
    "| ---------- | --------------------------- |\n",
    "| `{m}`      | Exactly m repetitions       |\n",
    "| `{m,}`     | m or more repetitions       |\n",
    "| `{m,n}`    | Between m and n repetitions |\n",
    "\n",
    "For example:\n",
    "\n",
    "* `a{2}` matches “aa”\n",
    "* `a{2,4}` matches “aa”, “aaa”, or “aaaa”\n",
    "\n",
    "---\n",
    "\n",
    "### **Anchors**\n",
    "\n",
    "* `^` – Start of the string (or line in multiline mode).\n",
    "* `$` – End of the string.\n",
    "\n",
    "Example:\n",
    "\n",
    "* `^Hello` matches “Hello” at the start of a string.\n",
    "* `world$` matches “world” at the end of a string.\n",
    "\n",
    "---\n",
    "\n",
    "### **Grouping and Capturing**\n",
    "\n",
    "Parentheses `()` are used to:\n",
    "\n",
    "* Group patterns.\n",
    "* Capture matched substrings.\n",
    "\n",
    "Example:\n",
    "\n",
    "```python\n",
    "import re\n",
    "text = \"Hello World\"\n",
    "match = re.search(r\"(Hello) (World)\", text)\n",
    "print(match.group(1))  # Output: Hello\n",
    "print(match.group(2))  # Output: World\n",
    "```\n",
    "\n",
    "---\n",
    "\n",
    "### **Example Patterns**\n",
    "\n",
    "* Email: `\\w+@\\w+\\.\\w+`\n",
    "* Date (YYYY-MM-DD): `\\d{4}-\\d{2}-\\d{2}`\n",
    "* Phone number: `\\d{3}-\\d{3}-\\d{4}`\n",
    "\n",
    "---\n",
    "\n",
    "### **Practical Python Example**\n",
    "\n",
    "```python\n",
    "import re\n",
    "\n",
    "pattern = r\"\\d{3}-\\d{2}-\\d{4}\"  # SSN pattern\n",
    "text = \"My SSN is 123-45-6789.\"\n",
    "\n",
    "match = re.search(pattern, text)\n",
    "if match:\n",
    "    print(\"Found:\", match.group())  # Found: 123-45-6789\n",
    "else:\n",
    "    print(\"No match found.\")\n",
    "```\n",
    "\n",
    "---\n",
    "\n",
    "### **Tips & Tricks**\n",
    "\n",
    "✅ Test your regex on websites like **regex101.com**\n",
    "✅ Be careful with greedy (`.*`) vs. non-greedy (`.*?`) matching\n",
    "✅ Use `re.findall()` to find all matches in a string\n",
    "✅ Use `re.sub()` to substitute patterns with new text\n",
    "\n",
    "---"
   ]
  },
  {
   "cell_type": "code",
   "execution_count": 61,
   "id": "00ffcf46-6574-4441-a809-1ea6c9b7f04e",
   "metadata": {},
   "outputs": [],
   "source": [
    "import re"
   ]
  },
  {
   "cell_type": "code",
   "execution_count": 89,
   "id": "82aa7590-c7f1-4e9c-9a30-be7329e6cd74",
   "metadata": {},
   "outputs": [
    {
     "data": {
      "text/plain": [
       "['course']"
      ]
     },
     "execution_count": 89,
     "metadata": {},
     "output_type": "execute_result"
    }
   ],
   "source": [
    "string='''Welcome to the python course regular expression we are going to deal with them in indetail'''\n",
    "pattern=\"course\"\n",
    "s=re.findall(\"course\",string)\n",
    "s"
   ]
  },
  {
   "cell_type": "code",
   "execution_count": null,
   "id": "0241cec7-53be-4e13-a275-bc182f044ca0",
   "metadata": {},
   "outputs": [],
   "source": []
  }
 ],
 "metadata": {
  "kernelspec": {
   "display_name": "Python 3 (ipykernel)",
   "language": "python",
   "name": "python3"
  },
  "language_info": {
   "codemirror_mode": {
    "name": "ipython",
    "version": 3
   },
   "file_extension": ".py",
   "mimetype": "text/x-python",
   "name": "python",
   "nbconvert_exporter": "python",
   "pygments_lexer": "ipython3",
   "version": "3.12.7"
  }
 },
 "nbformat": 4,
 "nbformat_minor": 5
}
