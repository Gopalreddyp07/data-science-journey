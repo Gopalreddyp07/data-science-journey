{
 "cells": [
  {
   "cell_type": "code",
   "execution_count": 87,
   "id": "89507f81-0073-4473-9b66-9d73d427fdd8",
   "metadata": {},
   "outputs": [
    {
     "name": "stdout",
     "output_type": "stream",
     "text": [
      "-1\n",
      "25\n",
      "22\n",
      "hello I am learning python\n",
      "A\n",
      "97\n",
      "True\n",
      "True\n",
      "1\n"
     ]
    }
   ],
   "source": [
    "# working with the i)find() ii)rfind iii)index iv)strip() v)chr() and ord() vi)startswith() vii)endswith() viii)count()\n",
    "str1=\"--hello I am learning python\"\n",
    "print(str1.find(\"z\"))# if a letter does not find in the string find function will return the -1 where as index will print index error but both will work same\n",
    "print(str1.rfind(\"h\"))\n",
    "print(str1.index(\"p\"))\n",
    "print(str1.strip(\"-\"))\n",
    "print(chr(65))#it print character mentioned ascci value character \n",
    "print(ord(\"a\"))#it prints the ascci value of the mentioned alphabet \n",
    "print(str1.startswith(\"--\"))#it print boolean value when the character starts with the mentioned with the specified string\n",
    "print(str1.endswith(\"python\"))#it print boolean value when the character ends with the mentioned with the specified string\n",
    "print(str1.count(\"i\"))#it count the specified string that had mentioned in the () braces"
   ]
  },
  {
   "cell_type": "code",
   "execution_count": 11,
   "id": "c6999a62-e3aa-454a-a1c9-ed51bd816253",
   "metadata": {},
   "outputs": [
    {
     "name": "stdout",
     "output_type": "stream",
     "text": [
      "It is a string type\n"
     ]
    }
   ],
   "source": [
    "# write a python program to find out the give string is string or not check with out using the type fuction \n",
    "s=\"VCUBE\"\n",
    "leng=len(s)\n",
    "count=0\n",
    "for i in s:\n",
    "    if i.isalpha():\n",
    "        count+=1\n",
    "    else:\n",
    "        pass\n",
    "if leng==count:\n",
    "    print(\"It is a string type\")\n",
    "else:\n",
    "    print(\"It is not a string type\")"
   ]
  },
  {
   "cell_type": "code",
   "execution_count": 39,
   "id": "b47cc363-8ada-4635-bfbb-e7e4b714937a",
   "metadata": {},
   "outputs": [
    {
     "data": {
      "text/plain": [
       "'Hel working with the strings'"
      ]
     },
     "execution_count": 39,
     "metadata": {},
     "output_type": "execute_result"
    }
   ],
   "source": [
    "# write a python program to remove range of characters from a given string\n",
    "str1=\"Hello i am working with the strings\"\n",
    "z=str1[3:10]\n",
    "str1.replace(z,\"\")\n"
   ]
  },
  {
   "cell_type": "code",
   "execution_count": 51,
   "id": "d239cddf-ab25-4606-ae40-15c972f06f60",
   "metadata": {},
   "outputs": [
    {
     "name": "stdout",
     "output_type": "stream",
     "text": [
      "0\n"
     ]
    },
    {
     "data": {
      "text/plain": [
       "23"
      ]
     },
     "execution_count": 51,
     "metadata": {},
     "output_type": "execute_result"
    }
   ],
   "source": [
    "strs=\"gopal is going to temple to pray the god\"\n",
    "str1=\"go\"\n",
    "for i in range(len(strs)-(len(str1))):\n",
    "    \n"
   ]
  },
  {
   "cell_type": "code",
   "execution_count": null,
   "id": "199fab75-4048-4417-a45a-f3c945815990",
   "metadata": {},
   "outputs": [],
   "source": []
  }
 ],
 "metadata": {
  "kernelspec": {
   "display_name": "Python 3 (ipykernel)",
   "language": "python",
   "name": "python3"
  },
  "language_info": {
   "codemirror_mode": {
    "name": "ipython",
    "version": 3
   },
   "file_extension": ".py",
   "mimetype": "text/x-python",
   "name": "python",
   "nbconvert_exporter": "python",
   "pygments_lexer": "ipython3",
   "version": "3.12.7"
  }
 },
 "nbformat": 4,
 "nbformat_minor": 5
}
