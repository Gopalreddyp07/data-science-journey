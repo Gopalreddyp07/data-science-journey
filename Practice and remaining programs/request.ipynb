{
 "cells": [
  {
   "cell_type": "code",
   "execution_count": 15,
   "id": "fed251ea-5ed1-4a4c-a60a-1a8ba7f32012",
   "metadata": {},
   "outputs": [
    {
     "name": "stdout",
     "output_type": "stream",
     "text": [
      "<Response [200]>\n"
     ]
    }
   ],
   "source": [
    "import requests as rq\n",
    "r=rq.get(\"https://en.wikipedia.org/wiki/Albert_Einstein\")\n",
    "print(r)"
   ]
  },
  {
   "cell_type": "code",
   "execution_count": 21,
   "id": "810811ea-2de2-47bd-a158-a49144bbd2a6",
   "metadata": {},
   "outputs": [
    {
     "name": "stdout",
     "output_type": "stream",
     "text": [
      "<Response [200]>\n"
     ]
    }
   ],
   "source": [
    "import requests as rq\n",
    "r=rq.get(\"https://www.amazon.in/\")\n",
    "print(r)"
   ]
  },
  {
   "cell_type": "code",
   "execution_count": null,
   "id": "4bb221c0-48bf-4838-ac2e-97ad01726ca0",
   "metadata": {},
   "outputs": [],
   "source": []
  },
  {
   "cell_type": "code",
   "execution_count": 53,
   "id": "a0dfdb23-fba9-49a1-b20f-2c76f1444dd0",
   "metadata": {},
   "outputs": [
    {
     "name": "stdout",
     "output_type": "stream",
     "text": [
      "<Response [200]>\n"
     ]
    }
   ],
   "source": [
    "import requests as rq\n",
    "r=rq.get(\"https://m.media-amazon.com/images/I/61bjbYa+rFL._AC_UL480_FMwebp_QL65_.jpg\")\n",
    "print(r)"
   ]
  },
  {
   "cell_type": "code",
   "execution_count": 55,
   "id": "9172f616-6164-439e-97ff-a69edc9f218d",
   "metadata": {},
   "outputs": [],
   "source": [
    "with open(\"amazon.jpg\",\"wb\") as file:\n",
    "    file.write(r.content)"
   ]
  },
  {
   "cell_type": "code",
   "execution_count": 59,
   "id": "6b3172b4-4c3b-4609-b3f4-8195bdb5ea93",
   "metadata": {},
   "outputs": [
    {
     "name": "stdout",
     "output_type": "stream",
     "text": [
      "<Response [200]>\n"
     ]
    }
   ],
   "source": [
    "import requests\n",
    "re=requests.get(\"https://fr.cdn.v5.futura-sciences.com/buildsv6/images/largeoriginal/7/0/a/70a355b0b6_50142362_einstein-1000.jpg\")\n",
    "print(re)"
   ]
  },
  {
   "cell_type": "code",
   "execution_count": 63,
   "id": "e22e4bb4-121a-4b66-9734-4c29ec69962f",
   "metadata": {},
   "outputs": [],
   "source": [
    "with open(\"science.jpg\",\"wb+\") as f:\n",
    "    f.write(re.content)"
   ]
  },
  {
   "cell_type": "code",
   "execution_count": null,
   "id": "9efea733-00aa-4797-b1d5-59ecaa560c20",
   "metadata": {},
   "outputs": [],
   "source": []
  }
 ],
 "metadata": {
  "kernelspec": {
   "display_name": "Python 3 (ipykernel)",
   "language": "python",
   "name": "python3"
  },
  "language_info": {
   "codemirror_mode": {
    "name": "ipython",
    "version": 3
   },
   "file_extension": ".py",
   "mimetype": "text/x-python",
   "name": "python",
   "nbconvert_exporter": "python",
   "pygments_lexer": "ipython3",
   "version": "3.12.7"
  }
 },
 "nbformat": 4,
 "nbformat_minor": 5
}
