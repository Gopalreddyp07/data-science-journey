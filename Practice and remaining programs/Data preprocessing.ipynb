{
 "cells": [
  {
   "cell_type": "markdown",
   "id": "570d92f8-44a5-4642-81be-e906187899dd",
   "metadata": {},
   "source": [
    "### Data Imputation"
   ]
  },
  {
   "cell_type": "markdown",
   "id": "80674ec6-763e-4215-a22f-e4b2997a0bd1",
   "metadata": {},
   "source": [
    "## **What is Imputation?**\n",
    "Imputation is the process of filling in missing values in a dataset. In real-world data, missing values are common and need to be handled properly before training a machine learning model.\n",
    "\n",
    "### **Why is Imputation Needed?**\n",
    "1. **ML Models Can't Handle Missing Data:** Most machine learning algorithms do not work with missing values.\n",
    "2. **Prevents Data Loss:** Simply deleting rows or columns with missing values can lead to **loss of important data**.\n",
    "3. **Improves Accuracy:** Proper imputation can make models more **robust and accurate**.\n",
    "4. **Ensures Data Consistency:** Missing data can introduce **bias** or misinterpretations in analysis.\n",
    "\n",
    "---\n",
    "\n",
    "## **Types of Imputation Techniques**\n",
    "Imputation techniques are mainly classified into:\n",
    "1. **Simple Imputation** (Statistical methods)\n",
    "2. **Advanced Imputation** (Machine learning-based methods)\n",
    "\n",
    "---\n",
    "\n",
    "## **1. Simple Imputation Techniques**\n",
    "These methods use **basic statistical techniques** to fill in missing values.\n",
    "\n",
    "### **A. Mean, Median, and Mode Imputation**\n",
    "- **Mean Imputation:** Replace missing values with the column’s **mean** (average).  \n",
    "- **Median Imputation:** Replace with the **median** (middle value) of the column.  \n",
    "- **Mode Imputation:** Replace with the **most frequent value** (best for categorical data).  \n",
    "\n",
    "#### **Example using Pandas**\n",
    "```python\n",
    "import pandas as pd\n",
    "import numpy as np\n",
    "from sklearn.impute import SimpleImputer\n",
    "\n",
    "# Creating a dataset with missing values\n",
    "data = pd.DataFrame({\n",
    "    'Age': [25, np.nan, 30, 35, np.nan, 40],\n",
    "    'Salary': [50000, 60000, np.nan, 80000, 75000, np.nan],\n",
    "    'City': ['Hyderabad', 'Mumbai', 'Delhi', np.nan, 'Mumbai', 'Hyderabad']\n",
    "})\n",
    "\n",
    "print(\"Original Data:\\n\", data)\n",
    "\n",
    "# Mean Imputation\n",
    "mean_imputer = SimpleImputer(strategy='mean')\n",
    "data[['Age', 'Salary']] = mean_imputer.fit_transform(data[['Age', 'Salary']])\n",
    "\n",
    "# Mode Imputation for Categorical Data\n",
    "mode_imputer = SimpleImputer(strategy='most_frequent')\n",
    "data[['City']] = mode_imputer.fit_transform(data[['City']])\n",
    "\n",
    "print(\"After Imputation:\\n\", data)\n",
    "```\n",
    "**When to Use?**\n",
    "| **Method**  | **Best For** |\n",
    "|-------------|-------------|\n",
    "| Mean | Normally distributed numerical data |\n",
    "| Median | Skewed numerical data (e.g., salary, house price) |\n",
    "| Mode | Categorical data (e.g., gender, city, department) |\n",
    "\n",
    "---\n",
    "\n",
    "## **2. Advanced Imputation Techniques**\n",
    "For better accuracy, we can use machine learning-based imputation methods.\n",
    "\n",
    "### **A. K-Nearest Neighbors (KNN) Imputation**\n",
    "- Fills missing values by considering **nearest neighbors**.\n",
    "- Uses **distance-based similarity** to estimate missing values.\n",
    "\n",
    "#### **Example using Scikit-Learn**\n",
    "```python\n",
    "from sklearn.impute import KNNImputer\n",
    "\n",
    "# Creating a KNN Imputer\n",
    "knn_imputer = KNNImputer(n_neighbors=2)\n",
    "\n",
    "# Applying KNN Imputation\n",
    "data[['Age', 'Salary']] = knn_imputer.fit_transform(data[['Age', 'Salary']])\n",
    "\n",
    "print(\"After KNN Imputation:\\n\", data)\n",
    "```\n",
    "✅ **Best when missing values are dependent on other features.**  \n",
    "\n",
    "---\n",
    "\n",
    "### **B. Regression Imputation**\n",
    "- Uses **linear regression** to predict missing values.\n",
    "- Example: If \"Salary\" is missing, it can be predicted using \"Age\".\n",
    "\n",
    "#### **Example using Linear Regression**\n",
    "```python\n",
    "from sklearn.linear_model import LinearRegression\n",
    "\n",
    "# Splitting known and unknown values\n",
    "known = data[data['Age'].notna()]\n",
    "missing = data[data['Age'].isna()]\n",
    "\n",
    "# Training a regression model\n",
    "model = LinearRegression()\n",
    "model.fit(known[['Salary']], known['Age'])\n",
    "\n",
    "# Predicting missing values\n",
    "data.loc[data['Age'].isna(), 'Age'] = model.predict(missing[['Salary']])\n",
    "\n",
    "print(\"After Regression Imputation:\\n\", data)\n",
    "```\n",
    "✅ **Best for numerical data with strong relationships.**\n",
    "\n",
    "---\n",
    "\n",
    "### **C. Multiple Imputation (MICE - Multivariate Imputation by Chained Equations)**\n",
    "- Iteratively predicts missing values using **multiple models**.\n",
    "- More accurate than **single-value imputations**.\n",
    "\n",
    "#### **Example using IterativeImputer**\n",
    "```python\n",
    "from sklearn.experimental import enable_iterative_imputer\n",
    "from sklearn.impute import IterativeImputer\n",
    "\n",
    "# Creating an Iterative Imputer instance\n",
    "iter_imputer = IterativeImputer()\n",
    "\n",
    "# Applying MICE Imputation\n",
    "data[['Age', 'Salary']] = iter_imputer.fit_transform(data[['Age', 'Salary']])\n",
    "\n",
    "print(\"After MICE Imputation:\\n\", data)\n",
    "```\n",
    "✅ **Best when missing data is complex and interdependent.**\n",
    "\n",
    "---\n",
    "\n",
    "## **3. Imputation for Different Data Types**\n",
    "| **Data Type** | **Best Imputation Technique** |\n",
    "|--------------|------------------------------|\n",
    "| **Numerical (Continuous)** | Mean, Median, KNN, Regression, MICE |\n",
    "| **Numerical (Skewed)** | Median, KNN |\n",
    "| **Categorical (Nominal)** | Mode, One-Hot Encoding, Frequency Encoding |\n",
    "| **Categorical (Ordinal)** | Mode, Ordinal Encoding |\n",
    "\n",
    "---\n",
    "\n",
    "## **Conclusion**\n",
    "- **Imputation is necessary** to prevent data loss and improve model performance.\n",
    "- **Simple imputation** (Mean, Median, Mode) is fast and easy but may introduce bias.\n",
    "- **Advanced imputation** (KNN, Regression, MICE) provides better accuracy but requires more computation."
   ]
  },
  {
   "cell_type": "code",
   "execution_count": 1,
   "id": "bb2ca5e9-81bb-40e6-8ffc-319d47428f8f",
   "metadata": {},
   "outputs": [],
   "source": [
    "import numpy as np\n",
    "import pandas as pd\n",
    "import scipy as sci\n",
    "import matplotlib.pyplot as plt\n",
    "import seaborn as sna\n",
    "from sklearn.impute import SimpleImputer\n",
    "df=pd.read_csv(\"titanics.csv\")"
   ]
  },
  {
   "cell_type": "code",
   "execution_count": 2,
   "id": "4a01d685-0400-4180-bf72-8804947765dc",
   "metadata": {},
   "outputs": [
    {
     "data": {
      "text/html": [
       "<div>\n",
       "<style scoped>\n",
       "    .dataframe tbody tr th:only-of-type {\n",
       "        vertical-align: middle;\n",
       "    }\n",
       "\n",
       "    .dataframe tbody tr th {\n",
       "        vertical-align: top;\n",
       "    }\n",
       "\n",
       "    .dataframe thead th {\n",
       "        text-align: right;\n",
       "    }\n",
       "</style>\n",
       "<table border=\"1\" class=\"dataframe\">\n",
       "  <thead>\n",
       "    <tr style=\"text-align: right;\">\n",
       "      <th></th>\n",
       "      <th>PassengerId</th>\n",
       "      <th>Survived</th>\n",
       "      <th>Pclass</th>\n",
       "      <th>Name</th>\n",
       "      <th>Sex</th>\n",
       "      <th>Age</th>\n",
       "      <th>SibSp</th>\n",
       "      <th>Parch</th>\n",
       "      <th>Ticket</th>\n",
       "      <th>Fare</th>\n",
       "      <th>Cabin</th>\n",
       "      <th>Embarked</th>\n",
       "    </tr>\n",
       "  </thead>\n",
       "  <tbody>\n",
       "    <tr>\n",
       "      <th>0</th>\n",
       "      <td>1</td>\n",
       "      <td>0</td>\n",
       "      <td>3</td>\n",
       "      <td>Braund, Mr. Owen Harris</td>\n",
       "      <td>male</td>\n",
       "      <td>22.0</td>\n",
       "      <td>1</td>\n",
       "      <td>0</td>\n",
       "      <td>A/5 21171</td>\n",
       "      <td>7.2500</td>\n",
       "      <td>NaN</td>\n",
       "      <td>S</td>\n",
       "    </tr>\n",
       "    <tr>\n",
       "      <th>1</th>\n",
       "      <td>2</td>\n",
       "      <td>1</td>\n",
       "      <td>1</td>\n",
       "      <td>Cumings, Mrs. John Bradley (Florence Briggs Th...</td>\n",
       "      <td>female</td>\n",
       "      <td>38.0</td>\n",
       "      <td>1</td>\n",
       "      <td>0</td>\n",
       "      <td>PC 17599</td>\n",
       "      <td>71.2833</td>\n",
       "      <td>C85</td>\n",
       "      <td>C</td>\n",
       "    </tr>\n",
       "    <tr>\n",
       "      <th>2</th>\n",
       "      <td>3</td>\n",
       "      <td>1</td>\n",
       "      <td>3</td>\n",
       "      <td>Heikkinen, Miss. Laina</td>\n",
       "      <td>female</td>\n",
       "      <td>26.0</td>\n",
       "      <td>0</td>\n",
       "      <td>0</td>\n",
       "      <td>STON/O2. 3101282</td>\n",
       "      <td>7.9250</td>\n",
       "      <td>NaN</td>\n",
       "      <td>S</td>\n",
       "    </tr>\n",
       "    <tr>\n",
       "      <th>3</th>\n",
       "      <td>4</td>\n",
       "      <td>1</td>\n",
       "      <td>1</td>\n",
       "      <td>Futrelle, Mrs. Jacques Heath (Lily May Peel)</td>\n",
       "      <td>female</td>\n",
       "      <td>35.0</td>\n",
       "      <td>1</td>\n",
       "      <td>0</td>\n",
       "      <td>113803</td>\n",
       "      <td>53.1000</td>\n",
       "      <td>C123</td>\n",
       "      <td>S</td>\n",
       "    </tr>\n",
       "    <tr>\n",
       "      <th>4</th>\n",
       "      <td>5</td>\n",
       "      <td>0</td>\n",
       "      <td>3</td>\n",
       "      <td>Allen, Mr. William Henry</td>\n",
       "      <td>male</td>\n",
       "      <td>35.0</td>\n",
       "      <td>0</td>\n",
       "      <td>0</td>\n",
       "      <td>373450</td>\n",
       "      <td>8.0500</td>\n",
       "      <td>NaN</td>\n",
       "      <td>S</td>\n",
       "    </tr>\n",
       "    <tr>\n",
       "      <th>5</th>\n",
       "      <td>6</td>\n",
       "      <td>0</td>\n",
       "      <td>3</td>\n",
       "      <td>Moran, Mr. James</td>\n",
       "      <td>male</td>\n",
       "      <td>NaN</td>\n",
       "      <td>0</td>\n",
       "      <td>0</td>\n",
       "      <td>330877</td>\n",
       "      <td>8.4583</td>\n",
       "      <td>NaN</td>\n",
       "      <td>Q</td>\n",
       "    </tr>\n",
       "    <tr>\n",
       "      <th>6</th>\n",
       "      <td>7</td>\n",
       "      <td>0</td>\n",
       "      <td>1</td>\n",
       "      <td>McCarthy, Mr. Timothy J</td>\n",
       "      <td>male</td>\n",
       "      <td>54.0</td>\n",
       "      <td>0</td>\n",
       "      <td>0</td>\n",
       "      <td>17463</td>\n",
       "      <td>51.8625</td>\n",
       "      <td>E46</td>\n",
       "      <td>S</td>\n",
       "    </tr>\n",
       "    <tr>\n",
       "      <th>7</th>\n",
       "      <td>8</td>\n",
       "      <td>0</td>\n",
       "      <td>3</td>\n",
       "      <td>Palsson, Master. Gosta Leonard</td>\n",
       "      <td>male</td>\n",
       "      <td>2.0</td>\n",
       "      <td>3</td>\n",
       "      <td>1</td>\n",
       "      <td>349909</td>\n",
       "      <td>21.0750</td>\n",
       "      <td>NaN</td>\n",
       "      <td>S</td>\n",
       "    </tr>\n",
       "    <tr>\n",
       "      <th>8</th>\n",
       "      <td>9</td>\n",
       "      <td>1</td>\n",
       "      <td>3</td>\n",
       "      <td>Johnson, Mrs. Oscar W (Elisabeth Vilhelmina Berg)</td>\n",
       "      <td>female</td>\n",
       "      <td>27.0</td>\n",
       "      <td>0</td>\n",
       "      <td>2</td>\n",
       "      <td>347742</td>\n",
       "      <td>11.1333</td>\n",
       "      <td>NaN</td>\n",
       "      <td>S</td>\n",
       "    </tr>\n",
       "    <tr>\n",
       "      <th>9</th>\n",
       "      <td>10</td>\n",
       "      <td>1</td>\n",
       "      <td>2</td>\n",
       "      <td>Nasser, Mrs. Nicholas (Adele Achem)</td>\n",
       "      <td>female</td>\n",
       "      <td>14.0</td>\n",
       "      <td>1</td>\n",
       "      <td>0</td>\n",
       "      <td>237736</td>\n",
       "      <td>30.0708</td>\n",
       "      <td>NaN</td>\n",
       "      <td>C</td>\n",
       "    </tr>\n",
       "  </tbody>\n",
       "</table>\n",
       "</div>"
      ],
      "text/plain": [
       "   PassengerId  Survived  Pclass  \\\n",
       "0            1         0       3   \n",
       "1            2         1       1   \n",
       "2            3         1       3   \n",
       "3            4         1       1   \n",
       "4            5         0       3   \n",
       "5            6         0       3   \n",
       "6            7         0       1   \n",
       "7            8         0       3   \n",
       "8            9         1       3   \n",
       "9           10         1       2   \n",
       "\n",
       "                                                Name     Sex   Age  SibSp  \\\n",
       "0                            Braund, Mr. Owen Harris    male  22.0      1   \n",
       "1  Cumings, Mrs. John Bradley (Florence Briggs Th...  female  38.0      1   \n",
       "2                             Heikkinen, Miss. Laina  female  26.0      0   \n",
       "3       Futrelle, Mrs. Jacques Heath (Lily May Peel)  female  35.0      1   \n",
       "4                           Allen, Mr. William Henry    male  35.0      0   \n",
       "5                                   Moran, Mr. James    male   NaN      0   \n",
       "6                            McCarthy, Mr. Timothy J    male  54.0      0   \n",
       "7                     Palsson, Master. Gosta Leonard    male   2.0      3   \n",
       "8  Johnson, Mrs. Oscar W (Elisabeth Vilhelmina Berg)  female  27.0      0   \n",
       "9                Nasser, Mrs. Nicholas (Adele Achem)  female  14.0      1   \n",
       "\n",
       "   Parch            Ticket     Fare Cabin Embarked  \n",
       "0      0         A/5 21171   7.2500   NaN        S  \n",
       "1      0          PC 17599  71.2833   C85        C  \n",
       "2      0  STON/O2. 3101282   7.9250   NaN        S  \n",
       "3      0            113803  53.1000  C123        S  \n",
       "4      0            373450   8.0500   NaN        S  \n",
       "5      0            330877   8.4583   NaN        Q  \n",
       "6      0             17463  51.8625   E46        S  \n",
       "7      1            349909  21.0750   NaN        S  \n",
       "8      2            347742  11.1333   NaN        S  \n",
       "9      0            237736  30.0708   NaN        C  "
      ]
     },
     "execution_count": 2,
     "metadata": {},
     "output_type": "execute_result"
    }
   ],
   "source": [
    "df.head(10)"
   ]
  },
  {
   "cell_type": "code",
   "execution_count": 3,
   "id": "66c8ec14-4102-4cf5-9f84-0898db4bc349",
   "metadata": {},
   "outputs": [
    {
     "name": "stdout",
     "output_type": "stream",
     "text": [
      "<class 'pandas.core.frame.DataFrame'>\n",
      "RangeIndex: 891 entries, 0 to 890\n",
      "Data columns (total 12 columns):\n",
      " #   Column       Non-Null Count  Dtype  \n",
      "---  ------       --------------  -----  \n",
      " 0   PassengerId  891 non-null    int64  \n",
      " 1   Survived     891 non-null    int64  \n",
      " 2   Pclass       891 non-null    int64  \n",
      " 3   Name         891 non-null    object \n",
      " 4   Sex          891 non-null    object \n",
      " 5   Age          714 non-null    float64\n",
      " 6   SibSp        891 non-null    int64  \n",
      " 7   Parch        891 non-null    int64  \n",
      " 8   Ticket       891 non-null    object \n",
      " 9   Fare         891 non-null    float64\n",
      " 10  Cabin        204 non-null    object \n",
      " 11  Embarked     889 non-null    object \n",
      "dtypes: float64(2), int64(5), object(5)\n",
      "memory usage: 83.7+ KB\n"
     ]
    }
   ],
   "source": [
    "df.info()"
   ]
  },
  {
   "cell_type": "code",
   "execution_count": 4,
   "id": "14ee9701-96d1-4151-83d1-7dcdf09f28b0",
   "metadata": {},
   "outputs": [],
   "source": [
    "# from ydata_profiling import ProfileReport as pr\n",
    "# pr(df)"
   ]
  },
  {
   "cell_type": "code",
   "execution_count": 19,
   "id": "63602107-dd16-4379-9716-d9ea4825f088",
   "metadata": {},
   "outputs": [],
   "source": [
    "from sklearn.impute import SimpleImputer\n"
   ]
  },
  {
   "cell_type": "code",
   "execution_count": 21,
   "id": "ff223b63-dac7-48ae-ad01-a7eb344b450e",
   "metadata": {},
   "outputs": [
    {
     "ename": "NameError",
     "evalue": "name 'sklearn' is not defined",
     "output_type": "error",
     "traceback": [
      "\u001b[1;31m---------------------------------------------------------------------------\u001b[0m",
      "\u001b[1;31mNameError\u001b[0m                                 Traceback (most recent call last)",
      "Cell \u001b[1;32mIn[21], line 1\u001b[0m\n\u001b[1;32m----> 1\u001b[0m \u001b[38;5;28mdir\u001b[39m(\u001b[43msklearn\u001b[49m\u001b[38;5;241m.\u001b[39mimpute)\n",
      "\u001b[1;31mNameError\u001b[0m: name 'sklearn' is not defined"
     ]
    }
   ],
   "source": [
    "dir(sklearn.impute)"
   ]
  },
  {
   "cell_type": "code",
   "execution_count": 23,
   "id": "c8d68b70-114d-4152-ba2a-1d4aa2e54fb5",
   "metadata": {},
   "outputs": [],
   "source": [
    "mean_impute=SimpleImputer(strategy=\"mean\")\n",
    "df[\"Age\"]=mean_impute.fit_transform(df[[\"Age\"]])"
   ]
  },
  {
   "cell_type": "code",
   "execution_count": 25,
   "id": "89a304b9-c6c3-4eb7-b542-a1c6e5f5b669",
   "metadata": {},
   "outputs": [
    {
     "data": {
      "text/plain": [
       "0    22.000000\n",
       "1    38.000000\n",
       "2    26.000000\n",
       "3    35.000000\n",
       "4    35.000000\n",
       "5    29.699118\n",
       "6    54.000000\n",
       "7     2.000000\n",
       "8    27.000000\n",
       "9    14.000000\n",
       "Name: Age, dtype: float64"
      ]
     },
     "execution_count": 25,
     "metadata": {},
     "output_type": "execute_result"
    }
   ],
   "source": [
    "df[\"Age\"].head(10)"
   ]
  },
  {
   "cell_type": "code",
   "execution_count": 27,
   "id": "ebcdd2a5-714b-4de1-9a70-0b51aaae0ac2",
   "metadata": {},
   "outputs": [
    {
     "name": "stdout",
     "output_type": "stream",
     "text": [
      "<class 'pandas.core.frame.DataFrame'>\n",
      "RangeIndex: 891 entries, 0 to 890\n",
      "Data columns (total 12 columns):\n",
      " #   Column       Non-Null Count  Dtype  \n",
      "---  ------       --------------  -----  \n",
      " 0   PassengerId  891 non-null    int64  \n",
      " 1   Survived     891 non-null    int64  \n",
      " 2   Pclass       891 non-null    int64  \n",
      " 3   Name         891 non-null    object \n",
      " 4   Sex          891 non-null    object \n",
      " 5   Age          891 non-null    float64\n",
      " 6   SibSp        891 non-null    int64  \n",
      " 7   Parch        891 non-null    int64  \n",
      " 8   Ticket       891 non-null    object \n",
      " 9   Fare         891 non-null    float64\n",
      " 10  Cabin        204 non-null    object \n",
      " 11  Embarked     889 non-null    object \n",
      "dtypes: float64(2), int64(5), object(5)\n",
      "memory usage: 83.7+ KB\n"
     ]
    }
   ],
   "source": [
    "df.info()"
   ]
  },
  {
   "cell_type": "code",
   "execution_count": 29,
   "id": "628471ca-6e49-429b-953d-7b25d7565886",
   "metadata": {},
   "outputs": [],
   "source": [
    "df.drop(\"Cabin\",axis=1,inplace=True)"
   ]
  },
  {
   "cell_type": "code",
   "execution_count": 31,
   "id": "c1ebb70e-1a5f-445d-8fb7-919c5a598498",
   "metadata": {},
   "outputs": [
    {
     "name": "stdout",
     "output_type": "stream",
     "text": [
      "<class 'pandas.core.frame.DataFrame'>\n",
      "RangeIndex: 891 entries, 0 to 890\n",
      "Data columns (total 11 columns):\n",
      " #   Column       Non-Null Count  Dtype  \n",
      "---  ------       --------------  -----  \n",
      " 0   PassengerId  891 non-null    int64  \n",
      " 1   Survived     891 non-null    int64  \n",
      " 2   Pclass       891 non-null    int64  \n",
      " 3   Name         891 non-null    object \n",
      " 4   Sex          891 non-null    object \n",
      " 5   Age          891 non-null    float64\n",
      " 6   SibSp        891 non-null    int64  \n",
      " 7   Parch        891 non-null    int64  \n",
      " 8   Ticket       891 non-null    object \n",
      " 9   Fare         891 non-null    float64\n",
      " 10  Embarked     889 non-null    object \n",
      "dtypes: float64(2), int64(5), object(4)\n",
      "memory usage: 76.7+ KB\n"
     ]
    }
   ],
   "source": [
    "df.info()"
   ]
  },
  {
   "cell_type": "code",
   "execution_count": 67,
   "id": "728d5ccb-c119-438a-810f-fb95d210317c",
   "metadata": {},
   "outputs": [],
   "source": [
    "from sklearn.impute import SimpleImputer\n"
   ]
  },
  {
   "cell_type": "code",
   "execution_count": 101,
   "id": "7701e11f-b49d-4737-9b9b-f7c1bdc167bd",
   "metadata": {},
   "outputs": [],
   "source": [
    "model=SimpleImputer(strategy=\"most_frequent\")\n"
   ]
  },
  {
   "cell_type": "code",
   "execution_count": 105,
   "id": "bca9df6e-dd4d-4b53-901e-239349b9c1c1",
   "metadata": {
    "scrolled": true
   },
   "outputs": [],
   "source": [
    "df['Embarked']=model.fit_transform(df[[\"Embarked\"]]).ravel()"
   ]
  },
  {
   "cell_type": "code",
   "execution_count": 107,
   "id": "9efe4145-3de3-488e-a0be-645bc2e0434e",
   "metadata": {},
   "outputs": [
    {
     "data": {
      "text/plain": [
       "0      S\n",
       "1      C\n",
       "2      S\n",
       "3      S\n",
       "4      S\n",
       "      ..\n",
       "886    S\n",
       "887    S\n",
       "888    S\n",
       "889    C\n",
       "890    Q\n",
       "Name: Embarked, Length: 891, dtype: object"
      ]
     },
     "execution_count": 107,
     "metadata": {},
     "output_type": "execute_result"
    }
   ],
   "source": [
    "df['Embarked']"
   ]
  },
  {
   "cell_type": "code",
   "execution_count": 109,
   "id": "41a59547-44c1-4605-abec-a2afe0a82e9c",
   "metadata": {},
   "outputs": [
    {
     "name": "stdout",
     "output_type": "stream",
     "text": [
      "<class 'pandas.core.frame.DataFrame'>\n",
      "RangeIndex: 891 entries, 0 to 890\n",
      "Data columns (total 11 columns):\n",
      " #   Column       Non-Null Count  Dtype  \n",
      "---  ------       --------------  -----  \n",
      " 0   PassengerId  891 non-null    int64  \n",
      " 1   Survived     891 non-null    int64  \n",
      " 2   Pclass       891 non-null    int64  \n",
      " 3   Name         891 non-null    object \n",
      " 4   Sex          891 non-null    object \n",
      " 5   Age          891 non-null    float64\n",
      " 6   SibSp        891 non-null    int64  \n",
      " 7   Parch        891 non-null    int64  \n",
      " 8   Ticket       891 non-null    object \n",
      " 9   Fare         891 non-null    float64\n",
      " 10  Embarked     891 non-null    object \n",
      "dtypes: float64(2), int64(5), object(4)\n",
      "memory usage: 76.7+ KB\n"
     ]
    }
   ],
   "source": [
    "df.info()"
   ]
  },
  {
   "cell_type": "code",
   "execution_count": 75,
   "id": "e79d36ab-9c82-46a1-b9db-8fe23b495685",
   "metadata": {},
   "outputs": [
    {
     "name": "stdout",
     "output_type": "stream",
     "text": [
      "['KNNImputer', 'MissingIndicator', 'SimpleImputer', '__all__', '__builtins__', '__cached__', '__doc__', '__file__', '__getattr__', '__loader__', '__name__', '__package__', '__path__', '__spec__', '_base', '_knn', 'typing']\n"
     ]
    }
   ],
   "source": [
    "import sklearn.impute\n",
    "print(dir(sklearn.impute))6"
   ]
  },
  {
   "cell_type": "code",
   "execution_count": 111,
   "id": "93df130c-7824-4c45-b7e7-9998e1898766",
   "metadata": {},
   "outputs": [],
   "source": [
    "# from ydata_profiling import ProfileReport as pr\n",
    "# pr(df)"
   ]
  },
  {
   "cell_type": "code",
   "execution_count": null,
   "id": "8c41b215-1a9b-4f4f-a8a0-f26eba2c2b05",
   "metadata": {},
   "outputs": [],
   "source": []
  }
 ],
 "metadata": {
  "kernelspec": {
   "display_name": "base",
   "language": "python",
   "name": "python3"
  },
  "language_info": {
   "codemirror_mode": {
    "name": "ipython",
    "version": 3
   },
   "file_extension": ".py",
   "mimetype": "text/x-python",
   "name": "python",
   "nbconvert_exporter": "python",
   "pygments_lexer": "ipython3",
   "version": "3.12.7"
  }
 },
 "nbformat": 4,
 "nbformat_minor": 5
}
