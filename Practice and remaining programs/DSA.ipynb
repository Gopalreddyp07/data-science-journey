{
 "cells": [
  {
   "cell_type": "code",
   "execution_count": 29,
   "id": "7901da01-d281-4588-9083-65be5259f9a0",
   "metadata": {},
   "outputs": [
    {
     "name": "stdout",
     "output_type": "stream",
     "text": [
      "[2, 4, 5, 22, 22, 23, 23, 33, 66, 99, 123, 123, 234, 234, 234, 456, 654, 765, 765, 876, 987, 2345]\n",
      "1741179714.6291041\n"
     ]
    }
   ],
   "source": [
    "#bubble sort:it follow the comparision with the beside element and sort\n",
    "# Ascending order using bubble sort\n",
    "import time\n",
    "lis=[2,5,22,66,33,99,22,123,23,4,2345,654,234,876,23,234,765,987,234,765,123,456]\n",
    "n=len(lis)\n",
    "# print(n)\n",
    "for i in range(n-1):\n",
    "    sorts=True\n",
    "    for j in range(n-i-1):\n",
    "        # print(n-i-1)\n",
    "        if lis[j]>lis[j+1]:\n",
    "            lis[j],lis[j+1]=lis[j+1],lis[j]\n",
    "            sorts=False\n",
    "    if sorts==True:\n",
    "        break;\n",
    "print(lis)\n",
    "print(time.time())"
   ]
  },
  {
   "cell_type": "code",
   "execution_count": 27,
   "id": "351ee4a9-f083-4d73-b064-aa5618a0094c",
   "metadata": {},
   "outputs": [
    {
     "name": "stdout",
     "output_type": "stream",
     "text": [
      "[2, 4, 5, 22, 22, 23, 23, 33, 66, 99, 123, 123, 234, 234, 234, 456, 654, 765, 765, 876, 987, 2345]\n",
      "1741179706.8648038\n"
     ]
    }
   ],
   "source": [
    "lis=[2,5,22,66,33,99,22,123,23,4,2345,654,234,876,23,234,765,987,234,765,123,456]\n",
    "n=len(lis)\n",
    "for i in range(n-1):\n",
    "    sort=True\n",
    "    for j in range(n-i-1):\n",
    "        if lis[j]>lis[j+1]:\n",
    "            lis[j],lis[j+1]=lis[j+1],lis[j]\n",
    "            sort=False\n",
    "    if sort==True:\n",
    "        break\n",
    "print(lis)\n",
    "print(time.time())"
   ]
  },
  {
   "cell_type": "code",
   "execution_count": 7,
   "id": "c7924a15-24ca-4ff3-98b3-056b7d35ac9a",
   "metadata": {},
   "outputs": [
    {
     "name": "stdout",
     "output_type": "stream",
     "text": [
      "[2345, 987, 876, 765, 765, 654, 456, 234, 234, 234, 123, 123, 99, 66, 33, 23, 23, 22, 22, 5, 4, 2]\n"
     ]
    },
    {
     "ename": "NameError",
     "evalue": "name 'time' is not defined",
     "output_type": "error",
     "traceback": [
      "\u001b[1;31m---------------------------------------------------------------------------\u001b[0m",
      "\u001b[1;31mNameError\u001b[0m                                 Traceback (most recent call last)",
      "Cell \u001b[1;32mIn[7], line 13\u001b[0m\n\u001b[0;32m     11\u001b[0m         \u001b[38;5;28;01mbreak\u001b[39;00m\n\u001b[0;32m     12\u001b[0m \u001b[38;5;28mprint\u001b[39m(lis1)\n\u001b[1;32m---> 13\u001b[0m \u001b[38;5;28mprint\u001b[39m(\u001b[43mtime\u001b[49m\u001b[38;5;241m.\u001b[39mtime())\n",
      "\u001b[1;31mNameError\u001b[0m: name 'time' is not defined"
     ]
    }
   ],
   "source": [
    "# Descending order using bubble sort\n",
    "lis1=[2,5,22,66,33,99,22,123,23,4,2345,654,234,876,23,234,765,987,234,765,123,456]\n",
    "n=len(lis1)\n",
    "for i in range(n-1):\n",
    "    sort=False\n",
    "    for j in range(n-i-1):\n",
    "        if lis1[j]<lis1[j+1]:\n",
    "            lis1[j],lis1[j+1]=lis1[j+1],lis1[j]\n",
    "            sort=True\n",
    "    if sort==False:\n",
    "        break\n",
    "print(lis1)\n",
    "print(time.time())"
   ]
  },
  {
   "cell_type": "code",
   "execution_count": 5,
   "id": "606677b8-a7e9-4593-ab25-3bbbb7d90d77",
   "metadata": {},
   "outputs": [
    {
     "name": "stdout",
     "output_type": "stream",
     "text": [
      "[2, 4, 5, 22, 22, 23, 23, 33, 66, 99, 123, 123, 234, 234, 234, 456, 654, 765, 765, 876, 987, 2345]\n",
      "1740812659.060255\n"
     ]
    }
   ],
   "source": [
    "# Selection sort is the sorting technique where it select the one element and compare the value with the \n",
    "# other values and and sort it in ascending or decending\n",
    "# Ascending order using selection sort\n",
    "lis=[2,5,22,66,33,99,22,123,23,4,2345,654,234,876,23,234,765,987,234,765,123,456]\n",
    "n=len(lis)\n",
    "for i in range(n-1):\n",
    "    for j in range(i+1,n):\n",
    "        if lis[i]>lis[j]:\n",
    "            lis[i],lis[j]=lis[j],lis[i]\n",
    "print(lis)\n",
    "print(time.time())"
   ]
  },
  {
   "cell_type": "code",
   "execution_count": 7,
   "id": "54985504-aaa9-4556-a40a-8be318dd3814",
   "metadata": {},
   "outputs": [
    {
     "ename": "SyntaxError",
     "evalue": "invalid syntax (1700630181.py, line 7)",
     "output_type": "error",
     "traceback": [
      "\u001b[1;36m  Cell \u001b[1;32mIn[7], line 7\u001b[1;36m\u001b[0m\n\u001b[1;33m    lis[i],li-=\u001b[0m\n\u001b[1;37m             ^\u001b[0m\n\u001b[1;31mSyntaxError\u001b[0m\u001b[1;31m:\u001b[0m invalid syntax\n"
     ]
    }
   ],
   "source": [
    "# decending order using selection sort\n",
    "lis=[2,5,22,66,33,99,22,123,23,4,2345,654,234,876,23,234,765,987,234,765,123,456]\n",
    "n=len(lis)\n",
    "for i in range(n-1):\n",
    "    for j in range(i+1,n):\n",
    "        if lis[i]<lis[j]:\n",
    "            lis[i],li-=\n",
    "            s[j]=lis[j],lis[i]\n",
    "print(lis)"
   ]
  },
  {
   "cell_type": "code",
   "execution_count": 9,
   "id": "44562f7a-3c85-4663-8911-c5340b413b2b",
   "metadata": {},
   "outputs": [
    {
     "name": "stdout",
     "output_type": "stream",
     "text": [
      "4\n",
      "1740812696.5342445\n"
     ]
    }
   ],
   "source": [
    "# linear search is used to search elements in the sequence one by one\n",
    "lis=[10,23,45,57,35,57,78,80]\n",
    "list1=lis.index(35)\n",
    "print(list1)\n",
    "print(time.time())"
   ]
  },
  {
   "cell_type": "code",
   "execution_count": 7,
   "id": "613446bb-692a-4c1d-b52c-d1161d2f6dc5",
   "metadata": {},
   "outputs": [
    {
     "name": "stdout",
     "output_type": "stream",
     "text": [
      "3\n"
     ]
    }
   ],
   "source": [
    "# Binary search is used to search it is used to search element on sorted array by comapring element\n",
    "def binary_search(arr,target):\n",
    "    mid=len(arr)//2\n",
    "    if target>avg:\n",
    "        \n",
    "print(time.time())     "
   ]
  },
  {
   "cell_type": "code",
   "execution_count": 23,
   "id": "7e24d600-0a77-465e-892b-223897d80cc0",
   "metadata": {},
   "outputs": [
    {
     "name": "stdout",
     "output_type": "stream",
     "text": [
      " 10\n"
     ]
    },
    {
     "data": {
      "text/plain": [
       "55"
      ]
     },
     "execution_count": 23,
     "metadata": {},
     "output_type": "execute_result"
    }
   ],
   "source": [
    "# Recursion-a function calling it self is called recursion\n",
    "def recursion(n):\n",
    "    if n>1:\n",
    "        return recursion(n-1)+recursion(n-2)\n",
    "    else:\n",
    "        return n\n",
    "recursion(int(input()))\n",
    "# print(recursion)\n"
   ]
  },
  {
   "cell_type": "code",
   "execution_count": 25,
   "id": "3e8c23a6-61c1-4a91-ba2b-a39ec18ac296",
   "metadata": {},
   "outputs": [
    {
     "name": "stdout",
     "output_type": "stream",
     "text": [
      "Enter a number:  10\n"
     ]
    },
    {
     "name": "stdout",
     "output_type": "stream",
     "text": [
      "Fibonacci(10) = 55\n"
     ]
    }
   ],
   "source": []
  },
  {
   "cell_type": "code",
   "execution_count": 1,
   "id": "6a6f11d9-f7ce-4913-842a-3d318237a474",
   "metadata": {},
   "outputs": [
    {
     "name": "stdout",
     "output_type": "stream",
     "text": [
      " 10\n"
     ]
    },
    {
     "data": {
      "text/plain": [
       "1"
      ]
     },
     "execution_count": 1,
     "metadata": {},
     "output_type": "execute_result"
    }
   ],
   "source": [
    "def fibbinacci(num):\n",
    "    a,b=0,1\n",
    "    if num==0:\n",
    "        return num\n",
    "    elif num==1:\n",
    "        return num\n",
    "    elif num<0:\n",
    "        return num\n",
    "    else:\n",
    "        for i in range(0,num-1):\n",
    "            a,b=b,a+b\n",
    "        return b\n",
    "fibbinacci(int(input()))"
   ]
  },
  {
   "cell_type": "code",
   "execution_count": 29,
   "id": "0f7bf02c-6458-40c5-b74f-7c31d505439b",
   "metadata": {},
   "outputs": [
    {
     "data": {
      "text/plain": [
       "55"
      ]
     },
     "execution_count": 29,
     "metadata": {},
     "output_type": "execute_result"
    }
   ],
   "source": [
    "def fibbinacci(num):\n",
    "    a,b=0,1\n",
    "    if num==0:\n",
    "        return num\n",
    "    elif num==1:\n",
    "        return num\n",
    "    elif num<0:\n",
    "        return num\n",
    "    else:\n",
    "        for i in range(num-1):\n",
    "            a,b=b,b+a\n",
    "        return b\n",
    "fibbinacci(10)"
   ]
  },
  {
   "cell_type": "code",
   "execution_count": 11,
   "id": "6ea40dc8-f36f-4b3b-b332-0c75f86c9c47",
   "metadata": {},
   "outputs": [
    {
     "name": "stdout",
     "output_type": "stream",
     "text": [
      "0 1 1 2 3 5 8 13 21 34 "
     ]
    }
   ],
   "source": [
    "# Recursion:the function calling it self is called recurion it is also used to find to the value at particular position\n",
    "def fibonacci(n):\n",
    "    if n <= 0:\n",
    "        return \"Invalid input\"\n",
    "    elif n == 1:\n",
    "        return 0\n",
    "    elif n == 2:\n",
    "        return 1\n",
    "    else:\n",
    "        return fibonacci(n-1) + fibonacci(n-2)\n",
    "# fibonacci(10+1)\n",
    "# Print the first 10 Fibonacci numbers\n",
    "for i in range(1, 11):\n",
    "    print(fibonacci(i), end=\" \")\n"
   ]
  },
  {
   "cell_type": "code",
   "execution_count": null,
   "id": "85a1cc8b",
   "metadata": {},
   "outputs": [],
   "source": []
  },
  {
   "cell_type": "code",
   "execution_count": 1,
   "id": "558181de-b8c0-435a-9420-aab3b7d055a5",
   "metadata": {},
   "outputs": [
    {
     "name": "stdout",
     "output_type": "stream",
     "text": [
      "7\n"
     ]
    }
   ],
   "source": [
    "# this is the program used to find the most profit and also used to calculate the best day to buy and sell\n",
    "lis1=[7,1,5,3,6,4]\n",
    "num=0\n",
    "for i in range(1,len(lis1)):\n",
    "    if lis1[i]>lis1[i-1]:\n",
    "        num+=lis1[i]-lis1[i-1]\n",
    "print(num)"
   ]
  },
  {
   "cell_type": "code",
   "execution_count": 31,
   "id": "ee71c26f-e16e-4385-8e6c-1ebb9fbd085d",
   "metadata": {},
   "outputs": [
    {
     "name": "stdout",
     "output_type": "stream",
     "text": [
      "[2, 4, 5, 22, 22, 23, 23, 33, 66, 99, 123, 123, 234, 234, 234, 456, 654, 765, 765, 876, 987, 2345]\n"
     ]
    }
   ],
   "source": [
    "# bubble sort\n",
    "lis1=[2,5,22,66,33,99,22,123,23,4,2345,654,234,876,23,234,765,987,234,765,123,456]\n",
    "n=len(lis1)\n",
    "for i in range(n-1):\n",
    "    for j in range(n-i-1):\n",
    "        if lis[j]>lis[j+1]:\n",
    "            lis[j],lis[j+1]=lis[j+1],lis[j]\n",
    "print(lis)"
   ]
  },
  {
   "cell_type": "code",
   "execution_count": null,
   "id": "9f3b8694-461a-4092-b429-738017a13dad",
   "metadata": {},
   "outputs": [],
   "source": []
  }
 ],
 "metadata": {
  "kernelspec": {
   "display_name": "Python 3 (ipykernel)",
   "language": "python",
   "name": "python3"
  },
  "language_info": {
   "codemirror_mode": {
    "name": "ipython",
    "version": 3
   },
   "file_extension": ".py",
   "mimetype": "text/x-python",
   "name": "python",
   "nbconvert_exporter": "python",
   "pygments_lexer": "ipython3",
   "version": "3.12.7"
  }
 },
 "nbformat": 4,
 "nbformat_minor": 5
}
