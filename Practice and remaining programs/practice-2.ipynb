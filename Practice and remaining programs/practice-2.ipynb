{
 "cells": [
  {
   "cell_type": "code",
   "execution_count": 1,
   "id": "f3688ddc-544c-4f44-bdcf-b44a91a03708",
   "metadata": {},
   "outputs": [
    {
     "name": "stdin",
     "output_type": "stream",
     "text": [
      " 5\n"
     ]
    },
    {
     "name": "stdout",
     "output_type": "stream",
     "text": [
      "5 is less than 10 and odd number\n"
     ]
    }
   ],
   "source": [
    "# print the number where number is greater than 10 and even number or else print odd  and less than 10\n",
    "num=int(input())\n",
    "if num>10 and num%2==0:\n",
    "    print(f\"{num} is greater than 10 and even number\")\n",
    "elif num>10 and num%2!=0:\n",
    "    print(f\"{num} is greater than 10 but it is odd number\")\n",
    "elif num<10 and num%2==0:\n",
    "    print(f\"{num} is less than 10 but even number\")\n",
    "else:\n",
    "    print(f\"{num} is less than 10 and odd number\")"
   ]
  },
  {
   "cell_type": "code",
   "execution_count": null,
   "id": "cd413104-35e6-4970-b381-16de8115a177",
   "metadata": {},
   "outputs": [],
   "source": [
    "# count number of vowels in the given string\n",
    "vowels=[\"a\",\"e\",\"i\",\"o\",\"u\"]\n",
    "str1=input(\"Enter the string:\")\n",
    "for i in str1:\n",
    "    for j in str1:\n",
    "        if i==j:\n",
    "            "
   ]
  }
 ],
 "metadata": {
  "kernelspec": {
   "display_name": "Python 3 (ipykernel)",
   "language": "python",
   "name": "python3"
  },
  "language_info": {
   "codemirror_mode": {
    "name": "ipython",
    "version": 3
   },
   "file_extension": ".py",
   "mimetype": "text/x-python",
   "name": "python",
   "nbconvert_exporter": "python",
   "pygments_lexer": "ipython3",
   "version": "3.12.7"
  }
 },
 "nbformat": 4,
 "nbformat_minor": 5
}
