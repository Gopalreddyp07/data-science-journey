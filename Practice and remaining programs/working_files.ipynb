{
 "cells": [
  {
   "cell_type": "code",
   "execution_count": 1,
   "id": "4db57201-611c-4439-9e4a-68b2799d9b1f",
   "metadata": {},
   "outputs": [
    {
     "name": "stdout",
     "output_type": "stream",
     "text": [
      "C:\\Users\\gopal\\Vcube\n"
     ]
    }
   ],
   "source": [
    "import os\n",
    "z=os.getcwd()\n",
    "print(z)"
   ]
  },
  {
   "cell_type": "code",
   "execution_count": 3,
   "id": "adca0d12-9368-415b-bcf9-b7a9a57fef67",
   "metadata": {},
   "outputs": [
    {
     "name": "stdout",
     "output_type": "stream",
     "text": [
      "['.ipynb_checkpoints', 'problems1.ipynb', 'vcube.ipynb', 'vcube_lab 3.ipynb', 'vcube_lab_11.ipynb', 'vcube_lab_4.ipynb', 'vcube_lab_5.ipynb', 'Vcube_lab_6.ipynb', 'vcube_lab_7.ipynb', 'vcube_lab_8.ipynb', 'working_files.ipynb']\n"
     ]
    }
   ],
   "source": [
    "files=os.listdir()\n",
    "print(files)"
   ]
  },
  {
   "cell_type": "code",
   "execution_count": null,
   "id": "ad0fa8ab-af9f-4d63-bebb-d7ea09a2afbd",
   "metadata": {},
   "outputs": [],
   "source": [
    "other_files=os.listdir()"
   ]
  }
 ],
 "metadata": {
  "kernelspec": {
   "display_name": "Python 3 (ipykernel)",
   "language": "python",
   "name": "python3"
  },
  "language_info": {
   "codemirror_mode": {
    "name": "ipython",
    "version": 3
   },
   "file_extension": ".py",
   "mimetype": "text/x-python",
   "name": "python",
   "nbconvert_exporter": "python",
   "pygments_lexer": "ipython3",
   "version": "3.12.7"
  }
 },
 "nbformat": 4,
 "nbformat_minor": 5
}
