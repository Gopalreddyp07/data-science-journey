{
 "cells": [
  {
   "cell_type": "code",
   "execution_count": 1,
   "id": "ce8f0a6b-cad6-4530-902f-b3a5f131a19b",
   "metadata": {},
   "outputs": [
    {
     "name": "stdout",
     "output_type": "stream",
     "text": [
      "hello world\n"
     ]
    }
   ],
   "source": [
    "print(\"hello world\")"
   ]
  },
  {
   "cell_type": "code",
   "execution_count": 68,
   "id": "4fd046b0-fe78-431a-8b41-61795da86724",
   "metadata": {},
   "outputs": [
    {
     "name": "stdin",
     "output_type": "stream",
     "text": [
      " Walking  \n"
     ]
    },
    {
     "name": "stdout",
     "output_type": "stream",
     "text": [
      "Walkingly\n"
     ]
    }
   ],
   "source": [
    "# 1. Write a python function to add 'ing' at the end of a given string and return the new string. \n",
    "# If the given string already ends with 'ing' then add 'ly'.\n",
    "# If the length of the given string is less than 3, leave it unchanged.\n",
    "def adding(str1):\n",
    "    if len(str1)>3:\n",
    "        if str1.endswith(\"ing\"):\n",
    "            return (str1+\"ly\")\n",
    "        return (str1+\"ing\")\n",
    "    return (str1)\n",
    "b=input().strip()\n",
    "a=adding(b)\n",
    "print(a)"
   ]
  },
  {
   "cell_type": "code",
   "execution_count": 82,
   "id": "a4bb2514-740f-4394-ac06-1e8856e192ea",
   "metadata": {},
   "outputs": [
    {
     "name": "stdout",
     "output_type": "stream",
     "text": [
      "{'AAPL': 612.78, 'IBM': 205.55}\n"
     ]
    }
   ],
   "source": [
    "# 2. Write a python function to create and return a new dictionary from the given dictionary(item:price).\n",
    "# Given the following input, create a new dictionary with elements having price more than 200.\n",
    "# prices = {'ACME': 45.23,'AAPL': 612.78, 'IBM': 205.55,'HPQ': 37.20,'FB': 10.75} \n",
    "prices = {'ACME': 45.23,'AAPL': 612.78, 'IBM': 205.55,'HPQ': 37.20,'FB': 10.75}\n",
    "more_200={}\n",
    "for i in prices:\n",
    "    if prices.get(i)>200:\n",
    "        more_200[i]=prices[i]\n",
    "print(more_200)"
   ]
  },
  {
   "cell_type": "code",
   "execution_count": 92,
   "id": "25c11931-8c18-4a0f-95ac-92520c19398f",
   "metadata": {},
   "outputs": [
    {
     "data": {
      "text/plain": [
       "False"
      ]
     },
     "execution_count": 92,
     "metadata": {},
     "output_type": "execute_result"
    }
   ],
   "source": [
    "# 3. Given a list of numbers, write a python function which returns true if one of the first 4 elements in the list is 9. Otherwise it should return false.\n",
    "# The length of the list can be less than 4 also.\n",
    "# Sample Input\tExpected Output\n",
    "# [1, 2, 9, 3, 4]\tTrue\n",
    "# [1, 2,3,4]\tFalse\n",
    "def finds(list1):\n",
    "    for i in range(0,4):\n",
    "        if list1[i]==9:\n",
    "            return True\n",
    "    return False\n",
    "list1=[1,2,9,3,4]\n",
    "list2=[1,2,3,4]\n",
    "finds(list1)\n",
    "finds(list2)"
   ]
  },
  {
   "cell_type": "code",
   "execution_count": 112,
   "id": "802c4bb3-65de-4d62-a41f-880cc48dbef1",
   "metadata": {},
   "outputs": [
    {
     "data": {
      "text/plain": [
       "[36, 7]"
      ]
     },
     "execution_count": 112,
     "metadata": {},
     "output_type": "execute_result"
    }
   ],
   "source": [
    "# 4. Write a python function which accepts a sentence and finds the number of letters and digits in the sentence.\n",
    "# It should return a list in which the first value should be letter count and second value should be digit count. Ignore the spaces or any other special character in the sentence.\n",
    "def counts(str1):\n",
    "    alphabets=0\n",
    "    digitss=0\n",
    "    list1=[]\n",
    "    for i in str1:\n",
    "        if i.isalpha():\n",
    "            alphabets+=1\n",
    "        elif i.isdigit():\n",
    "            digitss+=1\n",
    "        else:\n",
    "            pass\n",
    "    list1.append(alphabets)\n",
    "    list1.append(digitss)\n",
    "\n",
    "    return wordslist1\n",
    "str1=\"Hello my name is Gopal reddy my roll no is 21W91A05K6\"\n",
    "counts(str1)"
   ]
  },
  {
   "cell_type": "code",
   "execution_count": 3,
   "id": "ed9fd7b4-d75d-45e7-87b9-49a092ea951d",
   "metadata": {},
   "outputs": [
    {
     "name": "stdin",
     "output_type": "stream",
     "text": [
      " 5\n",
      " 1 0 3 0 2 6 7 3 7 6\n"
     ]
    },
    {
     "name": "stdout",
     "output_type": "stream",
     "text": [
      "[1, 3, 2, 0, 0]\n",
      "7\n"
     ]
    }
   ],
   "source": [
    "# chocolate  problem if the value is zero add the value to the last of the list \n",
    "num=int(input())\n",
    "arr=list(map(int,input().split()))[:num]\n",
    "count=0\n",
    "for i in range(len(arr)-1):\n",
    "    if arr[i]==0:\n",
    "        z=arr.pop(i)\n",
    "        arr.append(z)\n",
    "        count+=1\n",
    "    count+=1\n",
    "print(arr)\n",
    "print(count)"
   ]
  },
  {
   "cell_type": "code",
   "execution_count": null,
   "id": "dba462e0-b78d-483c-afc3-80ae2fcc32e9",
   "metadata": {},
   "outputs": [],
   "source": []
  }
 ],
 "metadata": {
  "kernelspec": {
   "display_name": "Python 3 (ipykernel)",
   "language": "python",
   "name": "python3"
  },
  "language_info": {
   "codemirror_mode": {
    "name": "ipython",
    "version": 3
   },
   "file_extension": ".py",
   "mimetype": "text/x-python",
   "name": "python",
   "nbconvert_exporter": "python",
   "pygments_lexer": "ipython3",
   "version": "3.12.7"
  }
 },
 "nbformat": 4,
 "nbformat_minor": 5
}
