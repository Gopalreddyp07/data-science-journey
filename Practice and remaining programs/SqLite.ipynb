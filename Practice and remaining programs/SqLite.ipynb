{
 "cells": [
  {
   "cell_type": "code",
   "execution_count": 1,
   "id": "d6d20442-47ca-46c8-9e3c-b199010db764",
   "metadata": {},
   "outputs": [
    {
     "ename": "OperationalError",
     "evalue": "incomplete input",
     "output_type": "error",
     "traceback": [
      "\u001b[1;31m---------------------------------------------------------------------------\u001b[0m",
      "\u001b[1;31mOperationalError\u001b[0m                          Traceback (most recent call last)",
      "Cell \u001b[1;32mIn[1], line 7\u001b[0m\n\u001b[0;32m      3\u001b[0m cur\u001b[38;5;241m=\u001b[39mconn\u001b[38;5;241m.\u001b[39mcursor()\n\u001b[0;32m      4\u001b[0m cur\u001b[38;5;241m.\u001b[39mexecute(\u001b[38;5;124m'''\u001b[39m\u001b[38;5;124mCreate table Employees (           \u001b[39m\n\u001b[0;32m      5\u001b[0m \u001b[38;5;124mid primarykey int,name text,age int,class int(2)\u001b[39m\n\u001b[0;32m      6\u001b[0m \u001b[38;5;124m);\u001b[39m\u001b[38;5;124m'''\u001b[39m)\n\u001b[1;32m----> 7\u001b[0m \u001b[43mcur\u001b[49m\u001b[38;5;241;43m.\u001b[39;49m\u001b[43mexecute\u001b[49m\u001b[43m(\u001b[49m\u001b[38;5;124;43m\"\u001b[39;49m\u001b[38;5;124;43minsert into employees values(02,\u001b[39;49m\u001b[38;5;130;43;01m\\\"\u001b[39;49;00m\u001b[38;5;124;43mRamu\u001b[39;49m\u001b[38;5;130;43;01m\\\"\u001b[39;49;00m\u001b[38;5;124;43m,24,12\u001b[39;49m\u001b[38;5;124;43m\"\u001b[39;49m\u001b[43m)\u001b[49m\n",
      "\u001b[1;31mOperationalError\u001b[0m: incomplete input"
     ]
    }
   ],
   "source": [
    "import sqlite3 as sql\n",
    "conn=sql.connect(\"Employee.db\")\n",
    "cur=conn.cursor()\n",
    "cur.execute('''Create table Employees (           \n",
    "id primarykey int,name text,age int,class int(2)\n",
    ");''')\n",
    "cur.execute(\"insert into employees values(02,\\\"Ramu\\\",24,12\")\n"
   ]
  },
  {
   "cell_type": "code",
   "execution_count": 176,
   "id": "d398195e-5344-4da0-9283-fb71bbb068fa",
   "metadata": {},
   "outputs": [
    {
     "ename": "OperationalError",
     "evalue": "database is locked",
     "output_type": "error",
     "traceback": [
      "\u001b[1;31m---------------------------------------------------------------------------\u001b[0m",
      "\u001b[1;31mOperationalError\u001b[0m                          Traceback (most recent call last)",
      "Cell \u001b[1;32mIn[176], line 1\u001b[0m\n\u001b[1;32m----> 1\u001b[0m \u001b[43mcur\u001b[49m\u001b[38;5;241;43m.\u001b[39;49m\u001b[43mexecute\u001b[49m\u001b[43m(\u001b[49m\u001b[38;5;124;43m\"\u001b[39;49m\u001b[38;5;124;43minsert into employees values(03,\u001b[39;49m\u001b[38;5;124;43m'\u001b[39;49m\u001b[38;5;124;43mRamu\u001b[39;49m\u001b[38;5;124;43m'\u001b[39;49m\u001b[38;5;124;43m,24,12);\u001b[39;49m\u001b[38;5;124;43m\"\u001b[39;49m\u001b[43m)\u001b[49m\n",
      "\u001b[1;31mOperationalError\u001b[0m: database is locked"
     ]
    }
   ],
   "source": [
    "cur.execute(\"insert into employees values(03,'Ramu',24,12);\")"
   ]
  },
  {
   "cell_type": "code",
   "execution_count": 171,
   "id": "824d9d9a-b5bc-4f2f-adc0-9f25100a8ebc",
   "metadata": {},
   "outputs": [
    {
     "ename": "OperationalError",
     "evalue": "database is locked",
     "output_type": "error",
     "traceback": [
      "\u001b[1;31m---------------------------------------------------------------------------\u001b[0m",
      "\u001b[1;31mOperationalError\u001b[0m                          Traceback (most recent call last)",
      "Cell \u001b[1;32mIn[171], line 1\u001b[0m\n\u001b[1;32m----> 1\u001b[0m \u001b[43mcur\u001b[49m\u001b[38;5;241;43m.\u001b[39;49m\u001b[43mexecute\u001b[49m\u001b[43m(\u001b[49m\u001b[38;5;124;43m\"\u001b[39;49m\u001b[38;5;124;43minsert into employees values(04,\u001b[39;49m\u001b[38;5;130;43;01m\\\"\u001b[39;49;00m\u001b[38;5;124;43mRaju\u001b[39;49m\u001b[38;5;130;43;01m\\\"\u001b[39;49;00m\u001b[38;5;124;43m,23,2);\u001b[39;49m\u001b[38;5;124;43m\"\u001b[39;49m\u001b[43m)\u001b[49m\n",
      "\u001b[1;31mOperationalError\u001b[0m: database is locked"
     ]
    }
   ],
   "source": [
    "cur.execute(\"insert into employees values(04,\\\"Raju\\\",23,2);\")"
   ]
  },
  {
   "cell_type": "code",
   "execution_count": 174,
   "id": "b9696065-6c85-4f46-9876-108cc8df7ef9",
   "metadata": {},
   "outputs": [
    {
     "data": {
      "text/plain": [
       "[]"
      ]
     },
     "execution_count": 174,
     "metadata": {},
     "output_type": "execute_result"
    }
   ],
   "source": [
    "cur.fetchall()"
   ]
  },
  {
   "cell_type": "code",
   "execution_count": 21,
   "id": "f1e3d273-1fbf-45eb-93c9-48f2ccc601d8",
   "metadata": {},
   "outputs": [],
   "source": [
    "import sqlite3\n",
    "conn=sqlite3.connect(\"studen10t.db\")"
   ]
  },
  {
   "cell_type": "code",
   "execution_count": 27,
   "id": "5f5c6711-c644-452a-968f-a647f48ed518",
   "metadata": {},
   "outputs": [
    {
     "ename": "IntegrityError",
     "evalue": "UNIQUE constraint failed: students.STUDENT_ID",
     "output_type": "error",
     "traceback": [
      "\u001b[1;31m---------------------------------------------------------------------------\u001b[0m",
      "\u001b[1;31mIntegrityError\u001b[0m                            Traceback (most recent call last)",
      "Cell \u001b[1;32mIn[27], line 15\u001b[0m\n\u001b[0;32m      8\u001b[0m cur\u001b[38;5;241m.\u001b[39mfetchall()\n\u001b[0;32m      9\u001b[0m student_values\u001b[38;5;241m=\u001b[39m[(\u001b[38;5;241m1\u001b[39m,\u001b[38;5;124m\"\u001b[39m\u001b[38;5;124mramu\u001b[39m\u001b[38;5;124m\"\u001b[39m,\u001b[38;5;241m22\u001b[39m,\u001b[38;5;241m12\u001b[39m),\n\u001b[0;32m     10\u001b[0m                (\u001b[38;5;241m2\u001b[39m,\u001b[38;5;124m\"\u001b[39m\u001b[38;5;124mRaju\u001b[39m\u001b[38;5;124m\"\u001b[39m,\u001b[38;5;241m21\u001b[39m,\u001b[38;5;241m11\u001b[39m),\n\u001b[0;32m     11\u001b[0m                (\u001b[38;5;241m3\u001b[39m,\u001b[38;5;124m\"\u001b[39m\u001b[38;5;124mgopi\u001b[39m\u001b[38;5;124m\"\u001b[39m,\u001b[38;5;241m21\u001b[39m,\u001b[38;5;241m12\u001b[39m),\n\u001b[0;32m     12\u001b[0m                (\u001b[38;5;241m4\u001b[39m,\u001b[38;5;124m\"\u001b[39m\u001b[38;5;124mSanthosh\u001b[39m\u001b[38;5;124m\"\u001b[39m,\u001b[38;5;241m22\u001b[39m,\u001b[38;5;241m13\u001b[39m),\n\u001b[0;32m     13\u001b[0m                (\u001b[38;5;241m5\u001b[39m,\u001b[38;5;124m\"\u001b[39m\u001b[38;5;124makhil\u001b[39m\u001b[38;5;124m\"\u001b[39m,\u001b[38;5;241m22\u001b[39m,\u001b[38;5;241m12\u001b[39m),\n\u001b[0;32m     14\u001b[0m                (\u001b[38;5;241m6\u001b[39m,\u001b[38;5;124m\"\u001b[39m\u001b[38;5;124mSunil\u001b[39m\u001b[38;5;124m\"\u001b[39m,\u001b[38;5;241m23\u001b[39m,\u001b[38;5;241m11\u001b[39m)]\n\u001b[1;32m---> 15\u001b[0m \u001b[43mcur\u001b[49m\u001b[38;5;241;43m.\u001b[39;49m\u001b[43mexecutemany\u001b[49m\u001b[43m(\u001b[49m\u001b[38;5;124;43m\"\u001b[39;49m\u001b[38;5;124;43mINSERT INTO STUDENTS VALUES(?,?,?,?)\u001b[39;49m\u001b[38;5;124;43m\"\u001b[39;49m\u001b[43m,\u001b[49m\u001b[43mstudent_values\u001b[49m\u001b[43m)\u001b[49m\n\u001b[0;32m     16\u001b[0m \u001b[38;5;66;03m#cur.revoke()\u001b[39;00m\n",
      "\u001b[1;31mIntegrityError\u001b[0m: UNIQUE constraint failed: students.STUDENT_ID"
     ]
    }
   ],
   "source": [
    "\n",
    "cur=conn.cursor()\n",
    "cur.execute('''CREATE table IF NOT EXISTS students(\n",
    "STUDENT_ID INT PRIMARY KEY,\n",
    "NAME TEXT, \n",
    "AGE INT,\n",
    "CLASS INT\n",
    ")''')\n",
    "cur.fetchall()\n",
    "student_values=[(1,\"ramu\",22,12),\n",
    "               (2,\"Raju\",21,11),\n",
    "               (3,\"gopi\",21,12),\n",
    "               (4,\"Santhosh\",22,13),\n",
    "               (5,\"akhil\",22,12),\n",
    "               (6,\"Sunil\",23,11)]\n",
    "cur.executemany(\"INSERT INTO STUDENTS VALUES(?,?,?,?)\",student_values)\n",
    "#cur.revoke()"
   ]
  },
  {
   "cell_type": "code",
   "execution_count": 35,
   "id": "fe9c6d61-9675-4edc-aa6e-c7c7ff47ce66",
   "metadata": {},
   "outputs": [
    {
     "name": "stdout",
     "output_type": "stream",
     "text": [
      "(1, 'ramu', 22, 12)\n",
      "(2, 'Raju', 21, 11)\n",
      "(3, 'gopi', 21, 12)\n",
      "(4, 'Santhosh', 22, 13)\n",
      "(5, 'akhil', 22, 12)\n",
      "(6, 'Sunil', 23, 11)\n"
     ]
    }
   ],
   "source": [
    "cur.execute(\"select * from students\")\n",
    "rows=cur.fetchall()\n",
    "for i in rows:\n",
    "    print (i)"
   ]
  },
  {
   "cell_type": "code",
   "execution_count": null,
   "id": "e4023f94-4ea5-475a-8b61-c4b5c9671f4b",
   "metadata": {},
   "outputs": [],
   "source": []
  }
 ],
 "metadata": {
  "kernelspec": {
   "display_name": "Python 3 (ipykernel)",
   "language": "python",
   "name": "python3"
  },
  "language_info": {
   "codemirror_mode": {
    "name": "ipython",
    "version": 3
   },
   "file_extension": ".py",
   "mimetype": "text/x-python",
   "name": "python",
   "nbconvert_exporter": "python",
   "pygments_lexer": "ipython3",
   "version": "3.12.7"
  }
 },
 "nbformat": 4,
 "nbformat_minor": 5
}
